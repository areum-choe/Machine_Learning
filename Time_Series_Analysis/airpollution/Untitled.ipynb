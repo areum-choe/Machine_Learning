{
 "cells": [
  {
   "cell_type": "code",
   "execution_count": 40,
   "id": "e56973f2",
   "metadata": {},
   "outputs": [],
   "source": [
    "import matplotlib.pyplot as plt      #시각화를 위한 설치\n",
    "import matplotlib.font_manager as fm    # 한글 폰트\n",
    "import matplotlib                   #시각화를 위한 설치\n",
    "import os, warnings  \n",
    "import pandas as pd                #구조 변경 및 결합을 하기 위한 설치\n",
    "import seaborn as sns              #시각화를 위한 설치\n",
    "import plotly.express as px        #시각화를 위한 설치\n",
    "\n",
    "warnings.filterwarnings('ignore')\n",
    "\n",
    "pd.set_option('display.max_rows', None)         #모든 행을 다 보여주라는 명령\n",
    "pd.set_option('display.max_columns', None)      #모든 열을 다 보여주라는 명령"
   ]
  },
  {
   "cell_type": "code",
   "execution_count": 41,
   "id": "71831847",
   "metadata": {},
   "outputs": [],
   "source": [
    "# 그래프에서 마이너스 폰트 깨지는 문제에 대한 대처\n",
    "matplotlib.rcParams['axes.unicode_minus'] = False\n",
    "## 한글 폰트 적용 ( 안하면 한글 깨짐 )\n",
    "f_name = fm.FontProperties(fname=\"C:/Windows/Fonts/malgunbd.ttf\").get_name()\n",
    "plt.rc('font', family=f_name)"
   ]
  },
  {
   "cell_type": "code",
   "execution_count": null,
   "id": "8fc9f98b",
   "metadata": {},
   "outputs": [],
   "source": [
    "airpollution_2020= pd.read_csv('day.csv',encoding='ANSI')"
   ]
  },
  {
   "cell_type": "code",
   "execution_count": null,
   "id": "edba63ff",
   "metadata": {},
   "outputs": [],
   "source": [
    "airpollution_2020"
   ]
  },
  {
   "cell_type": "code",
   "execution_count": 62,
   "id": "0b75d03a",
   "metadata": {},
   "outputs": [],
   "source": [
    "from fbprophet import Prophet"
   ]
  },
  {
   "cell_type": "code",
   "execution_count": null,
   "id": "5507b8f3",
   "metadata": {},
   "outputs": [],
   "source": [
    "airpollution_2020.columns=['ds','y']"
   ]
  },
  {
   "cell_type": "code",
   "execution_count": null,
   "id": "c8d4ede7",
   "metadata": {},
   "outputs": [],
   "source": [
    "airpollution_2020['ds']=airpollution_2020['ds'].astype('str')"
   ]
  },
  {
   "cell_type": "code",
   "execution_count": null,
   "id": "4dfb8d19",
   "metadata": {},
   "outputs": [],
   "source": [
    "airpollution_2020['ds']=pd.to_datetime(airpollution_2020['ds'])"
   ]
  },
  {
   "cell_type": "code",
   "execution_count": null,
   "id": "91ec5d13",
   "metadata": {},
   "outputs": [],
   "source": [
    "prophet = Prophet(seasonality_mode = 'multiplicative',\n",
    "                 yearly_seasonality=True, \n",
    "                 weekly_seasonality=True,\n",
    "                 daily_seasonality=True,\n",
    "                 changepoint_prior_scale=0.5)\n",
    "prophet.fit(airpollution_2020)"
   ]
  }
 ],
 "metadata": {
  "kernelspec": {
   "display_name": "Python 3",
   "language": "python",
   "name": "python3"
  },
  "language_info": {
   "codemirror_mode": {
    "name": "ipython",
    "version": 3
   },
   "file_extension": ".py",
   "mimetype": "text/x-python",
   "name": "python",
   "nbconvert_exporter": "python",
   "pygments_lexer": "ipython3",
   "version": "3.8.8"
  }
 },
 "nbformat": 4,
 "nbformat_minor": 5
}
