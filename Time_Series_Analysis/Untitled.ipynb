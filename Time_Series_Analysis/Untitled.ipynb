{
 "cells": [
  {
   "cell_type": "code",
   "execution_count": 1,
   "id": "c4fbbc90",
   "metadata": {},
   "outputs": [],
   "source": [
    "import matplotlib.pyplot as plt      #시각화를 위한 설치\n",
    "import matplotlib.font_manager as fm    # 한글 폰트\n",
    "import matplotlib                   #시각화를 위한 설치\n",
    "import os, warnings  \n",
    "import pandas as pd                #구조 변경 및 결합을 하기 위한 설치\n",
    "import seaborn as sns              #시각화를 위한 설치\n",
    "import plotly.express as px        #시각화를 위한 설치\n",
    "\n",
    "warnings.filterwarnings('ignore')\n",
    "\n",
    "pd.set_option('display.max_rows', None)         #모든 행을 다 보여주라는 명령\n",
    "pd.set_option('display.max_columns', None)      #모든 열을 다 보여주라는 명령"
   ]
  },
  {
   "cell_type": "code",
   "execution_count": 2,
   "id": "ec50d652",
   "metadata": {},
   "outputs": [],
   "source": [
    "import FinanceDataReader as fdr"
   ]
  },
  {
   "cell_type": "code",
   "execution_count": 3,
   "id": "dac09717",
   "metadata": {},
   "outputs": [
    {
     "data": {
      "text/html": [
       "<div>\n",
       "<style scoped>\n",
       "    .dataframe tbody tr th:only-of-type {\n",
       "        vertical-align: middle;\n",
       "    }\n",
       "\n",
       "    .dataframe tbody tr th {\n",
       "        vertical-align: top;\n",
       "    }\n",
       "\n",
       "    .dataframe thead th {\n",
       "        text-align: right;\n",
       "    }\n",
       "</style>\n",
       "<table border=\"1\" class=\"dataframe\">\n",
       "  <thead>\n",
       "    <tr style=\"text-align: right;\">\n",
       "      <th></th>\n",
       "      <th>Open</th>\n",
       "      <th>High</th>\n",
       "      <th>Low</th>\n",
       "      <th>Close</th>\n",
       "      <th>Volume</th>\n",
       "      <th>Change</th>\n",
       "    </tr>\n",
       "    <tr>\n",
       "      <th>Date</th>\n",
       "      <th></th>\n",
       "      <th></th>\n",
       "      <th></th>\n",
       "      <th></th>\n",
       "      <th></th>\n",
       "      <th></th>\n",
       "    </tr>\n",
       "  </thead>\n",
       "  <tbody>\n",
       "    <tr>\n",
       "      <th>2021-10-14</th>\n",
       "      <td>69000</td>\n",
       "      <td>69800</td>\n",
       "      <td>68800</td>\n",
       "      <td>69400</td>\n",
       "      <td>19520641</td>\n",
       "      <td>0.008721</td>\n",
       "    </tr>\n",
       "    <tr>\n",
       "      <th>2021-10-15</th>\n",
       "      <td>70200</td>\n",
       "      <td>71000</td>\n",
       "      <td>70000</td>\n",
       "      <td>70100</td>\n",
       "      <td>18051612</td>\n",
       "      <td>0.010086</td>\n",
       "    </tr>\n",
       "    <tr>\n",
       "      <th>2021-10-18</th>\n",
       "      <td>70200</td>\n",
       "      <td>70300</td>\n",
       "      <td>69200</td>\n",
       "      <td>70200</td>\n",
       "      <td>13486391</td>\n",
       "      <td>0.001427</td>\n",
       "    </tr>\n",
       "    <tr>\n",
       "      <th>2021-10-19</th>\n",
       "      <td>70800</td>\n",
       "      <td>71000</td>\n",
       "      <td>70400</td>\n",
       "      <td>70600</td>\n",
       "      <td>9507991</td>\n",
       "      <td>0.005698</td>\n",
       "    </tr>\n",
       "    <tr>\n",
       "      <th>2021-10-20</th>\n",
       "      <td>70700</td>\n",
       "      <td>71000</td>\n",
       "      <td>70200</td>\n",
       "      <td>70400</td>\n",
       "      <td>9212560</td>\n",
       "      <td>-0.002833</td>\n",
       "    </tr>\n",
       "  </tbody>\n",
       "</table>\n",
       "</div>"
      ],
      "text/plain": [
       "             Open   High    Low  Close    Volume    Change\n",
       "Date                                                      \n",
       "2021-10-14  69000  69800  68800  69400  19520641  0.008721\n",
       "2021-10-15  70200  71000  70000  70100  18051612  0.010086\n",
       "2021-10-18  70200  70300  69200  70200  13486391  0.001427\n",
       "2021-10-19  70800  71000  70400  70600   9507991  0.005698\n",
       "2021-10-20  70700  71000  70200  70400   9212560 -0.002833"
      ]
     },
     "execution_count": 3,
     "metadata": {},
     "output_type": "execute_result"
    }
   ],
   "source": [
    "#삼성전자 (005930) 전체\n",
    "STOCK_CODE='005930'\n",
    "stock=fdr.DataReader(STOCK_CODE)\n",
    "stock.tail()"
   ]
  },
  {
   "cell_type": "code",
   "execution_count": null,
   "id": "ca2b1199",
   "metadata": {},
   "outputs": [],
   "source": []
  }
 ],
 "metadata": {
  "kernelspec": {
   "display_name": "Python 3",
   "language": "python",
   "name": "python3"
  },
  "language_info": {
   "codemirror_mode": {
    "name": "ipython",
    "version": 3
   },
   "file_extension": ".py",
   "mimetype": "text/x-python",
   "name": "python",
   "nbconvert_exporter": "python",
   "pygments_lexer": "ipython3",
   "version": "3.8.8"
  }
 },
 "nbformat": 4,
 "nbformat_minor": 5
}
