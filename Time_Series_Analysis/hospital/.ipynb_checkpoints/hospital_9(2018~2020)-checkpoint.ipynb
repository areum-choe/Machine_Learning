{
 "cells": [
  {
   "cell_type": "code",
   "execution_count": 1,
   "id": "273afaf2",
   "metadata": {},
   "outputs": [],
   "source": [
    "import matplotlib.pyplot as plt      #시각화를 위한 설치\n",
    "import matplotlib.font_manager as fm    # 한글 폰트\n",
    "import matplotlib                   #시각화를 위한 설치\n",
    "%matplotlib inline \n",
    "import os, warnings  \n",
    "import pandas as pd                #구조 변경 및 결합을 하기 위한 설치\n",
    "\n",
    "warnings.filterwarnings('ignore')\n",
    "\n",
    "pd.set_option('display.max_rows', None)         #모든 행을 다 보여주라는 명령\n",
    "pd.set_option('display.max_columns', None)      #모든 열을 다 보여주라는 명령"
   ]
  },
  {
   "cell_type": "code",
   "execution_count": 2,
   "id": "6e42150a",
   "metadata": {},
   "outputs": [],
   "source": [
    "# 그래프에서 마이너스 폰트 깨지는 문제에 대한 대처\n",
    "matplotlib.rcParams['axes.unicode_minus'] = False\n",
    "## 한글 폰트 적용 ( 안하면 한글 깨짐 )\n",
    "f_name = fm.FontProperties(fname=\"C:/Windows/Fonts/malgunbd.ttf\").get_name()\n",
    "plt.rc('font', family=f_name)"
   ]
  },
  {
   "cell_type": "code",
   "execution_count": 3,
   "id": "a0a133fc",
   "metadata": {},
   "outputs": [],
   "source": [
    "hospital_2018= pd.read_csv('hospital_2018.csv')\n",
    "hospital_2019= pd.read_csv('hospital_2019.csv')\n",
    "hospital_2020= pd.read_csv('hospital_2020.csv')"
   ]
  },
  {
   "cell_type": "markdown",
   "id": "228824fa",
   "metadata": {},
   "source": [
    "## 토요일/ 일요일 제거"
   ]
  },
  {
   "cell_type": "code",
   "execution_count": 5,
   "id": "aaf72df8",
   "metadata": {},
   "outputs": [],
   "source": [
    "hospital_2018=hospital_2018.drop([6, 13, 20, 27, 34, 41, 48, 55, 62, 69,\n",
    "                    76, 83, 90, 97, 104, 111, 118, 125, 132, 139,\n",
    "                    146, 153, 160, 167, 174, 181, 188, 195, 202, 209, 216, 223, 230, 237, 244,\n",
    "                    251, 258, 265, 272, 279, 286, 293, 300, 307, 314, 321, 328, 335, 342, 349, 356, 363,5, 12, 19, 26, 33, 40, 47, 54, 61, 68, 75,\n",
    "                    82, 89, 96, 103, 110, 117, 124, 131, 138, 145, 152, 159, 166, 173, 180, 187, 194, 201, 208, 215, 222, 229, \n",
    "                    236, 243, 250, 257, 264, 271, 278, 285, 292, 299, 306, 313, 320, 327, 334, 341, 348, 355, 362])\n",
    "hospital_2019=hospital_2019.drop([5, 12, 19, 26, 33, 40, 47, 54, 61, 68, 75,\n",
    "                    82, 89, 96, 103, 110, 117, 124, 131, 138, 145, 152, 159, 166, 173, 180, 187, 194, 201, 208, 215, 222, 229, \n",
    "                    236, 243, 250, 257, 264, 271, 278, 285, 292, 299, 306, 313, 320, 327, 334, 341, 348, 355, 362,4, 11, 18, 25, 32, 39, 46, 53, 60, 67, 74, 81, 88, 95,\n",
    "                    102, 109, 116, 123, 130, 137, 144, 151, 158, 165, 172, 179, 186, 193, 200, 207, 214, 221, 228, 235, 242,\n",
    "                    249, 256, 263, 270, 277, 284, 291, 298, 305, 312, 319, 326, 333, 340, 347, 354, 361])\n",
    "hospital_2020=hospital_2020.drop([4, 11, 18, 25, 32, 39, 46, 53, 60, 67, 74, 81, 88, 95,\n",
    "                    102, 109, 116, 123, 130, 137, 144, 151, 158, 165, 172, 179, 186, 193, 200, 207, 214, 221, 228, 235, 242,\n",
    "                    249, 256, 263, 270, 277, 284, 291, 298, 305, 312, 319, 326, 333, 340, 347, 354, 361,3, 10, 17, 24, 31, 38, 45, 52,\n",
    "                                  59, 66, 73, 80, 87, 94, 101, 108, 115, 122, 129, 136, 143, 150, 157, 164, 171, 178, 185, 192, 199, 206, 213, 220, 227,\n",
    "                                  234, 241, 248, 255, 262, 269, 276, 283, 290, 297, 304, 311, 318, 325, 332, 339, 346, 353, 360])"
   ]
  },
  {
   "cell_type": "code",
   "execution_count": 6,
   "id": "fabbd49a",
   "metadata": {},
   "outputs": [],
   "source": [
    "all=pd.concat([hospital_2018,hospital_2019,hospital_2020])"
   ]
  },
  {
   "cell_type": "code",
   "execution_count": 7,
   "id": "e635ef8b",
   "metadata": {},
   "outputs": [
    {
     "data": {
      "text/plain": [
       "CNT    902.892857\n",
       "dtype: float64"
      ]
     },
     "execution_count": 7,
     "metadata": {},
     "output_type": "execute_result"
    }
   ],
   "source": [
    "all.mean() #토,일 제외한 값들의 평균"
   ]
  },
  {
   "cell_type": "code",
   "execution_count": 8,
   "id": "73cab7ca",
   "metadata": {},
   "outputs": [],
   "source": [
    "train=all[(all['ACCOUNTDATE']>='2018-01-01')&(all['ACCOUNTDATE']<='2020-10-31')]\n",
    "test=all[(all['ACCOUNTDATE']>='2020-11-01')&(all['ACCOUNTDATE']<='2020-12-31')]"
   ]
  },
  {
   "cell_type": "code",
   "execution_count": 9,
   "id": "8863471b",
   "metadata": {},
   "outputs": [],
   "source": [
    "train.columns=['ds','y']\n",
    "test.columns=['ds','y']"
   ]
  },
  {
   "cell_type": "code",
   "execution_count": 10,
   "id": "5a79ef4c",
   "metadata": {},
   "outputs": [
    {
     "name": "stdout",
     "output_type": "stream",
     "text": [
      "<class 'pandas.core.frame.DataFrame'>\n",
      "Int64Index: 740 entries, 0 to 303\n",
      "Data columns (total 2 columns):\n",
      " #   Column  Non-Null Count  Dtype \n",
      "---  ------  --------------  ----- \n",
      " 0   ds      740 non-null    object\n",
      " 1   y       740 non-null    int64 \n",
      "dtypes: int64(1), object(1)\n",
      "memory usage: 17.3+ KB\n"
     ]
    }
   ],
   "source": [
    "train.info()"
   ]
  },
  {
   "cell_type": "code",
   "execution_count": 11,
   "id": "e2f80b5e",
   "metadata": {},
   "outputs": [
    {
     "name": "stdout",
     "output_type": "stream",
     "text": [
      "<class 'pandas.core.frame.DataFrame'>\n",
      "Int64Index: 44 entries, 306 to 365\n",
      "Data columns (total 2 columns):\n",
      " #   Column  Non-Null Count  Dtype \n",
      "---  ------  --------------  ----- \n",
      " 0   ds      44 non-null     object\n",
      " 1   y       44 non-null     int64 \n",
      "dtypes: int64(1), object(1)\n",
      "memory usage: 1.0+ KB\n"
     ]
    }
   ],
   "source": [
    "test.info()"
   ]
  },
  {
   "cell_type": "code",
   "execution_count": 12,
   "id": "dc11ef93",
   "metadata": {},
   "outputs": [],
   "source": [
    "train['ds']= pd.to_datetime(train['ds'])"
   ]
  },
  {
   "cell_type": "code",
   "execution_count": 14,
   "id": "46d90225",
   "metadata": {},
   "outputs": [
    {
     "name": "stderr",
     "output_type": "stream",
     "text": [
      "INFO:numexpr.utils:NumExpr defaulting to 4 threads.\n"
     ]
    },
    {
     "data": {
      "text/plain": [
       "<fbprophet.forecaster.Prophet at 0x1ef1f082940>"
      ]
     },
     "execution_count": 14,
     "metadata": {},
     "output_type": "execute_result"
    }
   ],
   "source": [
    "from fbprophet import Prophet\n",
    "prophet = Prophet(seasonality_mode = 'multiplicative',\n",
    "                 daily_seasonality=True,  #일단위의 경향성을 예측할 것이다.(년단위면 yearly_seasonality)\n",
    "                 changepoint_prior_scale=0.5)\n",
    "prophet.fit(train)"
   ]
  },
  {
   "cell_type": "code",
   "execution_count": 15,
   "id": "9b45ecc5",
   "metadata": {},
   "outputs": [],
   "source": [
    "future_data = prophet.make_future_dataframe(periods = 61, freq = 'd')\n",
    "forecast_data = prophet.predict(future_data)\n",
    "a=forecast_data[['ds','yhat', 'yhat_lower', 'yhat_upper']].tail(60)"
   ]
  },
  {
   "cell_type": "code",
   "execution_count": 18,
   "id": "09a69d71",
   "metadata": {},
   "outputs": [],
   "source": [
    "a=a.drop([741,747,748,754, 761, 768, 775, 782, 789, 796,\n",
    "         755, 762, 769, 776, 783, 790, 797])"
   ]
  },
  {
   "cell_type": "code",
   "execution_count": 27,
   "id": "38a98847",
   "metadata": {},
   "outputs": [],
   "source": [
    "pred_y=a.yhat.values[0:44]\n",
    "test_y=test.y.values[0:43]"
   ]
  },
  {
   "cell_type": "code",
   "execution_count": 28,
   "id": "5ac9d197",
   "metadata": {},
   "outputs": [
    {
     "data": {
      "text/plain": [
       "(0.0, 1600.0)"
      ]
     },
     "execution_count": 28,
     "metadata": {},
     "output_type": "execute_result"
    },
    {
     "data": {
      "image/png": "[encoded data removed]",
      "text/plain": [
       "<Figure size 432x288 with 1 Axes>"
      ]
     },
     "metadata": {
      "needs_background": "light"
     },
     "output_type": "display_data"
    }
   ],
   "source": [
    "plt.plot(pred_y,color='red',label='예측값') #에측값\n",
    "plt.plot(test_y,color='blue',label='실제값') #실제값\n",
    "plt.legend()\n",
    "plt.ylim([0, 1600])"
   ]
  },
  {
   "cell_type": "code",
   "execution_count": 32,
   "id": "3b7396c3",
   "metadata": {},
   "outputs": [
    {
     "data": {
      "text/plain": [
       "176.7861203283733"
      ]
     },
     "execution_count": 32,
     "metadata": {},
     "output_type": "execute_result"
    }
   ],
   "source": [
    "from sklearn.metrics import mean_squared_error, mean_absolute_error\n",
    " \n",
    "mean_absolute_error(pred_y,test_y) #평균 절대 오차(MAE) 는 모든 절대 오차의 평균"
   ]
  },
  {
   "cell_type": "code",
   "execution_count": 33,
   "id": "1e3da75b",
   "metadata": {},
   "outputs": [
    {
     "data": {
      "text/plain": [
       "0.1951219512195122"
      ]
     },
     "execution_count": 33,
     "metadata": {},
     "output_type": "execute_result"
    }
   ],
   "source": [
    "176/902"
   ]
  },
  {
   "cell_type": "code",
   "execution_count": null,
   "id": "a96c5b57",
   "metadata": {},
   "outputs": [],
   "source": []
  }
 ],
 "metadata": {
  "kernelspec": {
   "display_name": "Python 3",
   "language": "python",
   "name": "python3"
  },
  "language_info": {
   "codemirror_mode": {
    "name": "ipython",
    "version": 3
   },
   "file_extension": ".py",
   "mimetype": "text/x-python",
   "name": "python",
   "nbconvert_exporter": "python",
   "pygments_lexer": "ipython3",
   "version": "3.8.8"
  }
 },
 "nbformat": 4,
 "nbformat_minor": 5
}
