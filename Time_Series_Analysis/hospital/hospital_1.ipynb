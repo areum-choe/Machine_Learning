{
 "cells": [
  {
   "cell_type": "markdown",
   "id": "eeb86a6b",
   "metadata": {},
   "source": [
    "## 병원데이터 주신걸로 Arima와 Prophet을 해보자."
   ]
  },
  {
   "cell_type": "code",
   "execution_count": 1,
   "id": "c8a0651b",
   "metadata": {},
   "outputs": [],
   "source": [
    "import matplotlib.pyplot as plt      #시각화를 위한 설치\n",
    "import matplotlib.font_manager as fm    # 한글 폰트\n",
    "import matplotlib                   #시각화를 위한 설치\n",
    "import os, warnings  \n",
    "import pandas as pd                #구조 변경 및 결합을 하기 위한 설치        \n",
    "import plotly.express as px        #시각화를 위한 설치\n",
    "\n",
    "warnings.filterwarnings('ignore')\n",
    "\n",
    "pd.set_option('display.max_rows', None)         #모든 행을 다 보여주라는 명령\n",
    "pd.set_option('display.max_columns', None)      #모든 열을 다 보여주라는 명령"
   ]
  },
  {
   "cell_type": "code",
   "execution_count": 2,
   "id": "89b243aa",
   "metadata": {},
   "outputs": [],
   "source": [
    "# 그래프에서 마이너스 폰트 깨지는 문제에 대한 대처\n",
    "matplotlib.rcParams['axes.unicode_minus'] = False\n",
    "## 한글 폰트 적용 ( 안하면 한글 깨짐 )\n",
    "f_name = fm.FontProperties(fname=\"C:/Windows/Fonts/malgunbd.ttf\").get_name()\n",
    "plt.rc('font', family=f_name)"
   ]
  },
  {
   "cell_type": "code",
   "execution_count": 3,
   "id": "92d090b4",
   "metadata": {},
   "outputs": [],
   "source": [
    "hospital= pd.read_csv('a.csv')"
   ]
  },
  {
   "cell_type": "code",
   "execution_count": 4,
   "id": "3c0e88a2",
   "metadata": {},
   "outputs": [
    {
     "name": "stdout",
     "output_type": "stream",
     "text": [
      "<class 'pandas.core.frame.DataFrame'>\n",
      "RangeIndex: 57 entries, 0 to 56\n",
      "Data columns (total 2 columns):\n",
      " #   Column       Non-Null Count  Dtype \n",
      "---  ------       --------------  ----- \n",
      " 0   ACCOUNTDATE  57 non-null     object\n",
      " 1   CNT          57 non-null     int64 \n",
      "dtypes: int64(1), object(1)\n",
      "memory usage: 1.0+ KB\n"
     ]
    }
   ],
   "source": [
    "hospital.info()"
   ]
  },
  {
   "cell_type": "code",
   "execution_count": 5,
   "id": "29013895",
   "metadata": {},
   "outputs": [],
   "source": [
    "train=hospital[(hospital['ACCOUNTDATE']>='2018-01-02')&(hospital['ACCOUNTDATE']<='2018-03-30')]\n",
    "test=hospital[(hospital['ACCOUNTDATE']>='2018-04-02')&(hospital['ACCOUNTDATE']<='2018-04-30')]"
   ]
  },
  {
   "cell_type": "code",
   "execution_count": 6,
   "id": "9b30586f",
   "metadata": {},
   "outputs": [
    {
     "name": "stdout",
     "output_type": "stream",
     "text": [
      "<class 'pandas.core.frame.DataFrame'>\n",
      "Int64Index: 26 entries, 0 to 25\n",
      "Data columns (total 2 columns):\n",
      " #   Column       Non-Null Count  Dtype \n",
      "---  ------       --------------  ----- \n",
      " 0   ACCOUNTDATE  26 non-null     object\n",
      " 1   CNT          26 non-null     int64 \n",
      "dtypes: int64(1), object(1)\n",
      "memory usage: 624.0+ bytes\n"
     ]
    }
   ],
   "source": [
    "train.info()"
   ]
  },
  {
   "cell_type": "code",
   "execution_count": 7,
   "id": "0b0dac4f",
   "metadata": {},
   "outputs": [],
   "source": [
    "train['ACCOUNTDATE']=train['ACCOUNTDATE'].astype('str')\n",
    "train['ACCOUNTDATE']=pd.to_datetime(train['ACCOUNTDATE'])\n",
    "train.index=train['ACCOUNTDATE']\n",
    "train.set_index('ACCOUNTDATE',inplace=True)"
   ]
  },
  {
   "cell_type": "code",
   "execution_count": 92,
   "id": "70aa6706",
   "metadata": {},
   "outputs": [
    {
     "name": "stdout",
     "output_type": "stream",
     "text": [
      "<class 'pandas.core.frame.DataFrame'>\n",
      "DatetimeIndex: 26 entries, 2018-03-05 to 2018-03-30\n",
      "Data columns (total 1 columns):\n",
      " #   Column  Non-Null Count  Dtype\n",
      "---  ------  --------------  -----\n",
      " 0   CNT     26 non-null     int64\n",
      "dtypes: int64(1)\n",
      "memory usage: 416.0 bytes\n"
     ]
    }
   ],
   "source": [
    "train.info()"
   ]
  },
  {
   "cell_type": "code",
   "execution_count": 9,
   "id": "8b7cd01f",
   "metadata": {},
   "outputs": [
    {
     "data": {
      "text/plain": [
       "<AxesSubplot:xlabel='ACCOUNTDATE'>"
      ]
     },
     "execution_count": 9,
     "metadata": {},
     "output_type": "execute_result"
    },
    {
     "data": {
      "image/png": "[encoded data removed]",
      "text/plain": [
       "<Figure size 432x288 with 1 Axes>"
      ]
     },
     "metadata": {
      "needs_background": "light"
     },
     "output_type": "display_data"
    }
   ],
   "source": [
    "train.plot()"
   ]
  },
  {
   "cell_type": "code",
   "execution_count": 25,
   "id": "64e56178",
   "metadata": {},
   "outputs": [
    {
     "name": "stdout",
     "output_type": "stream",
     "text": [
      "             CNT\n",
      "ACCOUNTDATE     \n",
      "2018-03-05   170\n",
      "2018-03-06   174\n",
      "2018-03-07   151\n",
      "2018-03-08   162\n",
      "2018-03-09   165\n",
      "2018-03-10   137\n",
      "2018-03-11     7\n",
      "2018-03-12   162\n",
      "2018-03-13   159\n",
      "2018-03-14   157\n",
      "2018-03-15   142\n",
      "2018-03-16   147\n",
      "2018-03-17   146\n",
      "2018-03-18    14\n",
      "2018-03-19   190\n",
      "2018-03-20   166\n",
      "2018-03-21   175\n",
      "2018-03-22   140\n",
      "2018-03-23   153\n",
      "2018-03-24   162\n",
      "2018-03-25     6\n",
      "2018-03-26   178\n",
      "2018-03-27   126\n",
      "2018-03-28   152\n",
      "2018-03-29   119\n",
      "2018-03-30   158\n",
      "원 데이터 ADF Statistic: -3.579\n",
      "원 데이터 p-value: 0.006\n",
      "1차 차분 ADF Statistic: -1.590\n",
      "1차 차분 p-value: 0.489\n"
     ]
    }
   ],
   "source": [
    "# AD-Fuller Test : 시계열의 정상성(stationary) 한지 확인\n",
    "\n",
    "from statsmodels.tsa.stattools import adfuller\n",
    "\n",
    "\"\"\" 차분 방법 \"\"\"\n",
    "train_diff =train - train.shift(1)\n",
    "print(train)\n",
    "\n",
    "y = train.dropna()\n",
    "y1diff =train_diff.dropna()\n",
    "result = adfuller(y)\n",
    "print(f'원 데이터 ADF Statistic: {result[0]:.3f}')\n",
    "print(f'원 데이터 p-value: {result[1]:.3f}')\n",
    "result = adfuller(y1diff)\n",
    "print(f'1차 차분 ADF Statistic: {result[0]:.3f}')\n",
    "print(f'1차 차분 p-value: {result[1]:.3f}')"
   ]
  },
  {
   "cell_type": "code",
   "execution_count": 26,
   "id": "8cd08173",
   "metadata": {},
   "outputs": [
    {
     "ename": "ValueError",
     "evalue": "Can only compute partial correlations for lags up to 50% of the sample size. The requested nlags 14 must be < 12.",
     "output_type": "error",
     "traceback": [
      "\u001b[1;31m---------------------------------------------------------------------------\u001b[0m",
      "\u001b[1;31mValueError\u001b[0m                                Traceback (most recent call last)",
      "\u001b[1;32m<ipython-input-26-c2f405343208>\u001b[0m in \u001b[0;36m<module>\u001b[1;34m\u001b[0m\n\u001b[0;32m      3\u001b[0m \u001b[0mdiff_1\u001b[0m\u001b[1;33m.\u001b[0m\u001b[0mplot\u001b[0m\u001b[1;33m(\u001b[0m\u001b[1;33m)\u001b[0m\u001b[1;33m\u001b[0m\u001b[1;33m\u001b[0m\u001b[0m\n\u001b[0;32m      4\u001b[0m \u001b[0mplot_acf\u001b[0m\u001b[1;33m(\u001b[0m\u001b[0mdiff_1\u001b[0m\u001b[1;33m)\u001b[0m\u001b[1;33m\u001b[0m\u001b[1;33m\u001b[0m\u001b[0m\n\u001b[1;32m----> 5\u001b[1;33m \u001b[0mplot_pacf\u001b[0m\u001b[1;33m(\u001b[0m\u001b[0mdiff_1\u001b[0m\u001b[1;33m)\u001b[0m\u001b[1;33m\u001b[0m\u001b[1;33m\u001b[0m\u001b[0m\n\u001b[0m\u001b[0;32m      6\u001b[0m \u001b[0mplt\u001b[0m\u001b[1;33m.\u001b[0m\u001b[0mshow\u001b[0m\u001b[1;33m(\u001b[0m\u001b[1;33m)\u001b[0m\u001b[1;33m\u001b[0m\u001b[1;33m\u001b[0m\u001b[0m\n",
      "\u001b[1;32m~\\conda\\lib\\site-packages\\statsmodels\\graphics\\tsaplots.py\u001b[0m in \u001b[0;36mplot_pacf\u001b[1;34m(x, ax, lags, alpha, method, use_vlines, title, zero, vlines_kwargs, **kwargs)\u001b[0m\n\u001b[0;32m    305\u001b[0m         \u001b[0macf_x\u001b[0m \u001b[1;33m=\u001b[0m \u001b[0mpacf\u001b[0m\u001b[1;33m(\u001b[0m\u001b[0mx\u001b[0m\u001b[1;33m,\u001b[0m \u001b[0mnlags\u001b[0m\u001b[1;33m=\u001b[0m\u001b[0mnlags\u001b[0m\u001b[1;33m,\u001b[0m \u001b[0malpha\u001b[0m\u001b[1;33m=\u001b[0m\u001b[0malpha\u001b[0m\u001b[1;33m,\u001b[0m \u001b[0mmethod\u001b[0m\u001b[1;33m=\u001b[0m\u001b[0mmethod\u001b[0m\u001b[1;33m)\u001b[0m\u001b[1;33m\u001b[0m\u001b[1;33m\u001b[0m\u001b[0m\n\u001b[0;32m    306\u001b[0m     \u001b[1;32melse\u001b[0m\u001b[1;33m:\u001b[0m\u001b[1;33m\u001b[0m\u001b[1;33m\u001b[0m\u001b[0m\n\u001b[1;32m--> 307\u001b[1;33m         \u001b[0macf_x\u001b[0m\u001b[1;33m,\u001b[0m \u001b[0mconfint\u001b[0m \u001b[1;33m=\u001b[0m \u001b[0mpacf\u001b[0m\u001b[1;33m(\u001b[0m\u001b[0mx\u001b[0m\u001b[1;33m,\u001b[0m \u001b[0mnlags\u001b[0m\u001b[1;33m=\u001b[0m\u001b[0mnlags\u001b[0m\u001b[1;33m,\u001b[0m \u001b[0malpha\u001b[0m\u001b[1;33m=\u001b[0m\u001b[0malpha\u001b[0m\u001b[1;33m,\u001b[0m \u001b[0mmethod\u001b[0m\u001b[1;33m=\u001b[0m\u001b[0mmethod\u001b[0m\u001b[1;33m)\u001b[0m\u001b[1;33m\u001b[0m\u001b[1;33m\u001b[0m\u001b[0m\n\u001b[0m\u001b[0;32m    308\u001b[0m \u001b[1;33m\u001b[0m\u001b[0m\n\u001b[0;32m    309\u001b[0m     _plot_corr(\n",
      "\u001b[1;32m~\\conda\\lib\\site-packages\\statsmodels\\tsa\\stattools.py\u001b[0m in \u001b[0;36mpacf\u001b[1;34m(x, nlags, method, alpha)\u001b[0m\n\u001b[0;32m   1031\u001b[0m         \u001b[0mnlags\u001b[0m \u001b[1;33m=\u001b[0m \u001b[1;36m40\u001b[0m\u001b[1;33m\u001b[0m\u001b[1;33m\u001b[0m\u001b[0m\n\u001b[0;32m   1032\u001b[0m     \u001b[1;32mif\u001b[0m \u001b[0mnlags\u001b[0m \u001b[1;33m>=\u001b[0m \u001b[0mx\u001b[0m\u001b[1;33m.\u001b[0m\u001b[0mshape\u001b[0m\u001b[1;33m[\u001b[0m\u001b[1;36m0\u001b[0m\u001b[1;33m]\u001b[0m \u001b[1;33m//\u001b[0m \u001b[1;36m2\u001b[0m\u001b[1;33m:\u001b[0m\u001b[1;33m\u001b[0m\u001b[1;33m\u001b[0m\u001b[0m\n\u001b[1;32m-> 1033\u001b[1;33m         raise ValueError(\n\u001b[0m\u001b[0;32m   1034\u001b[0m             \u001b[1;34m\"Can only compute partial correlations for lags up to 50% of the \"\u001b[0m\u001b[1;33m\u001b[0m\u001b[1;33m\u001b[0m\u001b[0m\n\u001b[0;32m   1035\u001b[0m             \u001b[1;34mf\"sample size. The requested nlags {nlags} must be < \"\u001b[0m\u001b[1;33m\u001b[0m\u001b[1;33m\u001b[0m\u001b[0m\n",
      "\u001b[1;31mValueError\u001b[0m: Can only compute partial correlations for lags up to 50% of the sample size. The requested nlags 14 must be < 12."
     ]
    },
    {
     "data": {
      "image/png": "[encoded data removed]",
      "text/plain": [
       "<Figure size 432x288 with 1 Axes>"
      ]
     },
     "metadata": {
      "needs_background": "light"
     },
     "output_type": "display_data"
    },
    {
     "data": {
      "image/png": "[encoded data removed]",
      "text/plain": [
       "<Figure size 432x288 with 1 Axes>"
      ]
     },
     "metadata": {
      "needs_background": "light"
     },
     "output_type": "display_data"
    },
    {
     "data": {
      "image/png": "[encoded data removed]",
      "text/plain": [
       "<Figure size 432x288 with 1 Axes>"
      ]
     },
     "metadata": {
      "needs_background": "light"
     },
     "output_type": "display_data"
    }
   ],
   "source": [
    "from statsmodels.graphics.tsaplots import plot_acf, plot_pacf\n",
    "diff_1=train.diff(periods=1).iloc[1:]\n",
    "diff_1.plot()\n",
    "plot_acf(diff_1)\n",
    "plot_pacf(diff_1)\n",
    "plt.show()"
   ]
  },
  {
   "cell_type": "code",
   "execution_count": 27,
   "id": "626e05ba",
   "metadata": {},
   "outputs": [
    {
     "data": {
      "text/plain": [
       "[(0, 0, 0),\n",
       " (0, 0, 1),\n",
       " (0, 0, 2),\n",
       " (0, 0, 3),\n",
       " (0, 0, 4),\n",
       " (0, 1, 0),\n",
       " (0, 1, 1),\n",
       " (0, 1, 2),\n",
       " (0, 1, 3),\n",
       " (0, 1, 4),\n",
       " (0, 2, 0),\n",
       " (0, 2, 1),\n",
       " (0, 2, 2),\n",
       " (0, 2, 3),\n",
       " (0, 2, 4),\n",
       " (0, 3, 0),\n",
       " (0, 3, 1),\n",
       " (0, 3, 2),\n",
       " (0, 3, 3),\n",
       " (0, 3, 4),\n",
       " (0, 4, 0),\n",
       " (0, 4, 1),\n",
       " (0, 4, 2),\n",
       " (0, 4, 3),\n",
       " (0, 4, 4),\n",
       " (1, 0, 0),\n",
       " (1, 0, 1),\n",
       " (1, 0, 2),\n",
       " (1, 0, 3),\n",
       " (1, 0, 4),\n",
       " (1, 1, 0),\n",
       " (1, 1, 1),\n",
       " (1, 1, 2),\n",
       " (1, 1, 3),\n",
       " (1, 1, 4),\n",
       " (1, 2, 0),\n",
       " (1, 2, 1),\n",
       " (1, 2, 2),\n",
       " (1, 2, 3),\n",
       " (1, 2, 4),\n",
       " (1, 3, 0),\n",
       " (1, 3, 1),\n",
       " (1, 3, 2),\n",
       " (1, 3, 3),\n",
       " (1, 3, 4),\n",
       " (1, 4, 0),\n",
       " (1, 4, 1),\n",
       " (1, 4, 2),\n",
       " (1, 4, 3),\n",
       " (1, 4, 4),\n",
       " (2, 0, 0),\n",
       " (2, 0, 1),\n",
       " (2, 0, 2),\n",
       " (2, 0, 3),\n",
       " (2, 0, 4),\n",
       " (2, 1, 0),\n",
       " (2, 1, 1),\n",
       " (2, 1, 2),\n",
       " (2, 1, 3),\n",
       " (2, 1, 4),\n",
       " (2, 2, 0),\n",
       " (2, 2, 1),\n",
       " (2, 2, 2),\n",
       " (2, 2, 3),\n",
       " (2, 2, 4),\n",
       " (2, 3, 0),\n",
       " (2, 3, 1),\n",
       " (2, 3, 2),\n",
       " (2, 3, 3),\n",
       " (2, 3, 4),\n",
       " (2, 4, 0),\n",
       " (2, 4, 1),\n",
       " (2, 4, 2),\n",
       " (2, 4, 3),\n",
       " (2, 4, 4),\n",
       " (3, 0, 0),\n",
       " (3, 0, 1),\n",
       " (3, 0, 2),\n",
       " (3, 0, 3),\n",
       " (3, 0, 4),\n",
       " (3, 1, 0),\n",
       " (3, 1, 1),\n",
       " (3, 1, 2),\n",
       " (3, 1, 3),\n",
       " (3, 1, 4),\n",
       " (3, 2, 0),\n",
       " (3, 2, 1),\n",
       " (3, 2, 2),\n",
       " (3, 2, 3),\n",
       " (3, 2, 4),\n",
       " (3, 3, 0),\n",
       " (3, 3, 1),\n",
       " (3, 3, 2),\n",
       " (3, 3, 3),\n",
       " (3, 3, 4),\n",
       " (3, 4, 0),\n",
       " (3, 4, 1),\n",
       " (3, 4, 2),\n",
       " (3, 4, 3),\n",
       " (3, 4, 4),\n",
       " (4, 0, 0),\n",
       " (4, 0, 1),\n",
       " (4, 0, 2),\n",
       " (4, 0, 3),\n",
       " (4, 0, 4),\n",
       " (4, 1, 0),\n",
       " (4, 1, 1),\n",
       " (4, 1, 2),\n",
       " (4, 1, 3),\n",
       " (4, 1, 4),\n",
       " (4, 2, 0),\n",
       " (4, 2, 1),\n",
       " (4, 2, 2),\n",
       " (4, 2, 3),\n",
       " (4, 2, 4),\n",
       " (4, 3, 0),\n",
       " (4, 3, 1),\n",
       " (4, 3, 2),\n",
       " (4, 3, 3),\n",
       " (4, 3, 4),\n",
       " (4, 4, 0),\n",
       " (4, 4, 1),\n",
       " (4, 4, 2),\n",
       " (4, 4, 3),\n",
       " (4, 4, 4)]"
      ]
     },
     "execution_count": 27,
     "metadata": {},
     "output_type": "execute_result"
    }
   ],
   "source": [
    "import itertools\n",
    "p=d=q=range(0,5)\n",
    "pdq=list(itertools.product(p,d,q))\n",
    "pdq"
   ]
  },
  {
   "cell_type": "code",
   "execution_count": 28,
   "id": "6e07d499",
   "metadata": {},
   "outputs": [
    {
     "name": "stdout",
     "output_type": "stream",
     "text": [
      "(0, 0, 0) 280.6534392119996\n",
      "(0, 0, 1) 280.91601797310966\n",
      "(0, 0, 2) 277.69622140688614\n",
      "(0, 0, 3) 279.1161102368318\n",
      "(0, 0, 4) 273.008587455833\n",
      "(0, 1, 0) 292.943621965823\n",
      "(0, 1, 1) 275.9857352113954\n",
      "(0, 1, 2) 276.7903076634351\n",
      "(0, 1, 3) 276.46158972670753\n",
      "(0, 1, 4) 277.62569631592396\n",
      "(0, 2, 0) 309.6504276062277\n",
      "(0, 2, 1) 287.53410077725954\n",
      "(0, 2, 2) 274.51817985996234\n",
      "(0, 2, 3) 276.41145786455616\n",
      "(1, 0, 0) 281.46092839143193\n",
      "(1, 1, 0) 285.62629232280216\n",
      "(1, 1, 1) 277.0629150911146\n",
      "(1, 2, 0) 295.4229627791558\n",
      "(1, 2, 1) 281.3782513047845\n",
      "(2, 0, 0) 283.1182513926211\n",
      "(2, 1, 0) 284.9788138336778\n",
      "(2, 2, 0) 291.54336294944346\n",
      "(2, 2, 1) 294.839540239882\n",
      "(3, 0, 0) 284.18010865200563\n",
      "(3, 0, 2) 282.50665781405314\n",
      "(3, 1, 0) 284.5977178789674\n",
      "(3, 2, 0) 288.256153083384\n",
      "(3, 2, 1) 294.8556993569117\n",
      "(4, 0, 0) 285.67475271402657\n",
      "(4, 1, 0) 286.1012437990135\n"
     ]
    }
   ],
   "source": [
    "import warnings\n",
    "warnings.filterwarnings('ignore')\n",
    "\n",
    "for param in pdq:\n",
    "    try:\n",
    "        model_arima=ARIMA(train.CNT.values, order=param)\n",
    "        model_arima_fit=model_arima.fit()\n",
    "        print(param,model_arima_fit.aic)\n",
    "    except:\n",
    "        continue"
   ]
  },
  {
   "cell_type": "code",
   "execution_count": 79,
   "id": "ae0d370f",
   "metadata": {},
   "outputs": [],
   "source": [
    "from statsmodels.tsa.arima_model import ARIMA\n",
    "import statsmodels.api as sm\n",
    "def my_auto_arima(data,order,sort = 'AIC'):\n",
    "    order_list = []\n",
    "    order_list1 = []\n",
    "    order_list2 = []\n",
    "    aic_list = []\n",
    "    bic_list = []\n",
    "    test=[]\n",
    "    for p in range(order[0]):\n",
    "        for d in range(order[1]):\n",
    "            for q in range(order[2]):\n",
    "                model = ARIMA(data, order=(p,d,q))\n",
    "                try:\n",
    "                    model_fit = model.fit()\n",
    "                    c_order = p\n",
    "                    d_order = d\n",
    "                    e_order = q\n",
    "                    aic = model_fit.aic\n",
    "                    bic = model_fit.bic\n",
    "                    order_list.append(c_order)\n",
    "                    order_list1.append(d_order)\n",
    "                    order_list2.append(e_order)\n",
    "                    aic_list.append(aic)\n",
    "                    bic_list.append(bic)\n",
    "                    c = f'{p} ,{d} ,{q}, {aic}'\n",
    "                    test.append(c)\n",
    "                except:\n",
    "                    pass\n",
    "                result_df = pd.DataFrame(list(zip(order_list,order_list1, order_list2, aic_list,test)),columns=['order','order1','order2','AIC','test'])\n",
    "                result_df.sort_values(sort, inplace=True)\n",
    "    return result_df"
   ]
  },
  {
   "cell_type": "code",
   "execution_count": 80,
   "id": "f0efd2f1",
   "metadata": {},
   "outputs": [],
   "source": [
    "a=my_auto_arima(train,[3,3,3])"
   ]
  },
  {
   "cell_type": "code",
   "execution_count": 81,
   "id": "e7e39ee0",
   "metadata": {},
   "outputs": [
    {
     "data": {
      "text/html": [
       "<div>\n",
       "<style scoped>\n",
       "    .dataframe tbody tr th:only-of-type {\n",
       "        vertical-align: middle;\n",
       "    }\n",
       "\n",
       "    .dataframe tbody tr th {\n",
       "        vertical-align: top;\n",
       "    }\n",
       "\n",
       "    .dataframe thead th {\n",
       "        text-align: right;\n",
       "    }\n",
       "</style>\n",
       "<table border=\"1\" class=\"dataframe\">\n",
       "  <thead>\n",
       "    <tr style=\"text-align: right;\">\n",
       "      <th></th>\n",
       "      <th>order</th>\n",
       "      <th>order1</th>\n",
       "      <th>order2</th>\n",
       "      <th>AIC</th>\n",
       "      <th>test</th>\n",
       "    </tr>\n",
       "  </thead>\n",
       "  <tbody>\n",
       "    <tr>\n",
       "      <th>8</th>\n",
       "      <td>0</td>\n",
       "      <td>2</td>\n",
       "      <td>2</td>\n",
       "      <td>274.518180</td>\n",
       "      <td>0 ,2 ,2, 274.51817985996234</td>\n",
       "    </tr>\n",
       "    <tr>\n",
       "      <th>4</th>\n",
       "      <td>0</td>\n",
       "      <td>1</td>\n",
       "      <td>1</td>\n",
       "      <td>275.985735</td>\n",
       "      <td>0 ,1 ,1, 275.9857352113954</td>\n",
       "    </tr>\n",
       "    <tr>\n",
       "      <th>5</th>\n",
       "      <td>0</td>\n",
       "      <td>1</td>\n",
       "      <td>2</td>\n",
       "      <td>276.790308</td>\n",
       "      <td>0 ,1 ,2, 276.7903076634351</td>\n",
       "    </tr>\n",
       "    <tr>\n",
       "      <th>11</th>\n",
       "      <td>1</td>\n",
       "      <td>1</td>\n",
       "      <td>1</td>\n",
       "      <td>277.062915</td>\n",
       "      <td>1 ,1 ,1, 277.0629150911146</td>\n",
       "    </tr>\n",
       "    <tr>\n",
       "      <th>2</th>\n",
       "      <td>0</td>\n",
       "      <td>0</td>\n",
       "      <td>2</td>\n",
       "      <td>277.696221</td>\n",
       "      <td>0 ,0 ,2, 277.69622140688614</td>\n",
       "    </tr>\n",
       "    <tr>\n",
       "      <th>0</th>\n",
       "      <td>0</td>\n",
       "      <td>0</td>\n",
       "      <td>0</td>\n",
       "      <td>280.653439</td>\n",
       "      <td>0 ,0 ,0, 280.6534392119996</td>\n",
       "    </tr>\n",
       "    <tr>\n",
       "      <th>1</th>\n",
       "      <td>0</td>\n",
       "      <td>0</td>\n",
       "      <td>1</td>\n",
       "      <td>280.916018</td>\n",
       "      <td>0 ,0 ,1, 280.91601797310966</td>\n",
       "    </tr>\n",
       "    <tr>\n",
       "      <th>13</th>\n",
       "      <td>1</td>\n",
       "      <td>2</td>\n",
       "      <td>1</td>\n",
       "      <td>281.378251</td>\n",
       "      <td>1 ,2 ,1, 281.3782513047845</td>\n",
       "    </tr>\n",
       "    <tr>\n",
       "      <th>9</th>\n",
       "      <td>1</td>\n",
       "      <td>0</td>\n",
       "      <td>0</td>\n",
       "      <td>281.460928</td>\n",
       "      <td>1 ,0 ,0, 281.46092839143193</td>\n",
       "    </tr>\n",
       "    <tr>\n",
       "      <th>14</th>\n",
       "      <td>2</td>\n",
       "      <td>0</td>\n",
       "      <td>0</td>\n",
       "      <td>283.118251</td>\n",
       "      <td>2 ,0 ,0, 283.1182513926211</td>\n",
       "    </tr>\n",
       "    <tr>\n",
       "      <th>15</th>\n",
       "      <td>2</td>\n",
       "      <td>1</td>\n",
       "      <td>0</td>\n",
       "      <td>284.978814</td>\n",
       "      <td>2 ,1 ,0, 284.9788138336778</td>\n",
       "    </tr>\n",
       "    <tr>\n",
       "      <th>10</th>\n",
       "      <td>1</td>\n",
       "      <td>1</td>\n",
       "      <td>0</td>\n",
       "      <td>285.626292</td>\n",
       "      <td>1 ,1 ,0, 285.62629232280216</td>\n",
       "    </tr>\n",
       "    <tr>\n",
       "      <th>7</th>\n",
       "      <td>0</td>\n",
       "      <td>2</td>\n",
       "      <td>1</td>\n",
       "      <td>287.534101</td>\n",
       "      <td>0 ,2 ,1, 287.53410077725954</td>\n",
       "    </tr>\n",
       "    <tr>\n",
       "      <th>16</th>\n",
       "      <td>2</td>\n",
       "      <td>2</td>\n",
       "      <td>0</td>\n",
       "      <td>291.543363</td>\n",
       "      <td>2 ,2 ,0, 291.54336294944346</td>\n",
       "    </tr>\n",
       "    <tr>\n",
       "      <th>3</th>\n",
       "      <td>0</td>\n",
       "      <td>1</td>\n",
       "      <td>0</td>\n",
       "      <td>292.943622</td>\n",
       "      <td>0 ,1 ,0, 292.943621965823</td>\n",
       "    </tr>\n",
       "    <tr>\n",
       "      <th>17</th>\n",
       "      <td>2</td>\n",
       "      <td>2</td>\n",
       "      <td>1</td>\n",
       "      <td>294.839540</td>\n",
       "      <td>2 ,2 ,1, 294.839540239882</td>\n",
       "    </tr>\n",
       "    <tr>\n",
       "      <th>12</th>\n",
       "      <td>1</td>\n",
       "      <td>2</td>\n",
       "      <td>0</td>\n",
       "      <td>295.422963</td>\n",
       "      <td>1 ,2 ,0, 295.4229627791558</td>\n",
       "    </tr>\n",
       "    <tr>\n",
       "      <th>6</th>\n",
       "      <td>0</td>\n",
       "      <td>2</td>\n",
       "      <td>0</td>\n",
       "      <td>309.650428</td>\n",
       "      <td>0 ,2 ,0, 309.6504276062277</td>\n",
       "    </tr>\n",
       "  </tbody>\n",
       "</table>\n",
       "</div>"
      ],
      "text/plain": [
       "    order  order1  order2         AIC                         test\n",
       "8       0       2       2  274.518180  0 ,2 ,2, 274.51817985996234\n",
       "4       0       1       1  275.985735   0 ,1 ,1, 275.9857352113954\n",
       "5       0       1       2  276.790308   0 ,1 ,2, 276.7903076634351\n",
       "11      1       1       1  277.062915   1 ,1 ,1, 277.0629150911146\n",
       "2       0       0       2  277.696221  0 ,0 ,2, 277.69622140688614\n",
       "0       0       0       0  280.653439   0 ,0 ,0, 280.6534392119996\n",
       "1       0       0       1  280.916018  0 ,0 ,1, 280.91601797310966\n",
       "13      1       2       1  281.378251   1 ,2 ,1, 281.3782513047845\n",
       "9       1       0       0  281.460928  1 ,0 ,0, 281.46092839143193\n",
       "14      2       0       0  283.118251   2 ,0 ,0, 283.1182513926211\n",
       "15      2       1       0  284.978814   2 ,1 ,0, 284.9788138336778\n",
       "10      1       1       0  285.626292  1 ,1 ,0, 285.62629232280216\n",
       "7       0       2       1  287.534101  0 ,2 ,1, 287.53410077725954\n",
       "16      2       2       0  291.543363  2 ,2 ,0, 291.54336294944346\n",
       "3       0       1       0  292.943622    0 ,1 ,0, 292.943621965823\n",
       "17      2       2       1  294.839540    2 ,2 ,1, 294.839540239882\n",
       "12      1       2       0  295.422963   1 ,2 ,0, 295.4229627791558\n",
       "6       0       2       0  309.650428   0 ,2 ,0, 309.6504276062277"
      ]
     },
     "execution_count": 81,
     "metadata": {},
     "output_type": "execute_result"
    }
   ],
   "source": [
    "a"
   ]
  },
  {
   "cell_type": "code",
   "execution_count": 118,
   "id": "80f8ade9",
   "metadata": {},
   "outputs": [],
   "source": [
    "import numpy as np"
   ]
  },
  {
   "cell_type": "code",
   "execution_count": 128,
   "id": "6401c3dc",
   "metadata": {},
   "outputs": [],
   "source": [
    "def getresult_auto_arima():\n",
    "    df = pd.read_csv('TimeSeries_small.csv')\n",
    "    df.columns = ['date', 'num']\n",
    "    series = df['date']\n",
    "    x_value = series.values\n",
    "    \n",
    "    size = int(len(x_value) * 0.66)  # 훈련데이터 66%\n",
    "    test, train = x_value[0:size], x_value[size:len(x_value)]  # train과 test로 데이터셋 분리\n",
    "    \n",
    "    order_list = []\n",
    "    order_list1 = []\n",
    "    order_list2 = []\n",
    "    aic_list = []\n",
    "    bic_list = []\n",
    "\n",
    "    order = [3, 3, 3]\n",
    "    for p in range(order[0]):\n",
    "        for d in range(order[1]):\n",
    "            for q in range(order[2]):\n",
    "                model = ARIMA(train, order=(p, d, q))\n",
    "                try:\n",
    "                    model_fit = model.fit(trend='c',full_output=True,disp=1)\n",
    "                    c_order = p\n",
    "                    d_order = d\n",
    "                    e_order = q\n",
    "                    aic = model_fit.aic\n",
    "                    bic = model_fit.bic\n",
    "                    order_list.append(c_order)\n",
    "                    order_list1.append(d_order)\n",
    "                    order_list2.append(e_order)\n",
    "                    aic_list.append(aic)\n",
    "                    bic_list.append(bic)\n",
    "                except Exception:\n",
    "                    CommonLib.exception_print()\n",
    "\n",
    "                result_df = pd.DataFrame(list(zip(order_list, order_list1, order_list2, aic_list)),\n",
    "                                         columns=['p', 'd', 'q', 'AIC'])\n",
    "                result_df.sort_values('AIC', inplace=True)\n",
    "    return result_df"
   ]
  },
  {
   "cell_type": "code",
   "execution_count": 129,
   "id": "514b823d",
   "metadata": {},
   "outputs": [
    {
     "ename": "ValueError",
     "evalue": "could not convert string to float: '2016-10-15'",
     "output_type": "error",
     "traceback": [
      "\u001b[1;31m---------------------------------------------------------------------------\u001b[0m",
      "\u001b[1;31mValueError\u001b[0m                                Traceback (most recent call last)",
      "\u001b[1;32m<ipython-input-129-9cb60ad05d14>\u001b[0m in \u001b[0;36m<module>\u001b[1;34m\u001b[0m\n\u001b[1;32m----> 1\u001b[1;33m \u001b[0mgetresult_auto_arima\u001b[0m\u001b[1;33m(\u001b[0m\u001b[1;33m)\u001b[0m\u001b[1;33m\u001b[0m\u001b[1;33m\u001b[0m\u001b[0m\n\u001b[0m",
      "\u001b[1;32m<ipython-input-128-8038d887e49e>\u001b[0m in \u001b[0;36mgetresult_auto_arima\u001b[1;34m()\u001b[0m\n\u001b[0;32m     18\u001b[0m         \u001b[1;32mfor\u001b[0m \u001b[0md\u001b[0m \u001b[1;32min\u001b[0m \u001b[0mrange\u001b[0m\u001b[1;33m(\u001b[0m\u001b[0morder\u001b[0m\u001b[1;33m[\u001b[0m\u001b[1;36m1\u001b[0m\u001b[1;33m]\u001b[0m\u001b[1;33m)\u001b[0m\u001b[1;33m:\u001b[0m\u001b[1;33m\u001b[0m\u001b[1;33m\u001b[0m\u001b[0m\n\u001b[0;32m     19\u001b[0m             \u001b[1;32mfor\u001b[0m \u001b[0mq\u001b[0m \u001b[1;32min\u001b[0m \u001b[0mrange\u001b[0m\u001b[1;33m(\u001b[0m\u001b[0morder\u001b[0m\u001b[1;33m[\u001b[0m\u001b[1;36m2\u001b[0m\u001b[1;33m]\u001b[0m\u001b[1;33m)\u001b[0m\u001b[1;33m:\u001b[0m\u001b[1;33m\u001b[0m\u001b[1;33m\u001b[0m\u001b[0m\n\u001b[1;32m---> 20\u001b[1;33m                 \u001b[0mmodel\u001b[0m \u001b[1;33m=\u001b[0m \u001b[0mARIMA\u001b[0m\u001b[1;33m(\u001b[0m\u001b[0mtrain\u001b[0m\u001b[1;33m,\u001b[0m \u001b[0morder\u001b[0m\u001b[1;33m=\u001b[0m\u001b[1;33m(\u001b[0m\u001b[0mp\u001b[0m\u001b[1;33m,\u001b[0m \u001b[0md\u001b[0m\u001b[1;33m,\u001b[0m \u001b[0mq\u001b[0m\u001b[1;33m)\u001b[0m\u001b[1;33m)\u001b[0m\u001b[1;33m\u001b[0m\u001b[1;33m\u001b[0m\u001b[0m\n\u001b[0m\u001b[0;32m     21\u001b[0m                 \u001b[1;32mtry\u001b[0m\u001b[1;33m:\u001b[0m\u001b[1;33m\u001b[0m\u001b[1;33m\u001b[0m\u001b[0m\n\u001b[0;32m     22\u001b[0m                     \u001b[0mmodel_fit\u001b[0m \u001b[1;33m=\u001b[0m \u001b[0mmodel\u001b[0m\u001b[1;33m.\u001b[0m\u001b[0mfit\u001b[0m\u001b[1;33m(\u001b[0m\u001b[0mtrend\u001b[0m\u001b[1;33m=\u001b[0m\u001b[1;34m'c'\u001b[0m\u001b[1;33m,\u001b[0m\u001b[0mfull_output\u001b[0m\u001b[1;33m=\u001b[0m\u001b[1;32mTrue\u001b[0m\u001b[1;33m,\u001b[0m\u001b[0mdisp\u001b[0m\u001b[1;33m=\u001b[0m\u001b[1;36m1\u001b[0m\u001b[1;33m)\u001b[0m\u001b[1;33m\u001b[0m\u001b[1;33m\u001b[0m\u001b[0m\n",
      "\u001b[1;32m~\\conda\\lib\\site-packages\\statsmodels\\tsa\\arima_model.py\u001b[0m in \u001b[0;36m__new__\u001b[1;34m(cls, endog, order, exog, dates, freq, missing)\u001b[0m\n\u001b[0;32m   1066\u001b[0m         \u001b[0mp\u001b[0m\u001b[1;33m,\u001b[0m \u001b[0md\u001b[0m\u001b[1;33m,\u001b[0m \u001b[0mq\u001b[0m \u001b[1;33m=\u001b[0m \u001b[0morder\u001b[0m\u001b[1;33m\u001b[0m\u001b[1;33m\u001b[0m\u001b[0m\n\u001b[0;32m   1067\u001b[0m         \u001b[1;32mif\u001b[0m \u001b[0md\u001b[0m \u001b[1;33m==\u001b[0m \u001b[1;36m0\u001b[0m\u001b[1;33m:\u001b[0m  \u001b[1;31m# then we just use an ARMA model\u001b[0m\u001b[1;33m\u001b[0m\u001b[1;33m\u001b[0m\u001b[0m\n\u001b[1;32m-> 1068\u001b[1;33m             \u001b[1;32mreturn\u001b[0m \u001b[0mARMA\u001b[0m\u001b[1;33m(\u001b[0m\u001b[0mendog\u001b[0m\u001b[1;33m,\u001b[0m \u001b[1;33m(\u001b[0m\u001b[0mp\u001b[0m\u001b[1;33m,\u001b[0m \u001b[0mq\u001b[0m\u001b[1;33m)\u001b[0m\u001b[1;33m,\u001b[0m \u001b[0mexog\u001b[0m\u001b[1;33m,\u001b[0m \u001b[0mdates\u001b[0m\u001b[1;33m,\u001b[0m \u001b[0mfreq\u001b[0m\u001b[1;33m,\u001b[0m \u001b[0mmissing\u001b[0m\u001b[1;33m)\u001b[0m\u001b[1;33m\u001b[0m\u001b[1;33m\u001b[0m\u001b[0m\n\u001b[0m\u001b[0;32m   1069\u001b[0m         \u001b[1;32melse\u001b[0m\u001b[1;33m:\u001b[0m\u001b[1;33m\u001b[0m\u001b[1;33m\u001b[0m\u001b[0m\n\u001b[0;32m   1070\u001b[0m             \u001b[0mmod\u001b[0m \u001b[1;33m=\u001b[0m \u001b[0msuper\u001b[0m\u001b[1;33m(\u001b[0m\u001b[0mARIMA\u001b[0m\u001b[1;33m,\u001b[0m \u001b[0mcls\u001b[0m\u001b[1;33m)\u001b[0m\u001b[1;33m.\u001b[0m\u001b[0m__new__\u001b[0m\u001b[1;33m(\u001b[0m\u001b[0mcls\u001b[0m\u001b[1;33m)\u001b[0m\u001b[1;33m\u001b[0m\u001b[1;33m\u001b[0m\u001b[0m\n",
      "\u001b[1;32m~\\conda\\lib\\site-packages\\statsmodels\\tsa\\arima_model.py\u001b[0m in \u001b[0;36m__init__\u001b[1;34m(self, endog, order, exog, dates, freq, missing)\u001b[0m\n\u001b[0;32m    473\u001b[0m         \u001b[0msuper\u001b[0m\u001b[1;33m(\u001b[0m\u001b[0mARMA\u001b[0m\u001b[1;33m,\u001b[0m \u001b[0mself\u001b[0m\u001b[1;33m)\u001b[0m\u001b[1;33m.\u001b[0m\u001b[0m__init__\u001b[0m\u001b[1;33m(\u001b[0m\u001b[0mendog\u001b[0m\u001b[1;33m,\u001b[0m \u001b[0mexog\u001b[0m\u001b[1;33m,\u001b[0m \u001b[0mdates\u001b[0m\u001b[1;33m,\u001b[0m \u001b[0mfreq\u001b[0m\u001b[1;33m,\u001b[0m \u001b[0mmissing\u001b[0m\u001b[1;33m=\u001b[0m\u001b[0mmissing\u001b[0m\u001b[1;33m)\u001b[0m\u001b[1;33m\u001b[0m\u001b[1;33m\u001b[0m\u001b[0m\n\u001b[0;32m    474\u001b[0m         \u001b[1;31m# GH 2575\u001b[0m\u001b[1;33m\u001b[0m\u001b[1;33m\u001b[0m\u001b[1;33m\u001b[0m\u001b[0m\n\u001b[1;32m--> 475\u001b[1;33m         \u001b[0marray_like\u001b[0m\u001b[1;33m(\u001b[0m\u001b[0mendog\u001b[0m\u001b[1;33m,\u001b[0m \u001b[1;34m'endog'\u001b[0m\u001b[1;33m)\u001b[0m\u001b[1;33m\u001b[0m\u001b[1;33m\u001b[0m\u001b[0m\n\u001b[0m\u001b[0;32m    476\u001b[0m         \u001b[0mexog\u001b[0m \u001b[1;33m=\u001b[0m \u001b[0marray_like\u001b[0m\u001b[1;33m(\u001b[0m\u001b[0mself\u001b[0m\u001b[1;33m.\u001b[0m\u001b[0mdata\u001b[0m\u001b[1;33m.\u001b[0m\u001b[0mexog\u001b[0m\u001b[1;33m,\u001b[0m \u001b[1;34m'exog'\u001b[0m\u001b[1;33m,\u001b[0m \u001b[0mndim\u001b[0m\u001b[1;33m=\u001b[0m\u001b[1;36m2\u001b[0m\u001b[1;33m,\u001b[0m \u001b[0moptional\u001b[0m\u001b[1;33m=\u001b[0m\u001b[1;32mTrue\u001b[0m\u001b[1;33m)\u001b[0m\u001b[1;33m\u001b[0m\u001b[1;33m\u001b[0m\u001b[0m\n\u001b[0;32m    477\u001b[0m         \u001b[0m_check_estimable\u001b[0m\u001b[1;33m(\u001b[0m\u001b[0mlen\u001b[0m\u001b[1;33m(\u001b[0m\u001b[0mself\u001b[0m\u001b[1;33m.\u001b[0m\u001b[0mendog\u001b[0m\u001b[1;33m)\u001b[0m\u001b[1;33m,\u001b[0m \u001b[0msum\u001b[0m\u001b[1;33m(\u001b[0m\u001b[0morder\u001b[0m\u001b[1;33m)\u001b[0m\u001b[1;33m)\u001b[0m\u001b[1;33m\u001b[0m\u001b[1;33m\u001b[0m\u001b[0m\n",
      "\u001b[1;32m~\\conda\\lib\\site-packages\\statsmodels\\tools\\validation\\validation.py\u001b[0m in \u001b[0;36marray_like\u001b[1;34m(obj, name, dtype, ndim, maxdim, shape, order, contiguous, optional)\u001b[0m\n\u001b[0;32m    133\u001b[0m     \u001b[1;32mif\u001b[0m \u001b[0moptional\u001b[0m \u001b[1;32mand\u001b[0m \u001b[0mobj\u001b[0m \u001b[1;32mis\u001b[0m \u001b[1;32mNone\u001b[0m\u001b[1;33m:\u001b[0m\u001b[1;33m\u001b[0m\u001b[1;33m\u001b[0m\u001b[0m\n\u001b[0;32m    134\u001b[0m         \u001b[1;32mreturn\u001b[0m \u001b[1;32mNone\u001b[0m\u001b[1;33m\u001b[0m\u001b[1;33m\u001b[0m\u001b[0m\n\u001b[1;32m--> 135\u001b[1;33m     \u001b[0marr\u001b[0m \u001b[1;33m=\u001b[0m \u001b[0mnp\u001b[0m\u001b[1;33m.\u001b[0m\u001b[0masarray\u001b[0m\u001b[1;33m(\u001b[0m\u001b[0mobj\u001b[0m\u001b[1;33m,\u001b[0m \u001b[0mdtype\u001b[0m\u001b[1;33m=\u001b[0m\u001b[0mdtype\u001b[0m\u001b[1;33m,\u001b[0m \u001b[0morder\u001b[0m\u001b[1;33m=\u001b[0m\u001b[0morder\u001b[0m\u001b[1;33m)\u001b[0m\u001b[1;33m\u001b[0m\u001b[1;33m\u001b[0m\u001b[0m\n\u001b[0m\u001b[0;32m    136\u001b[0m     \u001b[1;32mif\u001b[0m \u001b[0mmaxdim\u001b[0m \u001b[1;32mis\u001b[0m \u001b[1;32mnot\u001b[0m \u001b[1;32mNone\u001b[0m\u001b[1;33m:\u001b[0m\u001b[1;33m\u001b[0m\u001b[1;33m\u001b[0m\u001b[0m\n\u001b[0;32m    137\u001b[0m         \u001b[1;32mif\u001b[0m \u001b[0marr\u001b[0m\u001b[1;33m.\u001b[0m\u001b[0mndim\u001b[0m \u001b[1;33m>\u001b[0m \u001b[0mmaxdim\u001b[0m\u001b[1;33m:\u001b[0m\u001b[1;33m\u001b[0m\u001b[1;33m\u001b[0m\u001b[0m\n",
      "\u001b[1;32m~\\conda\\lib\\site-packages\\numpy\\core\\_asarray.py\u001b[0m in \u001b[0;36masarray\u001b[1;34m(a, dtype, order, like)\u001b[0m\n\u001b[0;32m    100\u001b[0m         \u001b[1;32mreturn\u001b[0m \u001b[0m_asarray_with_like\u001b[0m\u001b[1;33m(\u001b[0m\u001b[0ma\u001b[0m\u001b[1;33m,\u001b[0m \u001b[0mdtype\u001b[0m\u001b[1;33m=\u001b[0m\u001b[0mdtype\u001b[0m\u001b[1;33m,\u001b[0m \u001b[0morder\u001b[0m\u001b[1;33m=\u001b[0m\u001b[0morder\u001b[0m\u001b[1;33m,\u001b[0m \u001b[0mlike\u001b[0m\u001b[1;33m=\u001b[0m\u001b[0mlike\u001b[0m\u001b[1;33m)\u001b[0m\u001b[1;33m\u001b[0m\u001b[1;33m\u001b[0m\u001b[0m\n\u001b[0;32m    101\u001b[0m \u001b[1;33m\u001b[0m\u001b[0m\n\u001b[1;32m--> 102\u001b[1;33m     \u001b[1;32mreturn\u001b[0m \u001b[0marray\u001b[0m\u001b[1;33m(\u001b[0m\u001b[0ma\u001b[0m\u001b[1;33m,\u001b[0m \u001b[0mdtype\u001b[0m\u001b[1;33m,\u001b[0m \u001b[0mcopy\u001b[0m\u001b[1;33m=\u001b[0m\u001b[1;32mFalse\u001b[0m\u001b[1;33m,\u001b[0m \u001b[0morder\u001b[0m\u001b[1;33m=\u001b[0m\u001b[0morder\u001b[0m\u001b[1;33m)\u001b[0m\u001b[1;33m\u001b[0m\u001b[1;33m\u001b[0m\u001b[0m\n\u001b[0m\u001b[0;32m    103\u001b[0m \u001b[1;33m\u001b[0m\u001b[0m\n\u001b[0;32m    104\u001b[0m \u001b[1;33m\u001b[0m\u001b[0m\n",
      "\u001b[1;31mValueError\u001b[0m: could not convert string to float: '2016-10-15'"
     ]
    }
   ],
   "source": [
    "getresult_auto_arima()"
   ]
  },
  {
   "cell_type": "code",
   "execution_count": 130,
   "id": "b96da780",
   "metadata": {},
   "outputs": [],
   "source": [
    "df = pd.read_csv('TimeSeries_small.csv')\n",
    "df.columns = ['date', 'num']\n",
    "series = df['date']\n",
    "x_value = series.values\n",
    "    \n",
    "size = int(len(x_value) * 0.66)  # 훈련데이터 66%\n",
    "test, train = x_value[0:size], x_value[size:len(x_value)]  # train과 test로 데이터셋 분리\n",
    "history = [index for index in train]"
   ]
  },
  {
   "cell_type": "code",
   "execution_count": 131,
   "id": "01a26011",
   "metadata": {},
   "outputs": [
    {
     "data": {
      "text/plain": [
       "['2016-10-15',\n",
       " '2016-10-17',\n",
       " '2016-10-18',\n",
       " '2016-10-19',\n",
       " '2016-10-22',\n",
       " '2016-10-24',\n",
       " '2016-10-25',\n",
       " '2016-10-26']"
      ]
     },
     "execution_count": 131,
     "metadata": {},
     "output_type": "execute_result"
    }
   ],
   "source": [
    "history"
   ]
  },
  {
   "cell_type": "code",
   "execution_count": null,
   "id": "7172ad47",
   "metadata": {},
   "outputs": [],
   "source": [
    "df.columns = ['date', 'num']\n",
    "    size = int(len(x_value) * 0.66)  # 훈련데이터 66%"
   ]
  },
  {
   "cell_type": "code",
   "execution_count": 71,
   "id": "91ae719f",
   "metadata": {},
   "outputs": [
    {
     "data": {
      "text/plain": [
       "'{\"8\":\"0 ,2 ,2, 274.51817985996234\",\"4\":\"0 ,1 ,1, 275.9857352113954\",\"5\":\"0 ,1 ,2, 276.7903076634351\",\"11\":\"1 ,1 ,1, 277.0629150911146\",\"2\":\"0 ,0 ,2, 277.69622140688614\",\"0\":\"0 ,0 ,0, 280.6534392119996\",\"1\":\"0 ,0 ,1, 280.91601797310966\",\"13\":\"1 ,2 ,1, 281.3782513047845\",\"9\":\"1 ,0 ,0, 281.46092839143193\",\"14\":\"2 ,0 ,0, 283.1182513926211\",\"15\":\"2 ,1 ,0, 284.9788138336778\",\"10\":\"1 ,1 ,0, 285.62629232280216\",\"7\":\"0 ,2 ,1, 287.53410077725954\",\"16\":\"2 ,2 ,0, 291.54336294944346\",\"3\":\"0 ,1 ,0, 292.943621965823\",\"17\":\"2 ,2 ,1, 294.839540239882\",\"12\":\"1 ,2 ,0, 295.4229627791558\",\"6\":\"0 ,2 ,0, 309.6504276062277\"}'"
      ]
     },
     "execution_count": 71,
     "metadata": {},
     "output_type": "execute_result"
    }
   ],
   "source": [
    "a.test.to_json()"
   ]
  },
  {
   "cell_type": "code",
   "execution_count": 31,
   "id": "8634fca1",
   "metadata": {},
   "outputs": [
    {
     "data": {
      "text/plain": [
       "'{\"order\":{\"8\":0,\"4\":0,\"5\":0,\"11\":1,\"2\":0,\"0\":0,\"1\":0,\"13\":1,\"9\":1,\"14\":2,\"15\":2,\"10\":1,\"7\":0,\"16\":2,\"3\":0,\"17\":2,\"12\":1,\"6\":0},\"order1\":{\"8\":2,\"4\":1,\"5\":1,\"11\":1,\"2\":0,\"0\":0,\"1\":0,\"13\":2,\"9\":0,\"14\":0,\"15\":1,\"10\":1,\"7\":2,\"16\":2,\"3\":1,\"17\":2,\"12\":2,\"6\":2},\"order2\":{\"8\":2,\"4\":1,\"5\":2,\"11\":1,\"2\":2,\"0\":0,\"1\":1,\"13\":1,\"9\":0,\"14\":0,\"15\":0,\"10\":0,\"7\":1,\"16\":0,\"3\":0,\"17\":1,\"12\":0,\"6\":0},\"AIC\":{\"8\":274.51817986,\"4\":275.9857352114,\"5\":276.7903076634,\"11\":277.0629150911,\"2\":277.6962214069,\"0\":280.653439212,\"1\":280.9160179731,\"13\":281.3782513048,\"9\":281.4609283914,\"14\":283.1182513926,\"15\":284.9788138337,\"10\":285.6262923228,\"7\":287.5341007773,\"16\":291.5433629494,\"3\":292.9436219658,\"17\":294.8395402399,\"12\":295.4229627792,\"6\":309.6504276062}}'"
      ]
     },
     "execution_count": 31,
     "metadata": {},
     "output_type": "execute_result"
    }
   ],
   "source": [
    "a.to_json()"
   ]
  },
  {
   "cell_type": "markdown",
   "id": "d16f7930",
   "metadata": {},
   "source": [
    "# 고정"
   ]
  },
  {
   "cell_type": "code",
   "execution_count": 24,
   "id": "2fc74d60",
   "metadata": {},
   "outputs": [],
   "source": [
    "def my_auto_arima(data,order,sort = 'AIC'):\n",
    "    order_list = []\n",
    "    aic_list = []\n",
    "    bic_list = []\n",
    "    for p in range(order[0]):\n",
    "        for d in range(order[1]):\n",
    "            for q in range(order[2]):\n",
    "                model = ARIMA(data, order=(p,d,q))\n",
    "                try:\n",
    "                    model_fit = model.fit()\n",
    "                    c_order = f'p:{p} d:{d} q:{q}'\n",
    "                    aic = model_fit.aic\n",
    "                    bic = model_fit.bic\n",
    "                    order_list.append(c_order)\n",
    "                    aic_list.append(aic)\n",
    "                    bic_list.append(bic)\n",
    "                except:\n",
    "                    pass\n",
    "                result_df = pd.DataFrame(list(zip(order_list, aic_list)),columns=['order','AIC'])\n",
    "                result_df.sort_values(sort, inplace=True)\n",
    "    return result_df"
   ]
  },
  {
   "cell_type": "code",
   "execution_count": 25,
   "id": "0290297b",
   "metadata": {},
   "outputs": [
    {
     "data": {
      "text/html": [
       "<div>\n",
       "<style scoped>\n",
       "    .dataframe tbody tr th:only-of-type {\n",
       "        vertical-align: middle;\n",
       "    }\n",
       "\n",
       "    .dataframe tbody tr th {\n",
       "        vertical-align: top;\n",
       "    }\n",
       "\n",
       "    .dataframe thead th {\n",
       "        text-align: right;\n",
       "    }\n",
       "</style>\n",
       "<table border=\"1\" class=\"dataframe\">\n",
       "  <thead>\n",
       "    <tr style=\"text-align: right;\">\n",
       "      <th></th>\n",
       "      <th>order</th>\n",
       "      <th>AIC</th>\n",
       "    </tr>\n",
       "  </thead>\n",
       "  <tbody>\n",
       "    <tr>\n",
       "      <th>8</th>\n",
       "      <td>p:0 d:2 q:2</td>\n",
       "      <td>274.518180</td>\n",
       "    </tr>\n",
       "    <tr>\n",
       "      <th>4</th>\n",
       "      <td>p:0 d:1 q:1</td>\n",
       "      <td>275.985735</td>\n",
       "    </tr>\n",
       "    <tr>\n",
       "      <th>5</th>\n",
       "      <td>p:0 d:1 q:2</td>\n",
       "      <td>276.790308</td>\n",
       "    </tr>\n",
       "    <tr>\n",
       "      <th>11</th>\n",
       "      <td>p:1 d:1 q:1</td>\n",
       "      <td>277.062915</td>\n",
       "    </tr>\n",
       "    <tr>\n",
       "      <th>2</th>\n",
       "      <td>p:0 d:0 q:2</td>\n",
       "      <td>277.696221</td>\n",
       "    </tr>\n",
       "    <tr>\n",
       "      <th>0</th>\n",
       "      <td>p:0 d:0 q:0</td>\n",
       "      <td>280.653439</td>\n",
       "    </tr>\n",
       "    <tr>\n",
       "      <th>1</th>\n",
       "      <td>p:0 d:0 q:1</td>\n",
       "      <td>280.916018</td>\n",
       "    </tr>\n",
       "    <tr>\n",
       "      <th>13</th>\n",
       "      <td>p:1 d:2 q:1</td>\n",
       "      <td>281.378251</td>\n",
       "    </tr>\n",
       "    <tr>\n",
       "      <th>9</th>\n",
       "      <td>p:1 d:0 q:0</td>\n",
       "      <td>281.460928</td>\n",
       "    </tr>\n",
       "    <tr>\n",
       "      <th>14</th>\n",
       "      <td>p:2 d:0 q:0</td>\n",
       "      <td>283.118251</td>\n",
       "    </tr>\n",
       "    <tr>\n",
       "      <th>15</th>\n",
       "      <td>p:2 d:1 q:0</td>\n",
       "      <td>284.978814</td>\n",
       "    </tr>\n",
       "    <tr>\n",
       "      <th>10</th>\n",
       "      <td>p:1 d:1 q:0</td>\n",
       "      <td>285.626292</td>\n",
       "    </tr>\n",
       "    <tr>\n",
       "      <th>7</th>\n",
       "      <td>p:0 d:2 q:1</td>\n",
       "      <td>287.534101</td>\n",
       "    </tr>\n",
       "    <tr>\n",
       "      <th>16</th>\n",
       "      <td>p:2 d:2 q:0</td>\n",
       "      <td>291.543363</td>\n",
       "    </tr>\n",
       "    <tr>\n",
       "      <th>3</th>\n",
       "      <td>p:0 d:1 q:0</td>\n",
       "      <td>292.943622</td>\n",
       "    </tr>\n",
       "    <tr>\n",
       "      <th>17</th>\n",
       "      <td>p:2 d:2 q:1</td>\n",
       "      <td>294.839540</td>\n",
       "    </tr>\n",
       "    <tr>\n",
       "      <th>12</th>\n",
       "      <td>p:1 d:2 q:0</td>\n",
       "      <td>295.422963</td>\n",
       "    </tr>\n",
       "    <tr>\n",
       "      <th>6</th>\n",
       "      <td>p:0 d:2 q:0</td>\n",
       "      <td>309.650428</td>\n",
       "    </tr>\n",
       "  </tbody>\n",
       "</table>\n",
       "</div>"
      ],
      "text/plain": [
       "          order         AIC\n",
       "8   p:0 d:2 q:2  274.518180\n",
       "4   p:0 d:1 q:1  275.985735\n",
       "5   p:0 d:1 q:2  276.790308\n",
       "11  p:1 d:1 q:1  277.062915\n",
       "2   p:0 d:0 q:2  277.696221\n",
       "0   p:0 d:0 q:0  280.653439\n",
       "1   p:0 d:0 q:1  280.916018\n",
       "13  p:1 d:2 q:1  281.378251\n",
       "9   p:1 d:0 q:0  281.460928\n",
       "14  p:2 d:0 q:0  283.118251\n",
       "15  p:2 d:1 q:0  284.978814\n",
       "10  p:1 d:1 q:0  285.626292\n",
       "7   p:0 d:2 q:1  287.534101\n",
       "16  p:2 d:2 q:0  291.543363\n",
       "3   p:0 d:1 q:0  292.943622\n",
       "17  p:2 d:2 q:1  294.839540\n",
       "12  p:1 d:2 q:0  295.422963\n",
       "6   p:0 d:2 q:0  309.650428"
      ]
     },
     "execution_count": 25,
     "metadata": {},
     "output_type": "execute_result"
    }
   ],
   "source": [
    "my_auto_arima(train,[3,3,3])"
   ]
  },
  {
   "cell_type": "code",
   "execution_count": 264,
   "id": "c79c4268",
   "metadata": {},
   "outputs": [
    {
     "name": "stdout",
     "output_type": "stream",
     "text": [
      "<class 'pandas.core.frame.DataFrame'>\n",
      "Int64Index: 18 entries, 8 to 6\n",
      "Data columns (total 2 columns):\n",
      " #   Column  Non-Null Count  Dtype  \n",
      "---  ------  --------------  -----  \n",
      " 0   order   18 non-null     object \n",
      " 1   AIC     18 non-null     float64\n",
      "dtypes: float64(1), object(1)\n",
      "memory usage: 432.0+ bytes\n"
     ]
    }
   ],
   "source": [
    "a.info()"
   ]
  },
  {
   "cell_type": "code",
   "execution_count": 271,
   "id": "defaaf84",
   "metadata": {},
   "outputs": [
    {
     "data": {
      "text/plain": [
       "array(['p:0 d:2 q:2', 'p:0 d:1 q:1', 'p:0 d:1 q:2', 'p:1 d:1 q:1',\n",
       "       'p:0 d:0 q:2', 'p:0 d:0 q:0', 'p:0 d:0 q:1', 'p:1 d:2 q:1',\n",
       "       'p:1 d:0 q:0', 'p:2 d:0 q:0', 'p:2 d:1 q:0', 'p:1 d:1 q:0',\n",
       "       'p:0 d:2 q:1', 'p:2 d:2 q:0', 'p:0 d:1 q:0', 'p:2 d:2 q:1',\n",
       "       'p:1 d:2 q:0'], dtype=object)"
      ]
     },
     "execution_count": 271,
     "metadata": {},
     "output_type": "execute_result"
    }
   ],
   "source": [
    "b=a.order.values[0:17]\n",
    "b"
   ]
  },
  {
   "cell_type": "code",
   "execution_count": 9,
   "id": "8278c04d",
   "metadata": {},
   "outputs": [
    {
     "name": "stdout",
     "output_type": "stream",
     "text": [
      "                             ARIMA Model Results                              \n",
      "==============================================================================\n",
      "Dep. Variable:                  D.CNT   No. Observations:                   25\n",
      "Model:                 ARIMA(1, 1, 0)   Log Likelihood                -139.813\n",
      "Method:                       css-mle   S.D. of innovations             64.485\n",
      "Date:                Thu, 18 Nov 2021   AIC                            285.626\n",
      "Time:                        09:53:10   BIC                            289.283\n",
      "Sample:                    03-06-2018   HQIC                           286.640\n",
      "                         - 03-30-2018                                         \n",
      "===============================================================================\n",
      "                  coef    std err          z      P>|z|      [0.025      0.975]\n",
      "-------------------------------------------------------------------------------\n",
      "const          -1.1207      8.450     -0.133      0.894     -17.683      15.442\n",
      "ar.L1.D.CNT    -0.5485      0.160     -3.426      0.001      -0.862      -0.235\n",
      "                                    Roots                                    \n",
      "=============================================================================\n",
      "                  Real          Imaginary           Modulus         Frequency\n",
      "-----------------------------------------------------------------------------\n",
      "AR.1           -1.8233           +0.0000j            1.8233            0.5000\n",
      "-----------------------------------------------------------------------------\n"
     ]
    },
    {
     "name": "stderr",
     "output_type": "stream",
     "text": [
      "C:\\Users\\areum\\conda\\lib\\site-packages\\statsmodels\\tsa\\base\\tsa_model.py:524: ValueWarning: No frequency information was provided, so inferred frequency D will be used.\n",
      "  warnings.warn('No frequency information was'\n",
      "C:\\Users\\areum\\conda\\lib\\site-packages\\statsmodels\\tsa\\base\\tsa_model.py:524: ValueWarning: No frequency information was provided, so inferred frequency D will be used.\n",
      "  warnings.warn('No frequency information was'\n"
     ]
    }
   ],
   "source": [
    "from statsmodels.tsa.arima_model import ARIMA\n",
    "import statsmodels.api as sm\n",
    "\n",
    "#(ar=2,차분=1, ma=3)파라미터로 arima모델을 학습\n",
    "model=ARIMA(train, order=(1,1,0))\n",
    "model_fit=model.fit(trend='c',full_output=True,disp=1)\n",
    "print(model_fit.summary())"
   ]
  },
  {
   "cell_type": "code",
   "execution_count": 10,
   "id": "0eca0adf",
   "metadata": {},
   "outputs": [
    {
     "data": {
      "text/plain": [
       "285.62629232280216"
      ]
     },
     "execution_count": 10,
     "metadata": {},
     "output_type": "execute_result"
    }
   ],
   "source": [
    "model_fit.aic"
   ]
  },
  {
   "cell_type": "code",
   "execution_count": 11,
   "id": "c168d397",
   "metadata": {},
   "outputs": [
    {
     "data": {
      "text/plain": [
       "<AxesSubplot:xlabel='ACCOUNTDATE'>"
      ]
     },
     "execution_count": 11,
     "metadata": {},
     "output_type": "execute_result"
    },
    {
     "data": {
      "image/png": "[encoded data removed]",
      "text/plain": [
       "<Figure size 432x288 with 1 Axes>"
      ]
     },
     "metadata": {
      "needs_background": "light"
     },
     "output_type": "display_data"
    },
    {
     "data": {
      "image/png": "[encoded data removed]",
      "text/plain": [
       "<Figure size 432x288 with 1 Axes>"
      ]
     },
     "metadata": {
      "needs_background": "light"
     },
     "output_type": "display_data"
    }
   ],
   "source": [
    "fig=model_fit.plot_predict()\n",
    "residuals=pd.DataFrame(model_fit.resid)\n",
    "residuals.plot()"
   ]
  },
  {
   "cell_type": "code",
   "execution_count": 25,
   "id": "009719c8",
   "metadata": {},
   "outputs": [],
   "source": [
    "forecast_data=model_fit.forecast(steps=21) \n",
    "\n",
    "pred_y=forecast_data[0].tolist()"
   ]
  },
  {
   "cell_type": "code",
   "execution_count": 26,
   "id": "12b49a2b",
   "metadata": {},
   "outputs": [
    {
     "data": {
      "text/plain": [
       "[134.8748908955077,\n",
       " 145.82258308832894,\n",
       " 138.08289098547797,\n",
       " 140.5923805911374,\n",
       " 137.48065943599542,\n",
       " 137.4519171289221,\n",
       " 135.7323009190379,\n",
       " 134.94005226375043,\n",
       " 133.63918461571072,\n",
       " 132.617271389255,\n",
       " 131.4423643296351,\n",
       " 130.35136744019053,\n",
       " 129.21434963269172,\n",
       " 128.1025722089763,\n",
       " 126.97695158089931,\n",
       " 125.85892332180691,\n",
       " 124.73673099308925,\n",
       " 123.61682246747432,\n",
       " 122.49566137956303,\n",
       " 121.37518726519353,\n",
       " 120.25433637703122]"
      ]
     },
     "execution_count": 26,
     "metadata": {},
     "output_type": "execute_result"
    }
   ],
   "source": [
    "pred_y"
   ]
  },
  {
   "cell_type": "code",
   "execution_count": 30,
   "id": "21f01e83",
   "metadata": {},
   "outputs": [],
   "source": [
    "forecast_data=model_fit.forecast(steps=20) \n",
    "\n",
    "pred_y=forecast_data[0].tolist()\n",
    "test_y=test.CNT.values "
   ]
  },
  {
   "cell_type": "code",
   "execution_count": 31,
   "id": "b33abd32",
   "metadata": {},
   "outputs": [
    {
     "data": {
      "text/plain": [
       "[<matplotlib.lines.Line2D at 0x290474d1460>]"
      ]
     },
     "execution_count": 31,
     "metadata": {},
     "output_type": "execute_result"
    },
    {
     "data": {
      "image/png": "[encoded data removed]",
      "text/plain": [
       "<Figure size 432x288 with 1 Axes>"
      ]
     },
     "metadata": {
      "needs_background": "light"
     },
     "output_type": "display_data"
    }
   ],
   "source": [
    "plt.plot(pred_y,color='red') #에측값\n",
    "plt.plot(test_y,color='blue') #실제값"
   ]
  },
  {
   "cell_type": "code",
   "execution_count": 30,
   "id": "a5e57062",
   "metadata": {},
   "outputs": [
    {
     "name": "stdout",
     "output_type": "stream",
     "text": [
      "63.040103015292075\n"
     ]
    }
   ],
   "source": [
    "from sklearn.metrics import mean_squared_error,r2_score\n",
    "from math import sqrt\n",
    "\n",
    "rmse=sqrt(mean_squared_error(pred_y,test_y))\n",
    "print(rmse)"
   ]
  },
  {
   "cell_type": "markdown",
   "id": "6cc06617",
   "metadata": {},
   "source": [
    "# --------------------------------------------------------------------------------------------------------------"
   ]
  },
  {
   "cell_type": "code",
   "execution_count": 23,
   "id": "599e47b3",
   "metadata": {},
   "outputs": [],
   "source": [
    "from fbprophet import Prophet"
   ]
  },
  {
   "cell_type": "code",
   "execution_count": 24,
   "id": "05de0b4f",
   "metadata": {},
   "outputs": [],
   "source": [
    "train.columns=['ds','y']\n",
    "#test.columns=['ds','y']"
   ]
  },
  {
   "cell_type": "code",
   "execution_count": 9,
   "id": "84bfd2c9",
   "metadata": {},
   "outputs": [],
   "source": [
    "train=train[(train['ds']>='2018-01-02')&(train['ds']<='2018-03-30')]\n",
    "test=test[(test['ds']>='2018-04-02')&(test['ds']<='2018-04-30')]"
   ]
  },
  {
   "cell_type": "code",
   "execution_count": 25,
   "id": "60901cf6",
   "metadata": {},
   "outputs": [
    {
     "name": "stderr",
     "output_type": "stream",
     "text": [
      "INFO:fbprophet:Disabling yearly seasonality. Run prophet with yearly_seasonality=True to override this.\n"
     ]
    },
    {
     "data": {
      "text/plain": [
       "<fbprophet.forecaster.Prophet at 0x244df67ba90>"
      ]
     },
     "execution_count": 25,
     "metadata": {},
     "output_type": "execute_result"
    }
   ],
   "source": [
    "prophet = Prophet(seasonality_mode = 'multiplicative',\n",
    "                 daily_seasonality=True,\n",
    "                 changepoint_prior_scale=0.5)\n",
    "prophet.fit(train)"
   ]
  },
  {
   "cell_type": "code",
   "execution_count": 31,
   "id": "82f8ec6d",
   "metadata": {},
   "outputs": [],
   "source": [
    "future_data = prophet.make_future_dataframe(periods = 7, freq = 'd')\n",
    "forecast_data = prophet.predict(future_data)\n",
    "a=forecast_data[['ds','yhat', 'yhat_lower', 'yhat_upper']].tail(7)"
   ]
  },
  {
   "cell_type": "code",
   "execution_count": 32,
   "id": "83f70bf2",
   "metadata": {},
   "outputs": [
    {
     "data": {
      "image/png": "[encoded data removed]",
      "text/plain": [
       "<Figure size 720x432 with 1 Axes>"
      ]
     },
     "metadata": {},
     "output_type": "display_data"
    }
   ],
   "source": [
    "fig1=prophet.plot(forecast_data)"
   ]
  },
  {
   "cell_type": "code",
   "execution_count": 28,
   "id": "e846867c",
   "metadata": {},
   "outputs": [
    {
     "data": {
      "text/html": [
       "<div>\n",
       "<style scoped>\n",
       "    .dataframe tbody tr th:only-of-type {\n",
       "        vertical-align: middle;\n",
       "    }\n",
       "\n",
       "    .dataframe tbody tr th {\n",
       "        vertical-align: top;\n",
       "    }\n",
       "\n",
       "    .dataframe thead th {\n",
       "        text-align: right;\n",
       "    }\n",
       "</style>\n",
       "<table border=\"1\" class=\"dataframe\">\n",
       "  <thead>\n",
       "    <tr style=\"text-align: right;\">\n",
       "      <th></th>\n",
       "      <th>ds</th>\n",
       "      <th>yhat</th>\n",
       "      <th>yhat_lower</th>\n",
       "      <th>yhat_upper</th>\n",
       "    </tr>\n",
       "  </thead>\n",
       "  <tbody>\n",
       "    <tr>\n",
       "      <th>57</th>\n",
       "      <td>2018-05-01</td>\n",
       "      <td>188.010599</td>\n",
       "      <td>170.908474</td>\n",
       "      <td>201.968040</td>\n",
       "    </tr>\n",
       "    <tr>\n",
       "      <th>58</th>\n",
       "      <td>2018-05-02</td>\n",
       "      <td>179.207464</td>\n",
       "      <td>117.964330</td>\n",
       "      <td>232.156158</td>\n",
       "    </tr>\n",
       "    <tr>\n",
       "      <th>59</th>\n",
       "      <td>2018-05-03</td>\n",
       "      <td>172.494401</td>\n",
       "      <td>51.194146</td>\n",
       "      <td>289.172954</td>\n",
       "    </tr>\n",
       "    <tr>\n",
       "      <th>60</th>\n",
       "      <td>2018-05-04</td>\n",
       "      <td>197.218562</td>\n",
       "      <td>-28.504392</td>\n",
       "      <td>413.110786</td>\n",
       "    </tr>\n",
       "    <tr>\n",
       "      <th>61</th>\n",
       "      <td>2018-05-05</td>\n",
       "      <td>137.694294</td>\n",
       "      <td>-92.224847</td>\n",
       "      <td>349.110576</td>\n",
       "    </tr>\n",
       "    <tr>\n",
       "      <th>62</th>\n",
       "      <td>2018-05-06</td>\n",
       "      <td>8.444922</td>\n",
       "      <td>-13.166226</td>\n",
       "      <td>28.057638</td>\n",
       "    </tr>\n",
       "    <tr>\n",
       "      <th>63</th>\n",
       "      <td>2018-05-07</td>\n",
       "      <td>228.530561</td>\n",
       "      <td>-420.179480</td>\n",
       "      <td>852.107145</td>\n",
       "    </tr>\n",
       "    <tr>\n",
       "      <th>64</th>\n",
       "      <td>2018-05-08</td>\n",
       "      <td>197.558868</td>\n",
       "      <td>-494.964217</td>\n",
       "      <td>846.631272</td>\n",
       "    </tr>\n",
       "    <tr>\n",
       "      <th>65</th>\n",
       "      <td>2018-05-09</td>\n",
       "      <td>188.243105</td>\n",
       "      <td>-612.273211</td>\n",
       "      <td>914.116310</td>\n",
       "    </tr>\n",
       "    <tr>\n",
       "      <th>66</th>\n",
       "      <td>2018-05-10</td>\n",
       "      <td>181.129372</td>\n",
       "      <td>-720.646265</td>\n",
       "      <td>1025.683578</td>\n",
       "    </tr>\n",
       "    <tr>\n",
       "      <th>67</th>\n",
       "      <td>2018-05-11</td>\n",
       "      <td>207.021109</td>\n",
       "      <td>-961.598761</td>\n",
       "      <td>1311.543668</td>\n",
       "    </tr>\n",
       "    <tr>\n",
       "      <th>68</th>\n",
       "      <td>2018-05-12</td>\n",
       "      <td>144.489994</td>\n",
       "      <td>-775.651467</td>\n",
       "      <td>1005.206006</td>\n",
       "    </tr>\n",
       "    <tr>\n",
       "      <th>69</th>\n",
       "      <td>2018-05-13</td>\n",
       "      <td>8.858791</td>\n",
       "      <td>-55.146329</td>\n",
       "      <td>67.695746</td>\n",
       "    </tr>\n",
       "    <tr>\n",
       "      <th>70</th>\n",
       "      <td>2018-05-14</td>\n",
       "      <td>239.652522</td>\n",
       "      <td>-1660.958848</td>\n",
       "      <td>1977.289404</td>\n",
       "    </tr>\n",
       "    <tr>\n",
       "      <th>71</th>\n",
       "      <td>2018-05-15</td>\n",
       "      <td>207.107136</td>\n",
       "      <td>-1642.934447</td>\n",
       "      <td>1832.715877</td>\n",
       "    </tr>\n",
       "    <tr>\n",
       "      <th>72</th>\n",
       "      <td>2018-05-16</td>\n",
       "      <td>197.278745</td>\n",
       "      <td>-1707.019106</td>\n",
       "      <td>1859.683823</td>\n",
       "    </tr>\n",
       "    <tr>\n",
       "      <th>73</th>\n",
       "      <td>2018-05-17</td>\n",
       "      <td>189.764343</td>\n",
       "      <td>-1783.764446</td>\n",
       "      <td>1973.741756</td>\n",
       "    </tr>\n",
       "    <tr>\n",
       "      <th>74</th>\n",
       "      <td>2018-05-18</td>\n",
       "      <td>216.823656</td>\n",
       "      <td>-2245.567678</td>\n",
       "      <td>2409.418397</td>\n",
       "    </tr>\n",
       "    <tr>\n",
       "      <th>75</th>\n",
       "      <td>2018-05-19</td>\n",
       "      <td>151.285695</td>\n",
       "      <td>-1684.032622</td>\n",
       "      <td>1822.901491</td>\n",
       "    </tr>\n",
       "    <tr>\n",
       "      <th>76</th>\n",
       "      <td>2018-05-20</td>\n",
       "      <td>9.272660</td>\n",
       "      <td>-112.591120</td>\n",
       "      <td>119.585573</td>\n",
       "    </tr>\n",
       "    <tr>\n",
       "      <th>77</th>\n",
       "      <td>2018-05-21</td>\n",
       "      <td>250.774484</td>\n",
       "      <td>-3273.635334</td>\n",
       "      <td>3476.593999</td>\n",
       "    </tr>\n",
       "  </tbody>\n",
       "</table>\n",
       "</div>"
      ],
      "text/plain": [
       "           ds        yhat   yhat_lower   yhat_upper\n",
       "57 2018-05-01  188.010599   170.908474   201.968040\n",
       "58 2018-05-02  179.207464   117.964330   232.156158\n",
       "59 2018-05-03  172.494401    51.194146   289.172954\n",
       "60 2018-05-04  197.218562   -28.504392   413.110786\n",
       "61 2018-05-05  137.694294   -92.224847   349.110576\n",
       "62 2018-05-06    8.444922   -13.166226    28.057638\n",
       "63 2018-05-07  228.530561  -420.179480   852.107145\n",
       "64 2018-05-08  197.558868  -494.964217   846.631272\n",
       "65 2018-05-09  188.243105  -612.273211   914.116310\n",
       "66 2018-05-10  181.129372  -720.646265  1025.683578\n",
       "67 2018-05-11  207.021109  -961.598761  1311.543668\n",
       "68 2018-05-12  144.489994  -775.651467  1005.206006\n",
       "69 2018-05-13    8.858791   -55.146329    67.695746\n",
       "70 2018-05-14  239.652522 -1660.958848  1977.289404\n",
       "71 2018-05-15  207.107136 -1642.934447  1832.715877\n",
       "72 2018-05-16  197.278745 -1707.019106  1859.683823\n",
       "73 2018-05-17  189.764343 -1783.764446  1973.741756\n",
       "74 2018-05-18  216.823656 -2245.567678  2409.418397\n",
       "75 2018-05-19  151.285695 -1684.032622  1822.901491\n",
       "76 2018-05-20    9.272660  -112.591120   119.585573\n",
       "77 2018-05-21  250.774484 -3273.635334  3476.593999"
      ]
     },
     "execution_count": 28,
     "metadata": {},
     "output_type": "execute_result"
    }
   ],
   "source": [
    "a"
   ]
  },
  {
   "cell_type": "code",
   "execution_count": 13,
   "id": "291acbd4",
   "metadata": {},
   "outputs": [],
   "source": [
    "pred_y=a.yhat.values[0:21]\n",
    "test_y=test.y.values[0:21]"
   ]
  },
  {
   "cell_type": "code",
   "execution_count": 28,
   "id": "67d61e36",
   "metadata": {},
   "outputs": [
    {
     "name": "stdout",
     "output_type": "stream",
     "text": [
      "<class 'pandas.core.frame.DataFrame'>\n",
      "RangeIndex: 21 entries, 61 to 81\n",
      "Data columns (total 4 columns):\n",
      " #   Column      Non-Null Count  Dtype         \n",
      "---  ------      --------------  -----         \n",
      " 0   ds          21 non-null     datetime64[ns]\n",
      " 1   yhat        21 non-null     float64       \n",
      " 2   yhat_lower  21 non-null     float64       \n",
      " 3   yhat_upper  21 non-null     float64       \n",
      "dtypes: datetime64[ns](1), float64(3)\n",
      "memory usage: 804.0 bytes\n"
     ]
    }
   ],
   "source": [
    "a.info()"
   ]
  },
  {
   "cell_type": "code",
   "execution_count": 27,
   "id": "934bbb60",
   "metadata": {},
   "outputs": [
    {
     "data": {
      "text/html": [
       "<div>\n",
       "<style scoped>\n",
       "    .dataframe tbody tr th:only-of-type {\n",
       "        vertical-align: middle;\n",
       "    }\n",
       "\n",
       "    .dataframe tbody tr th {\n",
       "        vertical-align: top;\n",
       "    }\n",
       "\n",
       "    .dataframe thead th {\n",
       "        text-align: right;\n",
       "    }\n",
       "</style>\n",
       "<table border=\"1\" class=\"dataframe\">\n",
       "  <thead>\n",
       "    <tr style=\"text-align: right;\">\n",
       "      <th></th>\n",
       "      <th>ds</th>\n",
       "      <th>yhat</th>\n",
       "      <th>yhat_lower</th>\n",
       "      <th>yhat_upper</th>\n",
       "    </tr>\n",
       "  </thead>\n",
       "  <tbody>\n",
       "    <tr>\n",
       "      <th>61</th>\n",
       "      <td>2018-03-31</td>\n",
       "      <td>124.611530</td>\n",
       "      <td>112.480630</td>\n",
       "      <td>137.365156</td>\n",
       "    </tr>\n",
       "    <tr>\n",
       "      <th>62</th>\n",
       "      <td>2018-04-01</td>\n",
       "      <td>124.065130</td>\n",
       "      <td>110.599004</td>\n",
       "      <td>138.918567</td>\n",
       "    </tr>\n",
       "    <tr>\n",
       "      <th>63</th>\n",
       "      <td>2018-04-02</td>\n",
       "      <td>162.763771</td>\n",
       "      <td>144.439859</td>\n",
       "      <td>181.102065</td>\n",
       "    </tr>\n",
       "    <tr>\n",
       "      <th>64</th>\n",
       "      <td>2018-04-03</td>\n",
       "      <td>146.404670</td>\n",
       "      <td>124.516034</td>\n",
       "      <td>168.377269</td>\n",
       "    </tr>\n",
       "    <tr>\n",
       "      <th>65</th>\n",
       "      <td>2018-04-04</td>\n",
       "      <td>142.472545</td>\n",
       "      <td>111.411942</td>\n",
       "      <td>173.351071</td>\n",
       "    </tr>\n",
       "    <tr>\n",
       "      <th>66</th>\n",
       "      <td>2018-04-05</td>\n",
       "      <td>129.087987</td>\n",
       "      <td>94.230309</td>\n",
       "      <td>166.353877</td>\n",
       "    </tr>\n",
       "    <tr>\n",
       "      <th>67</th>\n",
       "      <td>2018-04-06</td>\n",
       "      <td>150.078806</td>\n",
       "      <td>98.435174</td>\n",
       "      <td>201.370775</td>\n",
       "    </tr>\n",
       "    <tr>\n",
       "      <th>68</th>\n",
       "      <td>2018-04-07</td>\n",
       "      <td>120.786724</td>\n",
       "      <td>68.281098</td>\n",
       "      <td>173.807756</td>\n",
       "    </tr>\n",
       "    <tr>\n",
       "      <th>69</th>\n",
       "      <td>2018-04-08</td>\n",
       "      <td>120.240323</td>\n",
       "      <td>56.351123</td>\n",
       "      <td>184.536552</td>\n",
       "    </tr>\n",
       "    <tr>\n",
       "      <th>70</th>\n",
       "      <td>2018-04-09</td>\n",
       "      <td>157.723726</td>\n",
       "      <td>57.972130</td>\n",
       "      <td>257.936320</td>\n",
       "    </tr>\n",
       "    <tr>\n",
       "      <th>71</th>\n",
       "      <td>2018-04-10</td>\n",
       "      <td>141.851048</td>\n",
       "      <td>36.644718</td>\n",
       "      <td>242.830973</td>\n",
       "    </tr>\n",
       "    <tr>\n",
       "      <th>72</th>\n",
       "      <td>2018-04-11</td>\n",
       "      <td>138.021446</td>\n",
       "      <td>25.526528</td>\n",
       "      <td>257.042384</td>\n",
       "    </tr>\n",
       "    <tr>\n",
       "      <th>73</th>\n",
       "      <td>2018-04-12</td>\n",
       "      <td>125.036966</td>\n",
       "      <td>7.281268</td>\n",
       "      <td>246.314386</td>\n",
       "    </tr>\n",
       "    <tr>\n",
       "      <th>74</th>\n",
       "      <td>2018-04-13</td>\n",
       "      <td>145.347845</td>\n",
       "      <td>-11.974205</td>\n",
       "      <td>305.978234</td>\n",
       "    </tr>\n",
       "    <tr>\n",
       "      <th>75</th>\n",
       "      <td>2018-04-14</td>\n",
       "      <td>116.961918</td>\n",
       "      <td>-23.793210</td>\n",
       "      <td>262.667789</td>\n",
       "    </tr>\n",
       "    <tr>\n",
       "      <th>76</th>\n",
       "      <td>2018-04-15</td>\n",
       "      <td>116.415517</td>\n",
       "      <td>-44.447203</td>\n",
       "      <td>274.028018</td>\n",
       "    </tr>\n",
       "    <tr>\n",
       "      <th>77</th>\n",
       "      <td>2018-04-16</td>\n",
       "      <td>152.683682</td>\n",
       "      <td>-79.214883</td>\n",
       "      <td>386.847604</td>\n",
       "    </tr>\n",
       "    <tr>\n",
       "      <th>78</th>\n",
       "      <td>2018-04-17</td>\n",
       "      <td>137.297426</td>\n",
       "      <td>-88.873337</td>\n",
       "      <td>364.459893</td>\n",
       "    </tr>\n",
       "    <tr>\n",
       "      <th>79</th>\n",
       "      <td>2018-04-18</td>\n",
       "      <td>133.570347</td>\n",
       "      <td>-109.298103</td>\n",
       "      <td>376.131414</td>\n",
       "    </tr>\n",
       "    <tr>\n",
       "      <th>80</th>\n",
       "      <td>2018-04-19</td>\n",
       "      <td>120.985945</td>\n",
       "      <td>-118.675575</td>\n",
       "      <td>357.258223</td>\n",
       "    </tr>\n",
       "    <tr>\n",
       "      <th>81</th>\n",
       "      <td>2018-04-20</td>\n",
       "      <td>140.616883</td>\n",
       "      <td>-168.231353</td>\n",
       "      <td>438.604936</td>\n",
       "    </tr>\n",
       "  </tbody>\n",
       "</table>\n",
       "</div>"
      ],
      "text/plain": [
       "           ds        yhat  yhat_lower  yhat_upper\n",
       "61 2018-03-31  124.611530  112.480630  137.365156\n",
       "62 2018-04-01  124.065130  110.599004  138.918567\n",
       "63 2018-04-02  162.763771  144.439859  181.102065\n",
       "64 2018-04-03  146.404670  124.516034  168.377269\n",
       "65 2018-04-04  142.472545  111.411942  173.351071\n",
       "66 2018-04-05  129.087987   94.230309  166.353877\n",
       "67 2018-04-06  150.078806   98.435174  201.370775\n",
       "68 2018-04-07  120.786724   68.281098  173.807756\n",
       "69 2018-04-08  120.240323   56.351123  184.536552\n",
       "70 2018-04-09  157.723726   57.972130  257.936320\n",
       "71 2018-04-10  141.851048   36.644718  242.830973\n",
       "72 2018-04-11  138.021446   25.526528  257.042384\n",
       "73 2018-04-12  125.036966    7.281268  246.314386\n",
       "74 2018-04-13  145.347845  -11.974205  305.978234\n",
       "75 2018-04-14  116.961918  -23.793210  262.667789\n",
       "76 2018-04-15  116.415517  -44.447203  274.028018\n",
       "77 2018-04-16  152.683682  -79.214883  386.847604\n",
       "78 2018-04-17  137.297426  -88.873337  364.459893\n",
       "79 2018-04-18  133.570347 -109.298103  376.131414\n",
       "80 2018-04-19  120.985945 -118.675575  357.258223\n",
       "81 2018-04-20  140.616883 -168.231353  438.604936"
      ]
     },
     "execution_count": 27,
     "metadata": {},
     "output_type": "execute_result"
    }
   ],
   "source": [
    "a"
   ]
  },
  {
   "cell_type": "code",
   "execution_count": 15,
   "id": "6ed84b35",
   "metadata": {},
   "outputs": [],
   "source": [
    "pred_ds=a.ds[0:21]"
   ]
  },
  {
   "cell_type": "code",
   "execution_count": 19,
   "id": "d7c6f018",
   "metadata": {},
   "outputs": [
    {
     "data": {
      "text/plain": [
       "61   2018-03-31\n",
       "62   2018-04-01\n",
       "63   2018-04-02\n",
       "64   2018-04-03\n",
       "65   2018-04-04\n",
       "66   2018-04-05\n",
       "67   2018-04-06\n",
       "68   2018-04-07\n",
       "69   2018-04-08\n",
       "70   2018-04-09\n",
       "71   2018-04-10\n",
       "72   2018-04-11\n",
       "73   2018-04-12\n",
       "74   2018-04-13\n",
       "75   2018-04-14\n",
       "76   2018-04-15\n",
       "77   2018-04-16\n",
       "78   2018-04-17\n",
       "79   2018-04-18\n",
       "80   2018-04-19\n",
       "81   2018-04-20\n",
       "Name: ds, dtype: datetime64[ns]"
      ]
     },
     "execution_count": 19,
     "metadata": {},
     "output_type": "execute_result"
    }
   ],
   "source": [
    "pred_ds"
   ]
  },
  {
   "cell_type": "code",
   "execution_count": 14,
   "id": "9df69dd5",
   "metadata": {},
   "outputs": [
    {
     "data": {
      "text/plain": [
       "array([124.61153043, 124.06512954, 162.76377113, 146.40467036,\n",
       "       142.47254497, 129.08798719, 150.0788063 , 120.78672406,\n",
       "       120.24032316, 157.72372646, 141.8510482 , 138.02144615,\n",
       "       125.03696588, 145.34784453, 116.96191768, 116.41551679,\n",
       "       152.68368179, 137.29742604, 133.57034733, 120.98594458,\n",
       "       140.61688277])"
      ]
     },
     "execution_count": 14,
     "metadata": {},
     "output_type": "execute_result"
    }
   ],
   "source": [
    "pred_y #2020년도의 에측값"
   ]
  },
  {
   "cell_type": "code",
   "execution_count": 21,
   "id": "c32b5036",
   "metadata": {},
   "outputs": [
    {
     "data": {
      "text/plain": [
       "array([168, 175, 173, 155, 149, 190, 198, 175, 133, 139, 201, 156, 163,\n",
       "       166, 184, 209, 169, 169, 169, 183, 223], dtype=int64)"
      ]
     },
     "execution_count": 21,
     "metadata": {},
     "output_type": "execute_result"
    }
   ],
   "source": [
    "test_y #2020년도의 실제값\n"
   ]
  },
  {
   "cell_type": "code",
   "execution_count": 22,
   "id": "a3336bac",
   "metadata": {},
   "outputs": [
    {
     "data": {
      "text/html": [
       "<div>\n",
       "<style scoped>\n",
       "    .dataframe tbody tr th:only-of-type {\n",
       "        vertical-align: middle;\n",
       "    }\n",
       "\n",
       "    .dataframe tbody tr th {\n",
       "        vertical-align: top;\n",
       "    }\n",
       "\n",
       "    .dataframe thead th {\n",
       "        text-align: right;\n",
       "    }\n",
       "</style>\n",
       "<table border=\"1\" class=\"dataframe\">\n",
       "  <thead>\n",
       "    <tr style=\"text-align: right;\">\n",
       "      <th></th>\n",
       "      <th>ds</th>\n",
       "      <th>y</th>\n",
       "    </tr>\n",
       "  </thead>\n",
       "  <tbody>\n",
       "    <tr>\n",
       "      <th>61</th>\n",
       "      <td>2018-04-02</td>\n",
       "      <td>168</td>\n",
       "    </tr>\n",
       "    <tr>\n",
       "      <th>62</th>\n",
       "      <td>2018-04-03</td>\n",
       "      <td>175</td>\n",
       "    </tr>\n",
       "    <tr>\n",
       "      <th>63</th>\n",
       "      <td>2018-04-04</td>\n",
       "      <td>173</td>\n",
       "    </tr>\n",
       "    <tr>\n",
       "      <th>64</th>\n",
       "      <td>2018-04-05</td>\n",
       "      <td>155</td>\n",
       "    </tr>\n",
       "    <tr>\n",
       "      <th>65</th>\n",
       "      <td>2018-04-06</td>\n",
       "      <td>149</td>\n",
       "    </tr>\n",
       "    <tr>\n",
       "      <th>66</th>\n",
       "      <td>2018-04-09</td>\n",
       "      <td>190</td>\n",
       "    </tr>\n",
       "    <tr>\n",
       "      <th>67</th>\n",
       "      <td>2018-04-10</td>\n",
       "      <td>198</td>\n",
       "    </tr>\n",
       "    <tr>\n",
       "      <th>68</th>\n",
       "      <td>2018-04-11</td>\n",
       "      <td>175</td>\n",
       "    </tr>\n",
       "    <tr>\n",
       "      <th>69</th>\n",
       "      <td>2018-04-12</td>\n",
       "      <td>133</td>\n",
       "    </tr>\n",
       "    <tr>\n",
       "      <th>70</th>\n",
       "      <td>2018-04-13</td>\n",
       "      <td>139</td>\n",
       "    </tr>\n",
       "    <tr>\n",
       "      <th>71</th>\n",
       "      <td>2018-04-16</td>\n",
       "      <td>201</td>\n",
       "    </tr>\n",
       "    <tr>\n",
       "      <th>72</th>\n",
       "      <td>2018-04-17</td>\n",
       "      <td>156</td>\n",
       "    </tr>\n",
       "    <tr>\n",
       "      <th>73</th>\n",
       "      <td>2018-04-18</td>\n",
       "      <td>163</td>\n",
       "    </tr>\n",
       "    <tr>\n",
       "      <th>74</th>\n",
       "      <td>2018-04-19</td>\n",
       "      <td>166</td>\n",
       "    </tr>\n",
       "    <tr>\n",
       "      <th>75</th>\n",
       "      <td>2018-04-20</td>\n",
       "      <td>184</td>\n",
       "    </tr>\n",
       "    <tr>\n",
       "      <th>76</th>\n",
       "      <td>2018-04-23</td>\n",
       "      <td>209</td>\n",
       "    </tr>\n",
       "    <tr>\n",
       "      <th>77</th>\n",
       "      <td>2018-04-24</td>\n",
       "      <td>169</td>\n",
       "    </tr>\n",
       "    <tr>\n",
       "      <th>78</th>\n",
       "      <td>2018-04-25</td>\n",
       "      <td>169</td>\n",
       "    </tr>\n",
       "    <tr>\n",
       "      <th>79</th>\n",
       "      <td>2018-04-26</td>\n",
       "      <td>169</td>\n",
       "    </tr>\n",
       "    <tr>\n",
       "      <th>80</th>\n",
       "      <td>2018-04-27</td>\n",
       "      <td>183</td>\n",
       "    </tr>\n",
       "    <tr>\n",
       "      <th>81</th>\n",
       "      <td>2018-04-30</td>\n",
       "      <td>223</td>\n",
       "    </tr>\n",
       "  </tbody>\n",
       "</table>\n",
       "</div>"
      ],
      "text/plain": [
       "            ds    y\n",
       "61  2018-04-02  168\n",
       "62  2018-04-03  175\n",
       "63  2018-04-04  173\n",
       "64  2018-04-05  155\n",
       "65  2018-04-06  149\n",
       "66  2018-04-09  190\n",
       "67  2018-04-10  198\n",
       "68  2018-04-11  175\n",
       "69  2018-04-12  133\n",
       "70  2018-04-13  139\n",
       "71  2018-04-16  201\n",
       "72  2018-04-17  156\n",
       "73  2018-04-18  163\n",
       "74  2018-04-19  166\n",
       "75  2018-04-20  184\n",
       "76  2018-04-23  209\n",
       "77  2018-04-24  169\n",
       "78  2018-04-25  169\n",
       "79  2018-04-26  169\n",
       "80  2018-04-27  183\n",
       "81  2018-04-30  223"
      ]
     },
     "execution_count": 22,
     "metadata": {},
     "output_type": "execute_result"
    }
   ],
   "source": [
    "test"
   ]
  },
  {
   "cell_type": "code",
   "execution_count": null,
   "id": "3537c40d",
   "metadata": {},
   "outputs": [
    {
     "data": {
      "text/plain": [
       "[<matplotlib.lines.Line2D at 0x216c9e817c0>]"
      ]
     },
     "execution_count": 16,
     "metadata": {},
     "output_type": "execute_result"
    }
   ],
   "source": [
    "plt.plot(pred_y,color='red') #에측값\n",
    "plt.plot(test_y,color='blue') #실제값"
   ]
  },
  {
   "cell_type": "code",
   "execution_count": 29,
   "id": "f4b25170",
   "metadata": {},
   "outputs": [
    {
     "name": "stdout",
     "output_type": "stream",
     "text": [
      "46.83921176781041\n"
     ]
    }
   ],
   "source": [
    "from sklearn.metrics import mean_squared_error,r2_score\n",
    "from math import sqrt\n",
    "rmse=sqrt(mean_squared_error(pred_y,test_y))\n",
    "print(rmse)"
   ]
  },
  {
   "cell_type": "code",
   "execution_count": null,
   "id": "3793a189",
   "metadata": {},
   "outputs": [],
   "source": []
  }
 ],
 "metadata": {
  "kernelspec": {
   "display_name": "Python 3",
   "language": "python",
   "name": "python3"
  },
  "language_info": {
   "codemirror_mode": {
    "name": "ipython",
    "version": 3
   },
   "file_extension": ".py",
   "mimetype": "text/x-python",
   "name": "python",
   "nbconvert_exporter": "python",
   "pygments_lexer": "ipython3",
   "version": "3.8.8"
  }
 },
 "nbformat": 4,
 "nbformat_minor": 5
}
