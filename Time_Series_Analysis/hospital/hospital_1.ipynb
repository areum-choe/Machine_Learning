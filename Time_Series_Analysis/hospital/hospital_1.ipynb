{
 "cells": [
  {
   "cell_type": "code",
   "execution_count": 1,
   "id": "c8a0651b",
   "metadata": {},
   "outputs": [
    {
     "ename": "ModuleNotFoundError",
     "evalue": "No module named 'plotly'",
     "output_type": "error",
     "traceback": [
      "\u001b[1;31m---------------------------------------------------------------------------\u001b[0m",
      "\u001b[1;31mModuleNotFoundError\u001b[0m                       Traceback (most recent call last)",
      "\u001b[1;32m<ipython-input-1-78aaca41f3ab>\u001b[0m in \u001b[0;36m<module>\u001b[1;34m\u001b[0m\n\u001b[0;32m      4\u001b[0m \u001b[1;32mimport\u001b[0m \u001b[0mos\u001b[0m\u001b[1;33m,\u001b[0m \u001b[0mwarnings\u001b[0m\u001b[1;33m\u001b[0m\u001b[1;33m\u001b[0m\u001b[0m\n\u001b[0;32m      5\u001b[0m \u001b[1;32mimport\u001b[0m \u001b[0mpandas\u001b[0m \u001b[1;32mas\u001b[0m \u001b[0mpd\u001b[0m                \u001b[1;31m#구조 변경 및 결합을 하기 위한 설치\u001b[0m\u001b[1;33m\u001b[0m\u001b[1;33m\u001b[0m\u001b[0m\n\u001b[1;32m----> 6\u001b[1;33m \u001b[1;32mimport\u001b[0m \u001b[0mplotly\u001b[0m\u001b[1;33m.\u001b[0m\u001b[0mexpress\u001b[0m \u001b[1;32mas\u001b[0m \u001b[0mpx\u001b[0m        \u001b[1;31m#시각화를 위한 설치\u001b[0m\u001b[1;33m\u001b[0m\u001b[1;33m\u001b[0m\u001b[0m\n\u001b[0m\u001b[0;32m      7\u001b[0m \u001b[1;33m\u001b[0m\u001b[0m\n\u001b[0;32m      8\u001b[0m \u001b[0mwarnings\u001b[0m\u001b[1;33m.\u001b[0m\u001b[0mfilterwarnings\u001b[0m\u001b[1;33m(\u001b[0m\u001b[1;34m'ignore'\u001b[0m\u001b[1;33m)\u001b[0m\u001b[1;33m\u001b[0m\u001b[1;33m\u001b[0m\u001b[0m\n",
      "\u001b[1;31mModuleNotFoundError\u001b[0m: No module named 'plotly'"
     ]
    }
   ],
   "source": [
    "import matplotlib.pyplot as plt      #시각화를 위한 설치\n",
    "import matplotlib.font_manager as fm    # 한글 폰트\n",
    "import matplotlib                   #시각화를 위한 설치\n",
    "import os, warnings  \n",
    "import pandas as pd                #구조 변경 및 결합을 하기 위한 설치        \n",
    "import plotly.express as px        #시각화를 위한 설치\n",
    "\n",
    "warnings.filterwarnings('ignore')\n",
    "\n",
    "pd.set_option('display.max_rows', None)         #모든 행을 다 보여주라는 명령\n",
    "pd.set_option('display.max_columns', None)      #모든 열을 다 보여주라는 명령"
   ]
  },
  {
   "cell_type": "code",
   "execution_count": 2,
   "id": "89b243aa",
   "metadata": {},
   "outputs": [],
   "source": [
    "# 그래프에서 마이너스 폰트 깨지는 문제에 대한 대처\n",
    "matplotlib.rcParams['axes.unicode_minus'] = False\n",
    "## 한글 폰트 적용 ( 안하면 한글 깨짐 )\n",
    "f_name = fm.FontProperties(fname=\"C:/Windows/Fonts/malgunbd.ttf\").get_name()\n",
    "plt.rc('font', family=f_name)"
   ]
  },
  {
   "cell_type": "code",
   "execution_count": 3,
   "id": "92d090b4",
   "metadata": {},
   "outputs": [],
   "source": [
    "hospital= pd.read_csv('hospital.csv')"
   ]
  },
  {
   "cell_type": "code",
   "execution_count": 4,
   "id": "3c0e88a2",
   "metadata": {},
   "outputs": [
    {
     "name": "stdout",
     "output_type": "stream",
     "text": [
      "<class 'pandas.core.frame.DataFrame'>\n",
      "RangeIndex: 82 entries, 0 to 81\n",
      "Data columns (total 2 columns):\n",
      " #   Column  Non-Null Count  Dtype \n",
      "---  ------  --------------  ----- \n",
      " 0   날짜      82 non-null     object\n",
      " 1   합계      82 non-null     int64 \n",
      "dtypes: int64(1), object(1)\n",
      "memory usage: 1.4+ KB\n"
     ]
    }
   ],
   "source": [
    "hospital.info()"
   ]
  },
  {
   "cell_type": "code",
   "execution_count": 5,
   "id": "eda9ddf7",
   "metadata": {},
   "outputs": [
    {
     "data": {
      "text/plain": [
       "147.109756097561"
      ]
     },
     "execution_count": 5,
     "metadata": {},
     "output_type": "execute_result"
    }
   ],
   "source": [
    "hospital.합계.mean()"
   ]
  },
  {
   "cell_type": "code",
   "execution_count": 6,
   "id": "29013895",
   "metadata": {},
   "outputs": [],
   "source": [
    "train=hospital[(hospital['날짜']>='2018-01-02')&(hospital['날짜']<='2018-03-30')]\n",
    "test=hospital[(hospital['날짜']>='2018-04-02')&(hospital['날짜']<='2018-04-30')]"
   ]
  },
  {
   "cell_type": "code",
   "execution_count": 7,
   "id": "0b0dac4f",
   "metadata": {},
   "outputs": [
    {
     "name": "stderr",
     "output_type": "stream",
     "text": [
      "<ipython-input-7-6702f016779b>:1: SettingWithCopyWarning: \n",
      "A value is trying to be set on a copy of a slice from a DataFrame.\n",
      "Try using .loc[row_indexer,col_indexer] = value instead\n",
      "\n",
      "See the caveats in the documentation: https://pandas.pydata.org/pandas-docs/stable/user_guide/indexing.html#returning-a-view-versus-a-copy\n",
      "  train['날짜']=train['날짜'].astype('str')\n",
      "<ipython-input-7-6702f016779b>:2: SettingWithCopyWarning: \n",
      "A value is trying to be set on a copy of a slice from a DataFrame.\n",
      "Try using .loc[row_indexer,col_indexer] = value instead\n",
      "\n",
      "See the caveats in the documentation: https://pandas.pydata.org/pandas-docs/stable/user_guide/indexing.html#returning-a-view-versus-a-copy\n",
      "  train['날짜']=pd.to_datetime(train['날짜'])\n"
     ]
    }
   ],
   "source": [
    "train['날짜']=train['날짜'].astype('str')\n",
    "train['날짜']=pd.to_datetime(train['날짜'])\n",
    "train.index=train['날짜']\n",
    "train.set_index('날짜',inplace=True)"
   ]
  },
  {
   "cell_type": "code",
   "execution_count": 8,
   "id": "b92f6eab",
   "metadata": {},
   "outputs": [
    {
     "data": {
      "text/html": [
       "<div>\n",
       "<style scoped>\n",
       "    .dataframe tbody tr th:only-of-type {\n",
       "        vertical-align: middle;\n",
       "    }\n",
       "\n",
       "    .dataframe tbody tr th {\n",
       "        vertical-align: top;\n",
       "    }\n",
       "\n",
       "    .dataframe thead th {\n",
       "        text-align: right;\n",
       "    }\n",
       "</style>\n",
       "<table border=\"1\" class=\"dataframe\">\n",
       "  <thead>\n",
       "    <tr style=\"text-align: right;\">\n",
       "      <th></th>\n",
       "      <th>합계</th>\n",
       "    </tr>\n",
       "    <tr>\n",
       "      <th>날짜</th>\n",
       "      <th></th>\n",
       "    </tr>\n",
       "  </thead>\n",
       "  <tbody>\n",
       "    <tr>\n",
       "      <th>2018-01-02</th>\n",
       "      <td>133</td>\n",
       "    </tr>\n",
       "    <tr>\n",
       "      <th>2018-01-03</th>\n",
       "      <td>97</td>\n",
       "    </tr>\n",
       "    <tr>\n",
       "      <th>2018-01-04</th>\n",
       "      <td>72</td>\n",
       "    </tr>\n",
       "    <tr>\n",
       "      <th>2018-01-05</th>\n",
       "      <td>112</td>\n",
       "    </tr>\n",
       "    <tr>\n",
       "      <th>2018-01-08</th>\n",
       "      <td>109</td>\n",
       "    </tr>\n",
       "    <tr>\n",
       "      <th>...</th>\n",
       "      <td>...</td>\n",
       "    </tr>\n",
       "    <tr>\n",
       "      <th>2018-03-26</th>\n",
       "      <td>178</td>\n",
       "    </tr>\n",
       "    <tr>\n",
       "      <th>2018-03-27</th>\n",
       "      <td>126</td>\n",
       "    </tr>\n",
       "    <tr>\n",
       "      <th>2018-03-28</th>\n",
       "      <td>152</td>\n",
       "    </tr>\n",
       "    <tr>\n",
       "      <th>2018-03-29</th>\n",
       "      <td>119</td>\n",
       "    </tr>\n",
       "    <tr>\n",
       "      <th>2018-03-30</th>\n",
       "      <td>158</td>\n",
       "    </tr>\n",
       "  </tbody>\n",
       "</table>\n",
       "<p>61 rows × 1 columns</p>\n",
       "</div>"
      ],
      "text/plain": [
       "             합계\n",
       "날짜             \n",
       "2018-01-02  133\n",
       "2018-01-03   97\n",
       "2018-01-04   72\n",
       "2018-01-05  112\n",
       "2018-01-08  109\n",
       "...         ...\n",
       "2018-03-26  178\n",
       "2018-03-27  126\n",
       "2018-03-28  152\n",
       "2018-03-29  119\n",
       "2018-03-30  158\n",
       "\n",
       "[61 rows x 1 columns]"
      ]
     },
     "execution_count": 8,
     "metadata": {},
     "output_type": "execute_result"
    }
   ],
   "source": [
    "train"
   ]
  },
  {
   "cell_type": "code",
   "execution_count": 9,
   "id": "8b7cd01f",
   "metadata": {},
   "outputs": [
    {
     "data": {
      "text/plain": [
       "<AxesSubplot:xlabel='날짜'>"
      ]
     },
     "execution_count": 9,
     "metadata": {},
     "output_type": "execute_result"
    },
    {
     "data": {
      "image/png": "[encoded data removed]",
      "text/plain": [
       "<Figure size 432x288 with 1 Axes>"
      ]
     },
     "metadata": {
      "needs_background": "light"
     },
     "output_type": "display_data"
    }
   ],
   "source": [
    "train.plot()"
   ]
  },
  {
   "cell_type": "code",
   "execution_count": 10,
   "id": "64e56178",
   "metadata": {},
   "outputs": [
    {
     "name": "stdout",
     "output_type": "stream",
     "text": [
      "             합계\n",
      "날짜             \n",
      "2018-01-02  133\n",
      "2018-01-03   97\n",
      "2018-01-04   72\n",
      "2018-01-05  112\n",
      "2018-01-08  109\n",
      "...         ...\n",
      "2018-03-26  178\n",
      "2018-03-27  126\n",
      "2018-03-28  152\n",
      "2018-03-29  119\n",
      "2018-03-30  158\n",
      "\n",
      "[61 rows x 1 columns]\n",
      "원 데이터 ADF Statistic: -1.418\n",
      "원 데이터 p-value: 0.574\n",
      "1차 차분 ADF Statistic: -7.589\n",
      "1차 차분 p-value: 0.000\n"
     ]
    }
   ],
   "source": [
    "# AD-Fuller Test : 시계열의 정상성(stationary) 한지 확인\n",
    "\n",
    "from statsmodels.tsa.stattools import adfuller\n",
    "\n",
    "\"\"\" 차분 방법 \"\"\"\n",
    "train_diff =train - train.shift(1)\n",
    "print(train)\n",
    "\n",
    "y = train.dropna()\n",
    "y1diff =train_diff.dropna()\n",
    "result = adfuller(y)\n",
    "print(f'원 데이터 ADF Statistic: {result[0]:.3f}')\n",
    "print(f'원 데이터 p-value: {result[1]:.3f}')\n",
    "result = adfuller(y1diff)\n",
    "print(f'1차 차분 ADF Statistic: {result[0]:.3f}')\n",
    "print(f'1차 차분 p-value: {result[1]:.3f}')"
   ]
  },
  {
   "cell_type": "code",
   "execution_count": 11,
   "id": "5e7337ee",
   "metadata": {},
   "outputs": [
    {
     "data": {
      "image/png": "[encoded data removed]",
      "text/plain": [
       "<Figure size 432x288 with 1 Axes>"
      ]
     },
     "metadata": {
      "needs_background": "light"
     },
     "output_type": "display_data"
    },
    {
     "data": {
      "image/png": "[encoded data removed]",
      "text/plain": [
       "<Figure size 432x288 with 1 Axes>"
      ]
     },
     "metadata": {
      "needs_background": "light"
     },
     "output_type": "display_data"
    }
   ],
   "source": [
    "from statsmodels.tsa.ar_model import AR\n",
    "from statsmodels.tsa.arima_model import ARIMA\n",
    "from statsmodels.graphics.tsaplots import plot_acf, acf\n",
    "from statsmodels.tsa.stattools import adfuller\n",
    "from statsmodels.graphics.tsaplots import plot_pacf\n",
    "from statsmodels.tsa.stattools import adfuller\n",
    "\n",
    "plot_acf(train)\n",
    "plot_pacf(train)\n",
    "plt.show()"
   ]
  },
  {
   "cell_type": "code",
   "execution_count": 12,
   "id": "8cd08173",
   "metadata": {},
   "outputs": [
    {
     "data": {
      "image/png": "[encoded data removed]",
      "text/plain": [
       "<Figure size 432x288 with 1 Axes>"
      ]
     },
     "metadata": {
      "needs_background": "light"
     },
     "output_type": "display_data"
    },
    {
     "data": {
      "image/png": "[encoded data removed]",
      "text/plain": [
       "<Figure size 432x288 with 1 Axes>"
      ]
     },
     "metadata": {
      "needs_background": "light"
     },
     "output_type": "display_data"
    },
    {
     "data": {
      "image/png": "[encoded data removed]",
      "text/plain": [
       "<Figure size 432x288 with 1 Axes>"
      ]
     },
     "metadata": {
      "needs_background": "light"
     },
     "output_type": "display_data"
    }
   ],
   "source": [
    "from statsmodels.graphics.tsaplots import plot_acf, plot_pacf\n",
    "diff_1=train.diff(periods=1).iloc[1:]\n",
    "diff_1.plot()\n",
    "plot_acf(diff_1)\n",
    "plot_pacf(diff_1)\n",
    "plt.show()"
   ]
  },
  {
   "cell_type": "code",
   "execution_count": 21,
   "id": "626e05ba",
   "metadata": {},
   "outputs": [
    {
     "data": {
      "text/plain": [
       "[(0, 0, 0),\n",
       " (0, 0, 1),\n",
       " (0, 0, 2),\n",
       " (0, 0, 3),\n",
       " (0, 0, 4),\n",
       " (0, 1, 0),\n",
       " (0, 1, 1),\n",
       " (0, 1, 2),\n",
       " (0, 1, 3),\n",
       " (0, 1, 4),\n",
       " (0, 2, 0),\n",
       " (0, 2, 1),\n",
       " (0, 2, 2),\n",
       " (0, 2, 3),\n",
       " (0, 2, 4),\n",
       " (0, 3, 0),\n",
       " (0, 3, 1),\n",
       " (0, 3, 2),\n",
       " (0, 3, 3),\n",
       " (0, 3, 4),\n",
       " (0, 4, 0),\n",
       " (0, 4, 1),\n",
       " (0, 4, 2),\n",
       " (0, 4, 3),\n",
       " (0, 4, 4),\n",
       " (1, 0, 0),\n",
       " (1, 0, 1),\n",
       " (1, 0, 2),\n",
       " (1, 0, 3),\n",
       " (1, 0, 4),\n",
       " (1, 1, 0),\n",
       " (1, 1, 1),\n",
       " (1, 1, 2),\n",
       " (1, 1, 3),\n",
       " (1, 1, 4),\n",
       " (1, 2, 0),\n",
       " (1, 2, 1),\n",
       " (1, 2, 2),\n",
       " (1, 2, 3),\n",
       " (1, 2, 4),\n",
       " (1, 3, 0),\n",
       " (1, 3, 1),\n",
       " (1, 3, 2),\n",
       " (1, 3, 3),\n",
       " (1, 3, 4),\n",
       " (1, 4, 0),\n",
       " (1, 4, 1),\n",
       " (1, 4, 2),\n",
       " (1, 4, 3),\n",
       " (1, 4, 4),\n",
       " (2, 0, 0),\n",
       " (2, 0, 1),\n",
       " (2, 0, 2),\n",
       " (2, 0, 3),\n",
       " (2, 0, 4),\n",
       " (2, 1, 0),\n",
       " (2, 1, 1),\n",
       " (2, 1, 2),\n",
       " (2, 1, 3),\n",
       " (2, 1, 4),\n",
       " (2, 2, 0),\n",
       " (2, 2, 1),\n",
       " (2, 2, 2),\n",
       " (2, 2, 3),\n",
       " (2, 2, 4),\n",
       " (2, 3, 0),\n",
       " (2, 3, 1),\n",
       " (2, 3, 2),\n",
       " (2, 3, 3),\n",
       " (2, 3, 4),\n",
       " (2, 4, 0),\n",
       " (2, 4, 1),\n",
       " (2, 4, 2),\n",
       " (2, 4, 3),\n",
       " (2, 4, 4),\n",
       " (3, 0, 0),\n",
       " (3, 0, 1),\n",
       " (3, 0, 2),\n",
       " (3, 0, 3),\n",
       " (3, 0, 4),\n",
       " (3, 1, 0),\n",
       " (3, 1, 1),\n",
       " (3, 1, 2),\n",
       " (3, 1, 3),\n",
       " (3, 1, 4),\n",
       " (3, 2, 0),\n",
       " (3, 2, 1),\n",
       " (3, 2, 2),\n",
       " (3, 2, 3),\n",
       " (3, 2, 4),\n",
       " (3, 3, 0),\n",
       " (3, 3, 1),\n",
       " (3, 3, 2),\n",
       " (3, 3, 3),\n",
       " (3, 3, 4),\n",
       " (3, 4, 0),\n",
       " (3, 4, 1),\n",
       " (3, 4, 2),\n",
       " (3, 4, 3),\n",
       " (3, 4, 4),\n",
       " (4, 0, 0),\n",
       " (4, 0, 1),\n",
       " (4, 0, 2),\n",
       " (4, 0, 3),\n",
       " (4, 0, 4),\n",
       " (4, 1, 0),\n",
       " (4, 1, 1),\n",
       " (4, 1, 2),\n",
       " (4, 1, 3),\n",
       " (4, 1, 4),\n",
       " (4, 2, 0),\n",
       " (4, 2, 1),\n",
       " (4, 2, 2),\n",
       " (4, 2, 3),\n",
       " (4, 2, 4),\n",
       " (4, 3, 0),\n",
       " (4, 3, 1),\n",
       " (4, 3, 2),\n",
       " (4, 3, 3),\n",
       " (4, 3, 4),\n",
       " (4, 4, 0),\n",
       " (4, 4, 1),\n",
       " (4, 4, 2),\n",
       " (4, 4, 3),\n",
       " (4, 4, 4)]"
      ]
     },
     "execution_count": 21,
     "metadata": {},
     "output_type": "execute_result"
    }
   ],
   "source": [
    "import itertools\n",
    "p=d=q=range(0,5)\n",
    "pdq=list(itertools.product(p,d,q))\n",
    "pdq"
   ]
  },
  {
   "cell_type": "code",
   "execution_count": 22,
   "id": "6e07d499",
   "metadata": {},
   "outputs": [
    {
     "name": "stdout",
     "output_type": "stream",
     "text": [
      "(0, 0, 0) 588.6803294758306\n",
      "(0, 0, 1) 570.7250268828441\n",
      "(0, 0, 2) 554.7452328366106\n",
      "(0, 0, 3) 556.3783762745882\n",
      "(0, 0, 4) 558.3274445578987\n",
      "(0, 1, 0) 555.7580339256128\n",
      "(0, 1, 1) 535.538373434279\n",
      "(0, 1, 2) 537.2604580235336\n",
      "(0, 1, 3) 538.2434163780351\n",
      "(0, 1, 4) 531.3199960860018\n",
      "(0, 2, 0) 605.1836655030052\n",
      "(0, 2, 1) 553.6280370680911\n",
      "(0, 2, 2) 535.3870372643304\n",
      "(0, 2, 3) 537.0064678240067\n",
      "(0, 2, 4) 537.7354901064449\n",
      "(1, 0, 0) 555.6134088788642\n",
      "(1, 0, 1) 546.5736812042928\n",
      "(1, 0, 2) 548.4223475542724\n",
      "(1, 0, 3) 548.9974156774529\n",
      "(1, 0, 4) 541.0693796699622\n",
      "(1, 1, 0) 548.2520022858275\n",
      "(1, 1, 1) 537.3313606633109\n",
      "(1, 1, 2) 539.2100703275632\n",
      "(1, 1, 3) 538.5990389497977\n",
      "(1, 1, 4) 532.8805559933901\n",
      "(1, 2, 0) 579.1038541951334\n",
      "(1, 2, 1) 546.9459563754151\n",
      "(1, 2, 2) 537.2273243586615\n",
      "(1, 2, 4) 541.3115995099475\n",
      "(2, 0, 0) 553.4713664825363\n",
      "(2, 0, 1) 548.463156658303\n",
      "(2, 0, 2) 550.3741752551875\n",
      "(2, 0, 3) 548.2947146561116\n",
      "(2, 1, 0) 546.6201229016599\n",
      "(2, 1, 1) 538.3704503639012\n",
      "(2, 1, 2) 537.8326795933035\n",
      "(2, 1, 4) 527.3115947284714\n",
      "(2, 2, 0) 575.3807463741058\n",
      "(2, 2, 1) 545.742427747385\n",
      "(2, 2, 2) 538.121477530829\n",
      "(2, 2, 4) 532.1660313417722\n",
      "(3, 0, 0) 554.0035162734932\n",
      "(3, 0, 1) 549.5390139766497\n",
      "(3, 0, 2) 548.1675120750027\n",
      "(3, 0, 4) 537.520703475214\n",
      "(3, 1, 0) 536.9027740014855\n",
      "(3, 1, 1) 535.1740873959741\n",
      "(3, 1, 2) 536.3336136976462\n",
      "(3, 2, 0) 566.443479410804\n",
      "(3, 2, 1) 536.449583916219\n",
      "(3, 2, 2) 534.7519006512905\n",
      "(3, 2, 3) 535.9354758520159\n",
      "(3, 2, 4) 529.0942227427475\n",
      "(4, 0, 0) 546.5875024797085\n",
      "(4, 0, 1) 545.9793295987158\n",
      "(4, 0, 2) 546.6627788492858\n",
      "(4, 1, 0) 532.1655525523065\n",
      "(4, 1, 1) 532.7701652829528\n",
      "(4, 1, 3) 528.9612828757973\n",
      "(4, 2, 0) 543.1333803772225\n",
      "(4, 2, 1) 531.751621459965\n",
      "(4, 2, 2) 532.3728136605996\n",
      "(4, 2, 3) 529.6109620509226\n",
      "(4, 2, 4) 528.4901342241743\n"
     ]
    }
   ],
   "source": [
    "import warnings\n",
    "warnings.filterwarnings('ignore')\n",
    "\n",
    "for param in pdq:\n",
    "    try:\n",
    "        model_arima=ARIMA(train.합계.values, order=param)\n",
    "        model_arima_fit=model_arima.fit()\n",
    "        print(param,model_arima_fit.aic)\n",
    "    except:\n",
    "        continue"
   ]
  },
  {
   "cell_type": "code",
   "execution_count": 13,
   "id": "8278c04d",
   "metadata": {},
   "outputs": [
    {
     "name": "stderr",
     "output_type": "stream",
     "text": [
      "C:\\Users\\areum\\conda\\lib\\site-packages\\statsmodels\\tsa\\arima_model.py:472: FutureWarning: \n",
      "statsmodels.tsa.arima_model.ARMA and statsmodels.tsa.arima_model.ARIMA have\n",
      "been deprecated in favor of statsmodels.tsa.arima.model.ARIMA (note the .\n",
      "between arima and model) and\n",
      "statsmodels.tsa.SARIMAX. These will be removed after the 0.12 release.\n",
      "\n",
      "statsmodels.tsa.arima.model.ARIMA makes use of the statespace framework and\n",
      "is both well tested and maintained.\n",
      "\n",
      "To silence this warning and continue using ARMA and ARIMA until they are\n",
      "removed, use:\n",
      "\n",
      "import warnings\n",
      "warnings.filterwarnings('ignore', 'statsmodels.tsa.arima_model.ARMA',\n",
      "                        FutureWarning)\n",
      "warnings.filterwarnings('ignore', 'statsmodels.tsa.arima_model.ARIMA',\n",
      "                        FutureWarning)\n",
      "\n",
      "  warnings.warn(ARIMA_DEPRECATION_WARN, FutureWarning)\n",
      "C:\\Users\\areum\\conda\\lib\\site-packages\\statsmodels\\tsa\\base\\tsa_model.py:581: ValueWarning: A date index has been provided, but it has no associated frequency information and so will be ignored when e.g. forecasting.\n",
      "  warnings.warn('A date index has been provided, but it has no'\n",
      "C:\\Users\\areum\\conda\\lib\\site-packages\\statsmodels\\tsa\\base\\tsa_model.py:581: ValueWarning: A date index has been provided, but it has no associated frequency information and so will be ignored when e.g. forecasting.\n",
      "  warnings.warn('A date index has been provided, but it has no'\n"
     ]
    },
    {
     "name": "stdout",
     "output_type": "stream",
     "text": [
      "                             ARIMA Model Results                              \n",
      "==============================================================================\n",
      "Dep. Variable:                   D.합계   No. Observations:                   60\n",
      "Model:                 ARIMA(2, 1, 4)   Log Likelihood                -255.656\n",
      "Method:                       css-mle   S.D. of innovations             16.288\n",
      "Date:                Thu, 11 Nov 2021   AIC                            527.312\n",
      "Time:                        14:53:45   BIC                            544.066\n",
      "Sample:                             1   HQIC                           533.865\n",
      "                                                                              \n",
      "==============================================================================\n",
      "                 coef    std err          z      P>|z|      [0.025      0.975]\n",
      "------------------------------------------------------------------------------\n",
      "const          0.5902      0.834      0.708      0.479      -1.044       2.225\n",
      "ar.L1.D.합계    -0.0570      0.152     -0.374      0.709      -0.356       0.242\n",
      "ar.L2.D.합계    -0.5699      0.141     -4.047      0.000      -0.846      -0.294\n",
      "ma.L1.D.합계    -0.5784      0.171     -3.391      0.001      -0.913      -0.244\n",
      "ma.L2.D.합계     0.6373      0.115      5.536      0.000       0.412       0.863\n",
      "ma.L3.D.합계    -0.9227      0.132     -6.987      0.000      -1.181      -0.664\n",
      "ma.L4.D.합계     0.4934      0.169      2.923      0.003       0.163       0.824\n",
      "                                    Roots                                    \n",
      "=============================================================================\n",
      "                  Real          Imaginary           Modulus         Frequency\n",
      "-----------------------------------------------------------------------------\n",
      "AR.1           -0.0500           -1.3237j            1.3247           -0.2560\n",
      "AR.2           -0.0500           +1.3237j            1.3247            0.2560\n",
      "MA.1           -0.3401           -0.9405j            1.0001           -0.3052\n",
      "MA.2           -0.3401           +0.9405j            1.0001            0.3052\n",
      "MA.3            1.2751           -0.6328j            1.4235           -0.0733\n",
      "MA.4            1.2751           +0.6328j            1.4235            0.0733\n",
      "-----------------------------------------------------------------------------\n"
     ]
    },
    {
     "name": "stderr",
     "output_type": "stream",
     "text": [
      "C:\\Users\\areum\\conda\\lib\\site-packages\\statsmodels\\tsa\\arima_model.py:472: FutureWarning: \n",
      "statsmodels.tsa.arima_model.ARMA and statsmodels.tsa.arima_model.ARIMA have\n",
      "been deprecated in favor of statsmodels.tsa.arima.model.ARIMA (note the .\n",
      "between arima and model) and\n",
      "statsmodels.tsa.SARIMAX. These will be removed after the 0.12 release.\n",
      "\n",
      "statsmodels.tsa.arima.model.ARIMA makes use of the statespace framework and\n",
      "is both well tested and maintained.\n",
      "\n",
      "To silence this warning and continue using ARMA and ARIMA until they are\n",
      "removed, use:\n",
      "\n",
      "import warnings\n",
      "warnings.filterwarnings('ignore', 'statsmodels.tsa.arima_model.ARMA',\n",
      "                        FutureWarning)\n",
      "warnings.filterwarnings('ignore', 'statsmodels.tsa.arima_model.ARIMA',\n",
      "                        FutureWarning)\n",
      "\n",
      "  warnings.warn(ARIMA_DEPRECATION_WARN, FutureWarning)\n"
     ]
    }
   ],
   "source": [
    "from statsmodels.tsa.arima_model import ARIMA\n",
    "import statsmodels.api as sm\n",
    "\n",
    "#(ar=2,차분=1, ma=3)파라미터로 arima모델을 학습\n",
    "model=ARIMA(train['합계'], order=(2,1,4))\n",
    "model_fit=model.fit(trend='c',full_output=True,disp=1)\n",
    "print(model_fit.summary())"
   ]
  },
  {
   "cell_type": "code",
   "execution_count": 14,
   "id": "c168d397",
   "metadata": {},
   "outputs": [
    {
     "data": {
      "text/plain": [
       "<AxesSubplot:xlabel='날짜'>"
      ]
     },
     "execution_count": 14,
     "metadata": {},
     "output_type": "execute_result"
    },
    {
     "data": {
      "image/png": "[encoded data removed]",
      "text/plain": [
       "<Figure size 432x288 with 1 Axes>"
      ]
     },
     "metadata": {
      "needs_background": "light"
     },
     "output_type": "display_data"
    },
    {
     "data": {
      "image/png": "[encoded data removed]",
      "text/plain": [
       "<Figure size 432x288 with 1 Axes>"
      ]
     },
     "metadata": {
      "needs_background": "light"
     },
     "output_type": "display_data"
    }
   ],
   "source": [
    "fig=model_fit.plot_predict()\n",
    "residuals=pd.DataFrame(model_fit.resid)\n",
    "residuals.plot()"
   ]
  },
  {
   "cell_type": "code",
   "execution_count": 15,
   "id": "009719c8",
   "metadata": {},
   "outputs": [],
   "source": [
    "forecast_data=model_fit.forecast(steps=21) \n",
    "\n",
    "pred_y=forecast_data[0].tolist()"
   ]
  },
  {
   "cell_type": "code",
   "execution_count": 31,
   "id": "12b49a2b",
   "metadata": {},
   "outputs": [
    {
     "data": {
      "text/plain": [
       "[144.70835078651342,\n",
       " 144.43249138319342,\n",
       " 141.0556950493414,\n",
       " 142.48364107904428,\n",
       " 145.2868577697421,\n",
       " 145.27364010913425,\n",
       " 144.63715271271295,\n",
       " 145.6411780282726,\n",
       " 146.90692386508283,\n",
       " 147.22287858300314,\n",
       " 147.44379758723676,\n",
       " 148.21138925860967,\n",
       " 149.00199415745726,\n",
       " 149.47975510745545,\n",
       " 149.96222473422318,\n",
       " 150.62270676347066,\n",
       " 151.27036378911689,\n",
       " 151.81730738817913,\n",
       " 152.3772973967883,\n",
       " 152.99393778089836,\n",
       " 153.599915928723]"
      ]
     },
     "execution_count": 31,
     "metadata": {},
     "output_type": "execute_result"
    }
   ],
   "source": [
    "pred_y"
   ]
  },
  {
   "cell_type": "code",
   "execution_count": 33,
   "id": "93df0f3b",
   "metadata": {},
   "outputs": [],
   "source": [
    "test.index=test['날짜']\n",
    "test.set_index('날짜',inplace=True)"
   ]
  },
  {
   "cell_type": "code",
   "execution_count": 34,
   "id": "21f01e83",
   "metadata": {},
   "outputs": [],
   "source": [
    "forecast_data=model_fit.forecast(steps=21) \n",
    "\n",
    "pred_y=forecast_data[0].tolist()\n",
    "test_y=test.합계.values "
   ]
  },
  {
   "cell_type": "code",
   "execution_count": 35,
   "id": "b33abd32",
   "metadata": {},
   "outputs": [
    {
     "data": {
      "text/plain": [
       "[<matplotlib.lines.Line2D at 0x120016d39a0>]"
      ]
     },
     "execution_count": 35,
     "metadata": {},
     "output_type": "execute_result"
    },
    {
     "data": {
      "image/png": "[encoded data removed]",
      "text/plain": [
       "<Figure size 432x288 with 1 Axes>"
      ]
     },
     "metadata": {
      "needs_background": "light"
     },
     "output_type": "display_data"
    }
   ],
   "source": [
    "plt.plot(pred_y,color='red') #에측값\n",
    "plt.plot(test_y,color='blue') #실제값"
   ]
  },
  {
   "cell_type": "code",
   "execution_count": 36,
   "id": "a5e57062",
   "metadata": {},
   "outputs": [
    {
     "name": "stdout",
     "output_type": "stream",
     "text": [
      "33.24201534754994\n"
     ]
    }
   ],
   "source": [
    "from sklearn.metrics import mean_squared_error,r2_score\n",
    "from math import sqrt\n",
    "\n",
    "rmse=sqrt(mean_squared_error(pred_y,test_y))\n",
    "print(rmse)"
   ]
  },
  {
   "cell_type": "markdown",
   "id": "6cc06617",
   "metadata": {},
   "source": [
    "# --------------------------------------------------------------------------------------------------------------"
   ]
  },
  {
   "cell_type": "code",
   "execution_count": 7,
   "id": "599e47b3",
   "metadata": {},
   "outputs": [],
   "source": [
    "from fbprophet import Prophet"
   ]
  },
  {
   "cell_type": "code",
   "execution_count": 8,
   "id": "05de0b4f",
   "metadata": {},
   "outputs": [],
   "source": [
    "train.columns=['ds','y']\n",
    "test.columns=['ds','y']"
   ]
  },
  {
   "cell_type": "code",
   "execution_count": 9,
   "id": "84bfd2c9",
   "metadata": {},
   "outputs": [],
   "source": [
    "train=train[(train['ds']>='2018-01-02')&(train['ds']<='2018-03-30')]\n",
    "test=test[(test['ds']>='2018-04-02')&(test['ds']<='2018-04-30')]"
   ]
  },
  {
   "cell_type": "code",
   "execution_count": 10,
   "id": "60901cf6",
   "metadata": {},
   "outputs": [
    {
     "name": "stderr",
     "output_type": "stream",
     "text": [
      "INFO:fbprophet:Disabling yearly seasonality. Run prophet with yearly_seasonality=True to override this.\n"
     ]
    },
    {
     "data": {
      "text/plain": [
       "<fbprophet.forecaster.Prophet at 0x277f93cf760>"
      ]
     },
     "execution_count": 10,
     "metadata": {},
     "output_type": "execute_result"
    }
   ],
   "source": [
    "prophet = Prophet(seasonality_mode = 'multiplicative',\n",
    "                 daily_seasonality=True,\n",
    "                 changepoint_prior_scale=0.5)\n",
    "prophet.fit(train)"
   ]
  },
  {
   "cell_type": "code",
   "execution_count": 29,
   "id": "82f8ec6d",
   "metadata": {},
   "outputs": [],
   "source": [
    "future_data = prophet.make_future_dataframe(periods = 21, freq = 'd')\n",
    "forecast_data = prophet.predict(future_data)\n",
    "a=forecast_data[['ds','yhat', 'yhat_lower', 'yhat_upper']].tail(21)"
   ]
  },
  {
   "cell_type": "code",
   "execution_count": 12,
   "id": "83f70bf2",
   "metadata": {},
   "outputs": [],
   "source": [
    "# fig1=prophet.plot(forecast_data)"
   ]
  },
  {
   "cell_type": "code",
   "execution_count": 30,
   "id": "e846867c",
   "metadata": {},
   "outputs": [
    {
     "data": {
      "text/html": [
       "<div>\n",
       "<style scoped>\n",
       "    .dataframe tbody tr th:only-of-type {\n",
       "        vertical-align: middle;\n",
       "    }\n",
       "\n",
       "    .dataframe tbody tr th {\n",
       "        vertical-align: top;\n",
       "    }\n",
       "\n",
       "    .dataframe thead th {\n",
       "        text-align: right;\n",
       "    }\n",
       "</style>\n",
       "<table border=\"1\" class=\"dataframe\">\n",
       "  <thead>\n",
       "    <tr style=\"text-align: right;\">\n",
       "      <th></th>\n",
       "      <th>ds</th>\n",
       "      <th>yhat</th>\n",
       "      <th>yhat_lower</th>\n",
       "      <th>yhat_upper</th>\n",
       "    </tr>\n",
       "  </thead>\n",
       "  <tbody>\n",
       "    <tr>\n",
       "      <th>61</th>\n",
       "      <td>2018-03-31</td>\n",
       "      <td>124.611530</td>\n",
       "      <td>111.289613</td>\n",
       "      <td>136.592749</td>\n",
       "    </tr>\n",
       "    <tr>\n",
       "      <th>62</th>\n",
       "      <td>2018-04-01</td>\n",
       "      <td>124.065130</td>\n",
       "      <td>109.807286</td>\n",
       "      <td>138.218885</td>\n",
       "    </tr>\n",
       "    <tr>\n",
       "      <th>63</th>\n",
       "      <td>2018-04-02</td>\n",
       "      <td>162.763771</td>\n",
       "      <td>143.583425</td>\n",
       "      <td>180.600818</td>\n",
       "    </tr>\n",
       "    <tr>\n",
       "      <th>64</th>\n",
       "      <td>2018-04-03</td>\n",
       "      <td>146.404670</td>\n",
       "      <td>125.097197</td>\n",
       "      <td>167.651805</td>\n",
       "    </tr>\n",
       "    <tr>\n",
       "      <th>65</th>\n",
       "      <td>2018-04-04</td>\n",
       "      <td>142.472545</td>\n",
       "      <td>112.160753</td>\n",
       "      <td>171.081168</td>\n",
       "    </tr>\n",
       "    <tr>\n",
       "      <th>66</th>\n",
       "      <td>2018-04-05</td>\n",
       "      <td>129.087987</td>\n",
       "      <td>92.739323</td>\n",
       "      <td>166.581002</td>\n",
       "    </tr>\n",
       "    <tr>\n",
       "      <th>67</th>\n",
       "      <td>2018-04-06</td>\n",
       "      <td>150.078806</td>\n",
       "      <td>97.420436</td>\n",
       "      <td>204.892851</td>\n",
       "    </tr>\n",
       "    <tr>\n",
       "      <th>68</th>\n",
       "      <td>2018-04-07</td>\n",
       "      <td>120.786724</td>\n",
       "      <td>67.242580</td>\n",
       "      <td>171.960315</td>\n",
       "    </tr>\n",
       "    <tr>\n",
       "      <th>69</th>\n",
       "      <td>2018-04-08</td>\n",
       "      <td>120.240323</td>\n",
       "      <td>57.951609</td>\n",
       "      <td>183.612210</td>\n",
       "    </tr>\n",
       "    <tr>\n",
       "      <th>70</th>\n",
       "      <td>2018-04-09</td>\n",
       "      <td>157.723726</td>\n",
       "      <td>59.017797</td>\n",
       "      <td>255.152225</td>\n",
       "    </tr>\n",
       "    <tr>\n",
       "      <th>71</th>\n",
       "      <td>2018-04-10</td>\n",
       "      <td>141.851048</td>\n",
       "      <td>38.602238</td>\n",
       "      <td>243.517101</td>\n",
       "    </tr>\n",
       "    <tr>\n",
       "      <th>72</th>\n",
       "      <td>2018-04-11</td>\n",
       "      <td>138.021446</td>\n",
       "      <td>25.453025</td>\n",
       "      <td>252.379226</td>\n",
       "    </tr>\n",
       "    <tr>\n",
       "      <th>73</th>\n",
       "      <td>2018-04-12</td>\n",
       "      <td>125.036966</td>\n",
       "      <td>2.743865</td>\n",
       "      <td>243.503150</td>\n",
       "    </tr>\n",
       "    <tr>\n",
       "      <th>74</th>\n",
       "      <td>2018-04-13</td>\n",
       "      <td>145.347845</td>\n",
       "      <td>-6.185129</td>\n",
       "      <td>303.279151</td>\n",
       "    </tr>\n",
       "    <tr>\n",
       "      <th>75</th>\n",
       "      <td>2018-04-14</td>\n",
       "      <td>116.961918</td>\n",
       "      <td>-19.425819</td>\n",
       "      <td>254.501099</td>\n",
       "    </tr>\n",
       "    <tr>\n",
       "      <th>76</th>\n",
       "      <td>2018-04-15</td>\n",
       "      <td>116.415517</td>\n",
       "      <td>-38.472113</td>\n",
       "      <td>268.065161</td>\n",
       "    </tr>\n",
       "    <tr>\n",
       "      <th>77</th>\n",
       "      <td>2018-04-16</td>\n",
       "      <td>152.683682</td>\n",
       "      <td>-63.945176</td>\n",
       "      <td>372.830188</td>\n",
       "    </tr>\n",
       "    <tr>\n",
       "      <th>78</th>\n",
       "      <td>2018-04-17</td>\n",
       "      <td>137.297426</td>\n",
       "      <td>-78.761433</td>\n",
       "      <td>352.195142</td>\n",
       "    </tr>\n",
       "    <tr>\n",
       "      <th>79</th>\n",
       "      <td>2018-04-18</td>\n",
       "      <td>133.570347</td>\n",
       "      <td>-93.018337</td>\n",
       "      <td>360.209079</td>\n",
       "    </tr>\n",
       "    <tr>\n",
       "      <th>80</th>\n",
       "      <td>2018-04-19</td>\n",
       "      <td>120.985945</td>\n",
       "      <td>-97.478521</td>\n",
       "      <td>342.616617</td>\n",
       "    </tr>\n",
       "    <tr>\n",
       "      <th>81</th>\n",
       "      <td>2018-04-20</td>\n",
       "      <td>140.616883</td>\n",
       "      <td>-140.154406</td>\n",
       "      <td>420.894691</td>\n",
       "    </tr>\n",
       "  </tbody>\n",
       "</table>\n",
       "</div>"
      ],
      "text/plain": [
       "           ds        yhat  yhat_lower  yhat_upper\n",
       "61 2018-03-31  124.611530  111.289613  136.592749\n",
       "62 2018-04-01  124.065130  109.807286  138.218885\n",
       "63 2018-04-02  162.763771  143.583425  180.600818\n",
       "64 2018-04-03  146.404670  125.097197  167.651805\n",
       "65 2018-04-04  142.472545  112.160753  171.081168\n",
       "66 2018-04-05  129.087987   92.739323  166.581002\n",
       "67 2018-04-06  150.078806   97.420436  204.892851\n",
       "68 2018-04-07  120.786724   67.242580  171.960315\n",
       "69 2018-04-08  120.240323   57.951609  183.612210\n",
       "70 2018-04-09  157.723726   59.017797  255.152225\n",
       "71 2018-04-10  141.851048   38.602238  243.517101\n",
       "72 2018-04-11  138.021446   25.453025  252.379226\n",
       "73 2018-04-12  125.036966    2.743865  243.503150\n",
       "74 2018-04-13  145.347845   -6.185129  303.279151\n",
       "75 2018-04-14  116.961918  -19.425819  254.501099\n",
       "76 2018-04-15  116.415517  -38.472113  268.065161\n",
       "77 2018-04-16  152.683682  -63.945176  372.830188\n",
       "78 2018-04-17  137.297426  -78.761433  352.195142\n",
       "79 2018-04-18  133.570347  -93.018337  360.209079\n",
       "80 2018-04-19  120.985945  -97.478521  342.616617\n",
       "81 2018-04-20  140.616883 -140.154406  420.894691"
      ]
     },
     "execution_count": 30,
     "metadata": {},
     "output_type": "execute_result"
    }
   ],
   "source": [
    "a"
   ]
  },
  {
   "cell_type": "code",
   "execution_count": 13,
   "id": "291acbd4",
   "metadata": {},
   "outputs": [],
   "source": [
    "pred_y=a.yhat.values[0:21]\n",
    "test_y=test.y.values[0:21]"
   ]
  },
  {
   "cell_type": "code",
   "execution_count": 28,
   "id": "67d61e36",
   "metadata": {},
   "outputs": [
    {
     "name": "stdout",
     "output_type": "stream",
     "text": [
      "<class 'pandas.core.frame.DataFrame'>\n",
      "RangeIndex: 21 entries, 61 to 81\n",
      "Data columns (total 4 columns):\n",
      " #   Column      Non-Null Count  Dtype         \n",
      "---  ------      --------------  -----         \n",
      " 0   ds          21 non-null     datetime64[ns]\n",
      " 1   yhat        21 non-null     float64       \n",
      " 2   yhat_lower  21 non-null     float64       \n",
      " 3   yhat_upper  21 non-null     float64       \n",
      "dtypes: datetime64[ns](1), float64(3)\n",
      "memory usage: 804.0 bytes\n"
     ]
    }
   ],
   "source": [
    "a.info()"
   ]
  },
  {
   "cell_type": "code",
   "execution_count": 27,
   "id": "934bbb60",
   "metadata": {},
   "outputs": [
    {
     "data": {
      "text/html": [
       "<div>\n",
       "<style scoped>\n",
       "    .dataframe tbody tr th:only-of-type {\n",
       "        vertical-align: middle;\n",
       "    }\n",
       "\n",
       "    .dataframe tbody tr th {\n",
       "        vertical-align: top;\n",
       "    }\n",
       "\n",
       "    .dataframe thead th {\n",
       "        text-align: right;\n",
       "    }\n",
       "</style>\n",
       "<table border=\"1\" class=\"dataframe\">\n",
       "  <thead>\n",
       "    <tr style=\"text-align: right;\">\n",
       "      <th></th>\n",
       "      <th>ds</th>\n",
       "      <th>yhat</th>\n",
       "      <th>yhat_lower</th>\n",
       "      <th>yhat_upper</th>\n",
       "    </tr>\n",
       "  </thead>\n",
       "  <tbody>\n",
       "    <tr>\n",
       "      <th>61</th>\n",
       "      <td>2018-03-31</td>\n",
       "      <td>124.611530</td>\n",
       "      <td>112.480630</td>\n",
       "      <td>137.365156</td>\n",
       "    </tr>\n",
       "    <tr>\n",
       "      <th>62</th>\n",
       "      <td>2018-04-01</td>\n",
       "      <td>124.065130</td>\n",
       "      <td>110.599004</td>\n",
       "      <td>138.918567</td>\n",
       "    </tr>\n",
       "    <tr>\n",
       "      <th>63</th>\n",
       "      <td>2018-04-02</td>\n",
       "      <td>162.763771</td>\n",
       "      <td>144.439859</td>\n",
       "      <td>181.102065</td>\n",
       "    </tr>\n",
       "    <tr>\n",
       "      <th>64</th>\n",
       "      <td>2018-04-03</td>\n",
       "      <td>146.404670</td>\n",
       "      <td>124.516034</td>\n",
       "      <td>168.377269</td>\n",
       "    </tr>\n",
       "    <tr>\n",
       "      <th>65</th>\n",
       "      <td>2018-04-04</td>\n",
       "      <td>142.472545</td>\n",
       "      <td>111.411942</td>\n",
       "      <td>173.351071</td>\n",
       "    </tr>\n",
       "    <tr>\n",
       "      <th>66</th>\n",
       "      <td>2018-04-05</td>\n",
       "      <td>129.087987</td>\n",
       "      <td>94.230309</td>\n",
       "      <td>166.353877</td>\n",
       "    </tr>\n",
       "    <tr>\n",
       "      <th>67</th>\n",
       "      <td>2018-04-06</td>\n",
       "      <td>150.078806</td>\n",
       "      <td>98.435174</td>\n",
       "      <td>201.370775</td>\n",
       "    </tr>\n",
       "    <tr>\n",
       "      <th>68</th>\n",
       "      <td>2018-04-07</td>\n",
       "      <td>120.786724</td>\n",
       "      <td>68.281098</td>\n",
       "      <td>173.807756</td>\n",
       "    </tr>\n",
       "    <tr>\n",
       "      <th>69</th>\n",
       "      <td>2018-04-08</td>\n",
       "      <td>120.240323</td>\n",
       "      <td>56.351123</td>\n",
       "      <td>184.536552</td>\n",
       "    </tr>\n",
       "    <tr>\n",
       "      <th>70</th>\n",
       "      <td>2018-04-09</td>\n",
       "      <td>157.723726</td>\n",
       "      <td>57.972130</td>\n",
       "      <td>257.936320</td>\n",
       "    </tr>\n",
       "    <tr>\n",
       "      <th>71</th>\n",
       "      <td>2018-04-10</td>\n",
       "      <td>141.851048</td>\n",
       "      <td>36.644718</td>\n",
       "      <td>242.830973</td>\n",
       "    </tr>\n",
       "    <tr>\n",
       "      <th>72</th>\n",
       "      <td>2018-04-11</td>\n",
       "      <td>138.021446</td>\n",
       "      <td>25.526528</td>\n",
       "      <td>257.042384</td>\n",
       "    </tr>\n",
       "    <tr>\n",
       "      <th>73</th>\n",
       "      <td>2018-04-12</td>\n",
       "      <td>125.036966</td>\n",
       "      <td>7.281268</td>\n",
       "      <td>246.314386</td>\n",
       "    </tr>\n",
       "    <tr>\n",
       "      <th>74</th>\n",
       "      <td>2018-04-13</td>\n",
       "      <td>145.347845</td>\n",
       "      <td>-11.974205</td>\n",
       "      <td>305.978234</td>\n",
       "    </tr>\n",
       "    <tr>\n",
       "      <th>75</th>\n",
       "      <td>2018-04-14</td>\n",
       "      <td>116.961918</td>\n",
       "      <td>-23.793210</td>\n",
       "      <td>262.667789</td>\n",
       "    </tr>\n",
       "    <tr>\n",
       "      <th>76</th>\n",
       "      <td>2018-04-15</td>\n",
       "      <td>116.415517</td>\n",
       "      <td>-44.447203</td>\n",
       "      <td>274.028018</td>\n",
       "    </tr>\n",
       "    <tr>\n",
       "      <th>77</th>\n",
       "      <td>2018-04-16</td>\n",
       "      <td>152.683682</td>\n",
       "      <td>-79.214883</td>\n",
       "      <td>386.847604</td>\n",
       "    </tr>\n",
       "    <tr>\n",
       "      <th>78</th>\n",
       "      <td>2018-04-17</td>\n",
       "      <td>137.297426</td>\n",
       "      <td>-88.873337</td>\n",
       "      <td>364.459893</td>\n",
       "    </tr>\n",
       "    <tr>\n",
       "      <th>79</th>\n",
       "      <td>2018-04-18</td>\n",
       "      <td>133.570347</td>\n",
       "      <td>-109.298103</td>\n",
       "      <td>376.131414</td>\n",
       "    </tr>\n",
       "    <tr>\n",
       "      <th>80</th>\n",
       "      <td>2018-04-19</td>\n",
       "      <td>120.985945</td>\n",
       "      <td>-118.675575</td>\n",
       "      <td>357.258223</td>\n",
       "    </tr>\n",
       "    <tr>\n",
       "      <th>81</th>\n",
       "      <td>2018-04-20</td>\n",
       "      <td>140.616883</td>\n",
       "      <td>-168.231353</td>\n",
       "      <td>438.604936</td>\n",
       "    </tr>\n",
       "  </tbody>\n",
       "</table>\n",
       "</div>"
      ],
      "text/plain": [
       "           ds        yhat  yhat_lower  yhat_upper\n",
       "61 2018-03-31  124.611530  112.480630  137.365156\n",
       "62 2018-04-01  124.065130  110.599004  138.918567\n",
       "63 2018-04-02  162.763771  144.439859  181.102065\n",
       "64 2018-04-03  146.404670  124.516034  168.377269\n",
       "65 2018-04-04  142.472545  111.411942  173.351071\n",
       "66 2018-04-05  129.087987   94.230309  166.353877\n",
       "67 2018-04-06  150.078806   98.435174  201.370775\n",
       "68 2018-04-07  120.786724   68.281098  173.807756\n",
       "69 2018-04-08  120.240323   56.351123  184.536552\n",
       "70 2018-04-09  157.723726   57.972130  257.936320\n",
       "71 2018-04-10  141.851048   36.644718  242.830973\n",
       "72 2018-04-11  138.021446   25.526528  257.042384\n",
       "73 2018-04-12  125.036966    7.281268  246.314386\n",
       "74 2018-04-13  145.347845  -11.974205  305.978234\n",
       "75 2018-04-14  116.961918  -23.793210  262.667789\n",
       "76 2018-04-15  116.415517  -44.447203  274.028018\n",
       "77 2018-04-16  152.683682  -79.214883  386.847604\n",
       "78 2018-04-17  137.297426  -88.873337  364.459893\n",
       "79 2018-04-18  133.570347 -109.298103  376.131414\n",
       "80 2018-04-19  120.985945 -118.675575  357.258223\n",
       "81 2018-04-20  140.616883 -168.231353  438.604936"
      ]
     },
     "execution_count": 27,
     "metadata": {},
     "output_type": "execute_result"
    }
   ],
   "source": [
    "a"
   ]
  },
  {
   "cell_type": "code",
   "execution_count": 15,
   "id": "6ed84b35",
   "metadata": {},
   "outputs": [],
   "source": [
    "pred_ds=a.ds[0:21]"
   ]
  },
  {
   "cell_type": "code",
   "execution_count": 19,
   "id": "d7c6f018",
   "metadata": {},
   "outputs": [
    {
     "data": {
      "text/plain": [
       "61   2018-03-31\n",
       "62   2018-04-01\n",
       "63   2018-04-02\n",
       "64   2018-04-03\n",
       "65   2018-04-04\n",
       "66   2018-04-05\n",
       "67   2018-04-06\n",
       "68   2018-04-07\n",
       "69   2018-04-08\n",
       "70   2018-04-09\n",
       "71   2018-04-10\n",
       "72   2018-04-11\n",
       "73   2018-04-12\n",
       "74   2018-04-13\n",
       "75   2018-04-14\n",
       "76   2018-04-15\n",
       "77   2018-04-16\n",
       "78   2018-04-17\n",
       "79   2018-04-18\n",
       "80   2018-04-19\n",
       "81   2018-04-20\n",
       "Name: ds, dtype: datetime64[ns]"
      ]
     },
     "execution_count": 19,
     "metadata": {},
     "output_type": "execute_result"
    }
   ],
   "source": [
    "pred_ds"
   ]
  },
  {
   "cell_type": "code",
   "execution_count": 14,
   "id": "9df69dd5",
   "metadata": {},
   "outputs": [
    {
     "data": {
      "text/plain": [
       "array([124.61153043, 124.06512954, 162.76377113, 146.40467036,\n",
       "       142.47254497, 129.08798719, 150.0788063 , 120.78672406,\n",
       "       120.24032316, 157.72372646, 141.8510482 , 138.02144615,\n",
       "       125.03696588, 145.34784453, 116.96191768, 116.41551679,\n",
       "       152.68368179, 137.29742604, 133.57034733, 120.98594458,\n",
       "       140.61688277])"
      ]
     },
     "execution_count": 14,
     "metadata": {},
     "output_type": "execute_result"
    }
   ],
   "source": [
    "pred_y #2020년도의 에측값"
   ]
  },
  {
   "cell_type": "code",
   "execution_count": 21,
   "id": "c32b5036",
   "metadata": {},
   "outputs": [
    {
     "data": {
      "text/plain": [
       "array([168, 175, 173, 155, 149, 190, 198, 175, 133, 139, 201, 156, 163,\n",
       "       166, 184, 209, 169, 169, 169, 183, 223], dtype=int64)"
      ]
     },
     "execution_count": 21,
     "metadata": {},
     "output_type": "execute_result"
    }
   ],
   "source": [
    "test_y #2020년도의 실제값\n"
   ]
  },
  {
   "cell_type": "code",
   "execution_count": 22,
   "id": "a3336bac",
   "metadata": {},
   "outputs": [
    {
     "data": {
      "text/html": [
       "<div>\n",
       "<style scoped>\n",
       "    .dataframe tbody tr th:only-of-type {\n",
       "        vertical-align: middle;\n",
       "    }\n",
       "\n",
       "    .dataframe tbody tr th {\n",
       "        vertical-align: top;\n",
       "    }\n",
       "\n",
       "    .dataframe thead th {\n",
       "        text-align: right;\n",
       "    }\n",
       "</style>\n",
       "<table border=\"1\" class=\"dataframe\">\n",
       "  <thead>\n",
       "    <tr style=\"text-align: right;\">\n",
       "      <th></th>\n",
       "      <th>ds</th>\n",
       "      <th>y</th>\n",
       "    </tr>\n",
       "  </thead>\n",
       "  <tbody>\n",
       "    <tr>\n",
       "      <th>61</th>\n",
       "      <td>2018-04-02</td>\n",
       "      <td>168</td>\n",
       "    </tr>\n",
       "    <tr>\n",
       "      <th>62</th>\n",
       "      <td>2018-04-03</td>\n",
       "      <td>175</td>\n",
       "    </tr>\n",
       "    <tr>\n",
       "      <th>63</th>\n",
       "      <td>2018-04-04</td>\n",
       "      <td>173</td>\n",
       "    </tr>\n",
       "    <tr>\n",
       "      <th>64</th>\n",
       "      <td>2018-04-05</td>\n",
       "      <td>155</td>\n",
       "    </tr>\n",
       "    <tr>\n",
       "      <th>65</th>\n",
       "      <td>2018-04-06</td>\n",
       "      <td>149</td>\n",
       "    </tr>\n",
       "    <tr>\n",
       "      <th>66</th>\n",
       "      <td>2018-04-09</td>\n",
       "      <td>190</td>\n",
       "    </tr>\n",
       "    <tr>\n",
       "      <th>67</th>\n",
       "      <td>2018-04-10</td>\n",
       "      <td>198</td>\n",
       "    </tr>\n",
       "    <tr>\n",
       "      <th>68</th>\n",
       "      <td>2018-04-11</td>\n",
       "      <td>175</td>\n",
       "    </tr>\n",
       "    <tr>\n",
       "      <th>69</th>\n",
       "      <td>2018-04-12</td>\n",
       "      <td>133</td>\n",
       "    </tr>\n",
       "    <tr>\n",
       "      <th>70</th>\n",
       "      <td>2018-04-13</td>\n",
       "      <td>139</td>\n",
       "    </tr>\n",
       "    <tr>\n",
       "      <th>71</th>\n",
       "      <td>2018-04-16</td>\n",
       "      <td>201</td>\n",
       "    </tr>\n",
       "    <tr>\n",
       "      <th>72</th>\n",
       "      <td>2018-04-17</td>\n",
       "      <td>156</td>\n",
       "    </tr>\n",
       "    <tr>\n",
       "      <th>73</th>\n",
       "      <td>2018-04-18</td>\n",
       "      <td>163</td>\n",
       "    </tr>\n",
       "    <tr>\n",
       "      <th>74</th>\n",
       "      <td>2018-04-19</td>\n",
       "      <td>166</td>\n",
       "    </tr>\n",
       "    <tr>\n",
       "      <th>75</th>\n",
       "      <td>2018-04-20</td>\n",
       "      <td>184</td>\n",
       "    </tr>\n",
       "    <tr>\n",
       "      <th>76</th>\n",
       "      <td>2018-04-23</td>\n",
       "      <td>209</td>\n",
       "    </tr>\n",
       "    <tr>\n",
       "      <th>77</th>\n",
       "      <td>2018-04-24</td>\n",
       "      <td>169</td>\n",
       "    </tr>\n",
       "    <tr>\n",
       "      <th>78</th>\n",
       "      <td>2018-04-25</td>\n",
       "      <td>169</td>\n",
       "    </tr>\n",
       "    <tr>\n",
       "      <th>79</th>\n",
       "      <td>2018-04-26</td>\n",
       "      <td>169</td>\n",
       "    </tr>\n",
       "    <tr>\n",
       "      <th>80</th>\n",
       "      <td>2018-04-27</td>\n",
       "      <td>183</td>\n",
       "    </tr>\n",
       "    <tr>\n",
       "      <th>81</th>\n",
       "      <td>2018-04-30</td>\n",
       "      <td>223</td>\n",
       "    </tr>\n",
       "  </tbody>\n",
       "</table>\n",
       "</div>"
      ],
      "text/plain": [
       "            ds    y\n",
       "61  2018-04-02  168\n",
       "62  2018-04-03  175\n",
       "63  2018-04-04  173\n",
       "64  2018-04-05  155\n",
       "65  2018-04-06  149\n",
       "66  2018-04-09  190\n",
       "67  2018-04-10  198\n",
       "68  2018-04-11  175\n",
       "69  2018-04-12  133\n",
       "70  2018-04-13  139\n",
       "71  2018-04-16  201\n",
       "72  2018-04-17  156\n",
       "73  2018-04-18  163\n",
       "74  2018-04-19  166\n",
       "75  2018-04-20  184\n",
       "76  2018-04-23  209\n",
       "77  2018-04-24  169\n",
       "78  2018-04-25  169\n",
       "79  2018-04-26  169\n",
       "80  2018-04-27  183\n",
       "81  2018-04-30  223"
      ]
     },
     "execution_count": 22,
     "metadata": {},
     "output_type": "execute_result"
    }
   ],
   "source": [
    "test"
   ]
  },
  {
   "cell_type": "code",
   "execution_count": null,
   "id": "3537c40d",
   "metadata": {},
   "outputs": [
    {
     "data": {
      "text/plain": [
       "[<matplotlib.lines.Line2D at 0x216c9e817c0>]"
      ]
     },
     "execution_count": 16,
     "metadata": {},
     "output_type": "execute_result"
    }
   ],
   "source": [
    "plt.plot(pred_y,color='red') #에측값\n",
    "plt.plot(test_y,color='blue') #실제값"
   ]
  },
  {
   "cell_type": "code",
   "execution_count": 29,
   "id": "f4b25170",
   "metadata": {},
   "outputs": [
    {
     "name": "stdout",
     "output_type": "stream",
     "text": [
      "46.83921176781041\n"
     ]
    }
   ],
   "source": [
    "from sklearn.metrics import mean_squared_error,r2_score\n",
    "from math import sqrt\n",
    "rmse=sqrt(mean_squared_error(pred_y,test_y))\n",
    "print(rmse)"
   ]
  },
  {
   "cell_type": "code",
   "execution_count": null,
   "id": "3793a189",
   "metadata": {},
   "outputs": [],
   "source": []
  }
 ],
 "metadata": {
  "kernelspec": {
   "display_name": "Python 3",
   "language": "python",
   "name": "python3"
  },
  "language_info": {
   "codemirror_mode": {
    "name": "ipython",
    "version": 3
   },
   "file_extension": ".py",
   "mimetype": "text/x-python",
   "name": "python",
   "nbconvert_exporter": "python",
   "pygments_lexer": "ipython3",
   "version": "3.8.8"
  }
 },
 "nbformat": 4,
 "nbformat_minor": 5
}
