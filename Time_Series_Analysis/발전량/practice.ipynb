{
 "cells": [
  {
   "cell_type": "code",
   "execution_count": 15,
   "id": "1ffe72ea",
   "metadata": {},
   "outputs": [],
   "source": [
    "import matplotlib.pyplot as plt      #시각화를 위한 설치\n",
    "import matplotlib.font_manager as fm    # 한글 폰트\n",
    "import matplotlib                   #시각화를 위한 설치\n",
    "import os, warnings  \n",
    "import pandas as pd                #구조 변경 및 결합을 하기 위한 설치\n",
    "import seaborn as sns              #시각화를 위한 설치\n",
    "import plotly.express as px        #시각화를 위한 설치\n",
    "\n",
    "warnings.filterwarnings('ignore')\n",
    "\n",
    "pd.set_option('display.max_rows', None)         #모든 행을 다 보여주라는 명령\n",
    "pd.set_option('display.max_columns', None)      #모든 열을 다 보여주라는 명령"
   ]
  },
  {
   "cell_type": "code",
   "execution_count": 45,
   "id": "1aed7a14",
   "metadata": {},
   "outputs": [],
   "source": [
    "# 그래프에서 마이너스 폰트 깨지는 문제에 대한 대처\n",
    "matplotlib.rcParams['axes.unicode_minus'] = False\n",
    "## 한글 폰트 적용 ( 안하면 한글 깨짐 )\n",
    "f_name = fm.FontProperties(fname=\"C:/Windows/Fonts/malgunbd.ttf\").get_name()\n",
    "plt.rc('font', family=f_name)"
   ]
  },
  {
   "cell_type": "code",
   "execution_count": 46,
   "id": "b9037e55",
   "metadata": {},
   "outputs": [],
   "source": [
    "train= pd.read_csv('prac.csv',encoding='ANSI')"
   ]
  },
  {
   "cell_type": "code",
   "execution_count": 47,
   "id": "f834dbe6",
   "metadata": {},
   "outputs": [
    {
     "data": {
      "text/html": [
       "<div>\n",
       "<style scoped>\n",
       "    .dataframe tbody tr th:only-of-type {\n",
       "        vertical-align: middle;\n",
       "    }\n",
       "\n",
       "    .dataframe tbody tr th {\n",
       "        vertical-align: top;\n",
       "    }\n",
       "\n",
       "    .dataframe thead th {\n",
       "        text-align: right;\n",
       "    }\n",
       "</style>\n",
       "<table border=\"1\" class=\"dataframe\">\n",
       "  <thead>\n",
       "    <tr style=\"text-align: right;\">\n",
       "      <th></th>\n",
       "      <th>일자</th>\n",
       "      <th>석탄</th>\n",
       "    </tr>\n",
       "  </thead>\n",
       "  <tbody>\n",
       "    <tr>\n",
       "      <th>0</th>\n",
       "      <td>2015-01-01</td>\n",
       "      <td>98525</td>\n",
       "    </tr>\n",
       "    <tr>\n",
       "      <th>1</th>\n",
       "      <td>2015-01-02</td>\n",
       "      <td>115424</td>\n",
       "    </tr>\n",
       "    <tr>\n",
       "      <th>2</th>\n",
       "      <td>2015-01-03</td>\n",
       "      <td>117490</td>\n",
       "    </tr>\n",
       "    <tr>\n",
       "      <th>3</th>\n",
       "      <td>2015-01-04</td>\n",
       "      <td>112604</td>\n",
       "    </tr>\n",
       "    <tr>\n",
       "      <th>4</th>\n",
       "      <td>2015-01-05</td>\n",
       "      <td>117665</td>\n",
       "    </tr>\n",
       "  </tbody>\n",
       "</table>\n",
       "</div>"
      ],
      "text/plain": [
       "           일자      석탄\n",
       "0  2015-01-01   98525\n",
       "1  2015-01-02  115424\n",
       "2  2015-01-03  117490\n",
       "3  2015-01-04  112604\n",
       "4  2015-01-05  117665"
      ]
     },
     "execution_count": 47,
     "metadata": {},
     "output_type": "execute_result"
    }
   ],
   "source": [
    "prac.head(5)"
   ]
  },
  {
   "cell_type": "code",
   "execution_count": 48,
   "id": "23c1bb83",
   "metadata": {},
   "outputs": [],
   "source": [
    "train=prac[(prac['일자']>='2019-01-01')&(prac['일자']<'2019-08-01')]"
   ]
  },
  {
   "cell_type": "code",
   "execution_count": 49,
   "id": "1179ea44",
   "metadata": {},
   "outputs": [],
   "source": [
    "test=prac[(prac['일자']>='2019-08-01')&(prac['일자']<'2019-08-12')]"
   ]
  },
  {
   "cell_type": "code",
   "execution_count": 50,
   "id": "1b2759b4",
   "metadata": {},
   "outputs": [],
   "source": [
    "train['일자']=train['일자'].astype('str')\n",
    "train['일자']=pd.to_datetime(train['일자'])\n",
    "train.index=train['일자']\n",
    "train.set_index('일자',inplace=True)"
   ]
  },
  {
   "cell_type": "code",
   "execution_count": 51,
   "id": "8d9f39eb",
   "metadata": {},
   "outputs": [
    {
     "data": {
      "text/plain": [
       "<AxesSubplot:xlabel='일자'>"
      ]
     },
     "execution_count": 51,
     "metadata": {},
     "output_type": "execute_result"
    },
    {
     "data": {
      "image/png": "[encoded data removed]",
      "text/plain": [
       "<Figure size 432x288 with 1 Axes>"
      ]
     },
     "metadata": {
      "needs_background": "light"
     },
     "output_type": "display_data"
    }
   ],
   "source": [
    "train.plot()"
   ]
  },
  {
   "cell_type": "code",
   "execution_count": 52,
   "id": "ffb6718a",
   "metadata": {},
   "outputs": [
    {
     "data": {
      "text/plain": [
       "석탄    0\n",
       "dtype: int64"
      ]
     },
     "execution_count": 52,
     "metadata": {},
     "output_type": "execute_result"
    }
   ],
   "source": [
    "train.isnull().sum()"
   ]
  },
  {
   "cell_type": "code",
   "execution_count": 53,
   "id": "1dbe539f",
   "metadata": {},
   "outputs": [
    {
     "name": "stdout",
     "output_type": "stream",
     "text": [
      "                석탄\n",
      "일자                \n",
      "2019-01-01  121469\n",
      "2019-01-02  131874\n",
      "2019-01-03  136484\n",
      "2019-01-04  136358\n",
      "2019-01-05  130972\n",
      "2019-01-06  124165\n",
      "2019-01-07  133605\n",
      "2019-01-08  135600\n",
      "2019-01-09  136948\n",
      "2019-01-10  136796\n",
      "2019-01-11  129859\n",
      "2019-01-12  127919\n",
      "2019-01-13  124933\n",
      "2019-01-14  131236\n",
      "2019-01-15  132484\n",
      "2019-01-16  136431\n",
      "2019-01-17  136655\n",
      "2019-01-18  136582\n",
      "2019-01-19  127664\n",
      "2019-01-20  123920\n",
      "2019-01-21  133199\n",
      "2019-01-22  135585\n",
      "2019-01-23  134517\n",
      "2019-01-24  135639\n",
      "2019-01-25  135673\n",
      "2019-01-26  132480\n",
      "2019-01-27  126035\n",
      "2019-01-28  133872\n",
      "2019-01-29  135926\n",
      "2019-01-30  135024\n",
      "2019-01-31  135198\n",
      "2019-02-01  128225\n",
      "2019-02-02  125667\n",
      "2019-02-03  113876\n",
      "2019-02-04  108052\n",
      "2019-02-05   97836\n",
      "2019-02-06  104853\n",
      "2019-02-07  116230\n",
      "2019-02-08  131142\n",
      "2019-02-09  126515\n",
      "2019-02-10  121674\n",
      "2019-02-11  129894\n",
      "2019-02-12  130794\n",
      "2019-02-13  135755\n",
      "2019-02-14  135668\n",
      "2019-02-15  134187\n",
      "2019-02-16  127241\n",
      "2019-02-17  120576\n",
      "2019-02-18  124970\n",
      "2019-02-19  128795\n",
      "2019-02-20  129122\n",
      "2019-02-21  128796\n",
      "2019-02-22  125017\n",
      "2019-02-23  120258\n",
      "2019-02-24  114546\n",
      "2019-02-25  122858\n",
      "2019-02-26  127492\n",
      "2019-02-27  129031\n",
      "2019-02-28  128690\n",
      "2019-03-01  116257\n",
      "2019-03-02  113403\n",
      "2019-03-03  109595\n",
      "2019-03-04   94357\n",
      "2019-03-05   94428\n",
      "2019-03-06   95059\n",
      "2019-03-07   90432\n",
      "2019-03-08   97244\n",
      "2019-03-09  105492\n",
      "2019-03-10  106843\n",
      "2019-03-11  107596\n",
      "2019-03-12  108018\n",
      "2019-03-13  110352\n",
      "2019-03-14  120499\n",
      "2019-03-15  119439\n",
      "2019-03-16  114462\n",
      "2019-03-17  108920\n",
      "2019-03-18  117477\n",
      "2019-03-19  118215\n",
      "2019-03-20  116410\n",
      "2019-03-21  117796\n",
      "2019-03-22  117438\n",
      "2019-03-23  110441\n",
      "2019-03-24  104417\n",
      "2019-03-25  110429\n",
      "2019-03-26  112105\n",
      "2019-03-27  111337\n",
      "2019-03-28  112669\n",
      "2019-03-29  112304\n",
      "2019-03-30  105827\n",
      "2019-03-31  101938\n",
      "2019-04-01  110128\n",
      "2019-04-02  112906\n",
      "2019-04-03  112905\n",
      "2019-04-04  111641\n",
      "2019-04-05  113962\n",
      "2019-04-06  112337\n",
      "2019-04-07  105715\n",
      "2019-04-08  114566\n",
      "2019-04-09  118845\n",
      "2019-04-10  118961\n",
      "2019-04-11  114655\n",
      "2019-04-12  112823\n",
      "2019-04-13  105792\n",
      "2019-04-14  102384\n",
      "2019-04-15  109713\n",
      "2019-04-16  112619\n",
      "2019-04-17  104124\n",
      "2019-04-18  105280\n",
      "2019-04-19  104378\n",
      "2019-04-20   94457\n",
      "2019-04-21   92846\n",
      "2019-04-22  106417\n",
      "2019-04-23  111519\n",
      "2019-04-24  112454\n",
      "2019-04-25  110954\n",
      "2019-04-26  109666\n",
      "2019-04-27  104536\n",
      "2019-04-28  102101\n",
      "2019-04-29  112838\n",
      "2019-04-30  119757\n",
      "2019-05-01  113547\n",
      "2019-05-02  115637\n",
      "2019-05-03  117582\n",
      "2019-05-04  111499\n",
      "2019-05-05  102527\n",
      "2019-05-06  108364\n",
      "2019-05-07  114477\n",
      "2019-05-08  116269\n",
      "2019-05-09  116786\n",
      "2019-05-10  112120\n",
      "2019-05-11  104013\n",
      "2019-05-12  100501\n",
      "2019-05-13  107862\n",
      "2019-05-14  112757\n",
      "2019-05-15  115075\n",
      "2019-05-16  115628\n",
      "2019-05-17  115212\n",
      "2019-05-18  106216\n",
      "2019-05-19  104653\n",
      "2019-05-20  107282\n",
      "2019-05-21  113661\n",
      "2019-05-22  113525\n",
      "2019-05-23  113343\n",
      "2019-05-24  114170\n",
      "2019-05-25  109509\n",
      "2019-05-26  106216\n",
      "2019-05-27  111529\n",
      "2019-05-28  115095\n",
      "2019-05-29  114651\n",
      "2019-05-30  115947\n",
      "2019-05-31  115354\n",
      "2019-06-01   98717\n",
      "2019-06-02   91648\n",
      "2019-06-03  110969\n",
      "2019-06-04  116750\n",
      "2019-06-05  120522\n",
      "2019-06-06  117134\n",
      "2019-06-07  115796\n",
      "2019-06-08   89741\n",
      "2019-06-09   71231\n",
      "2019-06-10   91998\n",
      "2019-06-11  104781\n",
      "2019-06-12  114743\n",
      "2019-06-13  120710\n",
      "2019-06-14  120863\n",
      "2019-06-15  112692\n",
      "2019-06-16   98098\n",
      "2019-06-17  115748\n",
      "2019-06-18  121732\n",
      "2019-06-19  121546\n",
      "2019-06-20  120383\n",
      "2019-06-21  117316\n",
      "2019-06-22  109262\n",
      "2019-06-23  103650\n",
      "2019-06-24  115255\n",
      "2019-06-25  121338\n",
      "2019-06-26  122085\n",
      "2019-06-27  123379\n",
      "2019-06-28  121794\n",
      "2019-06-29  117014\n",
      "2019-06-30  111276\n",
      "2019-07-01  120264\n",
      "2019-07-02  121930\n",
      "2019-07-03  122965\n",
      "2019-07-04  125316\n",
      "2019-07-05  125980\n",
      "2019-07-06  113779\n",
      "2019-07-07  108632\n",
      "2019-07-08  118382\n",
      "2019-07-09  124217\n",
      "2019-07-10  126079\n",
      "2019-07-11  127005\n",
      "2019-07-12  126110\n",
      "2019-07-13  117645\n",
      "2019-07-14  112936\n",
      "2019-07-15  123139\n",
      "2019-07-16  127159\n",
      "2019-07-17  128015\n",
      "2019-07-18  129967\n",
      "2019-07-19  128490\n",
      "2019-07-20  124806\n",
      "2019-07-21  116054\n",
      "2019-07-22  125720\n",
      "2019-07-23  130891\n",
      "2019-07-24  131497\n",
      "2019-07-25  131741\n",
      "2019-07-26  129526\n",
      "2019-07-27  125362\n",
      "2019-07-28  119067\n",
      "2019-07-29  122790\n",
      "2019-07-30  129435\n",
      "2019-07-31  129725\n",
      "원 데이터 ADF Statistic: -2.390\n",
      "원 데이터 p-value: 0.145\n",
      "1차 차분 ADF Statistic: -6.355\n",
      "1차 차분 p-value: 0.000\n"
     ]
    }
   ],
   "source": [
    "# AD-Fuller Test : 시계열의 정상성(stationary) 한지 확인\n",
    "\n",
    "from statsmodels.tsa.stattools import adfuller\n",
    "\n",
    "\"\"\" 차분 방법 \"\"\"\n",
    "train_diff =train - train.shift(1)\n",
    "print(train)\n",
    "\n",
    "y = train.dropna()\n",
    "y1diff = train_diff.dropna()\n",
    "result = adfuller(y)\n",
    "print(f'원 데이터 ADF Statistic: {result[0]:.3f}')\n",
    "print(f'원 데이터 p-value: {result[1]:.3f}')\n",
    "result = adfuller(y1diff)\n",
    "print(f'1차 차분 ADF Statistic: {result[0]:.3f}')\n",
    "print(f'1차 차분 p-value: {result[1]:.3f}')"
   ]
  },
  {
   "cell_type": "code",
   "execution_count": 54,
   "id": "56487c6d",
   "metadata": {},
   "outputs": [
    {
     "data": {
      "text/plain": [
       "[<matplotlib.lines.Line2D at 0x23d6273e6d0>]"
      ]
     },
     "execution_count": 54,
     "metadata": {},
     "output_type": "execute_result"
    },
    {
     "data": {
      "image/png": "[encoded data removed]",
      "text/plain": [
       "<Figure size 432x288 with 1 Axes>"
      ]
     },
     "metadata": {
      "needs_background": "light"
     },
     "output_type": "display_data"
    }
   ],
   "source": [
    "diff_1=train['석탄'].diff().dropna()\n",
    "plt.plot(diff_1)"
   ]
  },
  {
   "cell_type": "code",
   "execution_count": 38,
   "id": "bf545372",
   "metadata": {},
   "outputs": [
    {
     "data": {
      "text/plain": [
       "[<matplotlib.lines.Line2D at 0x23d6159ad90>]"
      ]
     },
     "execution_count": 38,
     "metadata": {},
     "output_type": "execute_result"
    },
    {
     "data": {
      "image/png": "[encoded data removed]",
      "text/plain": [
       "<Figure size 432x288 with 1 Axes>"
      ]
     },
     "metadata": {
      "needs_background": "light"
     },
     "output_type": "display_data"
    }
   ],
   "source": [
    "diff_2=diff_1.diff().dropna()\n",
    "plt.plot(diff_2)"
   ]
  },
  {
   "cell_type": "code",
   "execution_count": 39,
   "id": "03cfaa2d",
   "metadata": {},
   "outputs": [
    {
     "data": {
      "text/plain": [
       "[<matplotlib.lines.Line2D at 0x23d615fba90>]"
      ]
     },
     "execution_count": 39,
     "metadata": {},
     "output_type": "execute_result"
    },
    {
     "data": {
      "image/png": "[encoded data removed]",
      "text/plain": [
       "<Figure size 432x288 with 1 Axes>"
      ]
     },
     "metadata": {
      "needs_background": "light"
     },
     "output_type": "display_data"
    }
   ],
   "source": [
    "diff_3=diff_2.diff().dropna()\n",
    "plt.plot(diff_3)"
   ]
  },
  {
   "cell_type": "code",
   "execution_count": 55,
   "id": "63accf49",
   "metadata": {},
   "outputs": [
    {
     "data": {
      "text/plain": [
       "[(0, 0, 0),\n",
       " (0, 0, 1),\n",
       " (0, 0, 2),\n",
       " (0, 0, 3),\n",
       " (0, 0, 4),\n",
       " (0, 1, 0),\n",
       " (0, 1, 1),\n",
       " (0, 1, 2),\n",
       " (0, 1, 3),\n",
       " (0, 1, 4),\n",
       " (0, 2, 0),\n",
       " (0, 2, 1),\n",
       " (0, 2, 2),\n",
       " (0, 2, 3),\n",
       " (0, 2, 4),\n",
       " (0, 3, 0),\n",
       " (0, 3, 1),\n",
       " (0, 3, 2),\n",
       " (0, 3, 3),\n",
       " (0, 3, 4),\n",
       " (0, 4, 0),\n",
       " (0, 4, 1),\n",
       " (0, 4, 2),\n",
       " (0, 4, 3),\n",
       " (0, 4, 4),\n",
       " (1, 0, 0),\n",
       " (1, 0, 1),\n",
       " (1, 0, 2),\n",
       " (1, 0, 3),\n",
       " (1, 0, 4),\n",
       " (1, 1, 0),\n",
       " (1, 1, 1),\n",
       " (1, 1, 2),\n",
       " (1, 1, 3),\n",
       " (1, 1, 4),\n",
       " (1, 2, 0),\n",
       " (1, 2, 1),\n",
       " (1, 2, 2),\n",
       " (1, 2, 3),\n",
       " (1, 2, 4),\n",
       " (1, 3, 0),\n",
       " (1, 3, 1),\n",
       " (1, 3, 2),\n",
       " (1, 3, 3),\n",
       " (1, 3, 4),\n",
       " (1, 4, 0),\n",
       " (1, 4, 1),\n",
       " (1, 4, 2),\n",
       " (1, 4, 3),\n",
       " (1, 4, 4),\n",
       " (2, 0, 0),\n",
       " (2, 0, 1),\n",
       " (2, 0, 2),\n",
       " (2, 0, 3),\n",
       " (2, 0, 4),\n",
       " (2, 1, 0),\n",
       " (2, 1, 1),\n",
       " (2, 1, 2),\n",
       " (2, 1, 3),\n",
       " (2, 1, 4),\n",
       " (2, 2, 0),\n",
       " (2, 2, 1),\n",
       " (2, 2, 2),\n",
       " (2, 2, 3),\n",
       " (2, 2, 4),\n",
       " (2, 3, 0),\n",
       " (2, 3, 1),\n",
       " (2, 3, 2),\n",
       " (2, 3, 3),\n",
       " (2, 3, 4),\n",
       " (2, 4, 0),\n",
       " (2, 4, 1),\n",
       " (2, 4, 2),\n",
       " (2, 4, 3),\n",
       " (2, 4, 4),\n",
       " (3, 0, 0),\n",
       " (3, 0, 1),\n",
       " (3, 0, 2),\n",
       " (3, 0, 3),\n",
       " (3, 0, 4),\n",
       " (3, 1, 0),\n",
       " (3, 1, 1),\n",
       " (3, 1, 2),\n",
       " (3, 1, 3),\n",
       " (3, 1, 4),\n",
       " (3, 2, 0),\n",
       " (3, 2, 1),\n",
       " (3, 2, 2),\n",
       " (3, 2, 3),\n",
       " (3, 2, 4),\n",
       " (3, 3, 0),\n",
       " (3, 3, 1),\n",
       " (3, 3, 2),\n",
       " (3, 3, 3),\n",
       " (3, 3, 4),\n",
       " (3, 4, 0),\n",
       " (3, 4, 1),\n",
       " (3, 4, 2),\n",
       " (3, 4, 3),\n",
       " (3, 4, 4),\n",
       " (4, 0, 0),\n",
       " (4, 0, 1),\n",
       " (4, 0, 2),\n",
       " (4, 0, 3),\n",
       " (4, 0, 4),\n",
       " (4, 1, 0),\n",
       " (4, 1, 1),\n",
       " (4, 1, 2),\n",
       " (4, 1, 3),\n",
       " (4, 1, 4),\n",
       " (4, 2, 0),\n",
       " (4, 2, 1),\n",
       " (4, 2, 2),\n",
       " (4, 2, 3),\n",
       " (4, 2, 4),\n",
       " (4, 3, 0),\n",
       " (4, 3, 1),\n",
       " (4, 3, 2),\n",
       " (4, 3, 3),\n",
       " (4, 3, 4),\n",
       " (4, 4, 0),\n",
       " (4, 4, 1),\n",
       " (4, 4, 2),\n",
       " (4, 4, 3),\n",
       " (4, 4, 4)]"
      ]
     },
     "execution_count": 55,
     "metadata": {},
     "output_type": "execute_result"
    }
   ],
   "source": [
    "import itertools\n",
    "p=d=q=range(0,5)\n",
    "pdq=list(itertools.product(p,d,q))\n",
    "pdq"
   ]
  },
  {
   "cell_type": "code",
   "execution_count": 57,
   "id": "b389ec6c",
   "metadata": {},
   "outputs": [],
   "source": [
    "import warnings\n",
    "warnings.filterwarnings('ignore')\n",
    "\n",
    "for param in pdq:\n",
    "    try:\n",
    "        model_arima=ARIMA(train['석탄'], order=param)\n",
    "        model_arima_fit=model_arima.fit()\n",
    "        print(param,model_arima_fit.aic)\n",
    "    except:\n",
    "        continue"
   ]
  },
  {
   "cell_type": "code",
   "execution_count": null,
   "id": "fbd2fc4a",
   "metadata": {},
   "outputs": [],
   "source": []
  },
  {
   "cell_type": "code",
   "execution_count": 59,
   "id": "00173634",
   "metadata": {},
   "outputs": [
    {
     "name": "stdout",
     "output_type": "stream",
     "text": [
      "                             ARIMA Model Results                              \n",
      "==============================================================================\n",
      "Dep. Variable:                   D.석탄   No. Observations:                  211\n",
      "Model:                 ARIMA(4, 1, 2)   Log Likelihood               -2102.890\n",
      "Method:                       css-mle   S.D. of innovations           5130.587\n",
      "Date:                Tue, 19 Oct 2021   AIC                           4219.780\n",
      "Time:                        17:47:01   BIC                           4243.243\n",
      "Sample:                    01-02-2019   HQIC                          4229.264\n",
      "                         - 07-31-2019                                         \n",
      "==============================================================================\n",
      "                 coef    std err          z      P>|z|      [0.025      0.975]\n",
      "------------------------------------------------------------------------------\n",
      "ar.L1.D.석탄     0.7968      0.091      8.722      0.000       0.618       0.976\n",
      "ar.L2.D.석탄    -1.0904      0.091    -12.016      0.000      -1.268      -0.913\n",
      "ar.L3.D.석탄     0.3715      0.080      4.665      0.000       0.215       0.528\n",
      "ar.L4.D.석탄    -0.5347      0.065     -8.217      0.000      -0.662      -0.407\n",
      "ma.L1.D.석탄    -0.6674      0.108     -6.167      0.000      -0.880      -0.455\n",
      "ma.L2.D.석탄     0.6545      0.068      9.638      0.000       0.521       0.788\n",
      "                                    Roots                                    \n",
      "=============================================================================\n",
      "                  Real          Imaginary           Modulus         Frequency\n",
      "-----------------------------------------------------------------------------\n",
      "AR.1            0.6408           -0.8405j            1.0569           -0.1463\n",
      "AR.2            0.6408           +0.8405j            1.0569            0.1463\n",
      "AR.3           -0.2934           -1.2602j            1.2939           -0.2864\n",
      "AR.4           -0.2934           +1.2602j            1.2939            0.2864\n",
      "MA.1            0.5098           -1.1260j            1.2361           -0.1823\n",
      "MA.2            0.5098           +1.1260j            1.2361            0.1823\n",
      "-----------------------------------------------------------------------------\n"
     ]
    }
   ],
   "source": [
    "from statsmodels.tsa.arima_model import ARIMA\n",
    "import statsmodels.api as sm\n",
    "\n",
    "#(ar=2,차분=0, ma=2)파라미터로 arima모델을 학습\n",
    "model=ARIMA(train['석탄'], order=(4,1,2))\n",
    "model_fit=model.fit(trend='nc',full_output=True, disp=1)\n",
    "print(model_fit.summary())"
   ]
  },
  {
   "cell_type": "code",
   "execution_count": 101,
   "id": "341abf80",
   "metadata": {},
   "outputs": [
    {
     "data": {
      "text/plain": [
       "<AxesSubplot:xlabel='일자'>"
      ]
     },
     "execution_count": 101,
     "metadata": {},
     "output_type": "execute_result"
    },
    {
     "data": {
      "image/png": "[encoded data removed]",
      "text/plain": [
       "<Figure size 432x288 with 1 Axes>"
      ]
     },
     "metadata": {
      "needs_background": "light"
     },
     "output_type": "display_data"
    },
    {
     "data": {
      "image/png": "[encoded data removed]",
      "text/plain": [
       "<Figure size 432x288 with 1 Axes>"
      ]
     },
     "metadata": {
      "needs_background": "light"
     },
     "output_type": "display_data"
    }
   ],
   "source": [
    "fig=model_fit.plot_predict()\n",
    "residuals=pd.DataFrame(model_fit.resid)\n",
    "residuals.plot()"
   ]
  },
  {
   "cell_type": "code",
   "execution_count": 93,
   "id": "2b29fc92",
   "metadata": {},
   "outputs": [
    {
     "data": {
      "text/plain": [
       "[(0, 0, 0),\n",
       " (0, 0, 1),\n",
       " (0, 0, 2),\n",
       " (0, 0, 3),\n",
       " (0, 0, 4),\n",
       " (0, 1, 0),\n",
       " (0, 1, 1),\n",
       " (0, 1, 2),\n",
       " (0, 1, 3),\n",
       " (0, 1, 4),\n",
       " (0, 2, 0),\n",
       " (0, 2, 1),\n",
       " (0, 2, 2),\n",
       " (0, 2, 3),\n",
       " (0, 2, 4),\n",
       " (0, 3, 0),\n",
       " (0, 3, 1),\n",
       " (0, 3, 2),\n",
       " (0, 3, 3),\n",
       " (0, 3, 4),\n",
       " (0, 4, 0),\n",
       " (0, 4, 1),\n",
       " (0, 4, 2),\n",
       " (0, 4, 3),\n",
       " (0, 4, 4),\n",
       " (1, 0, 0),\n",
       " (1, 0, 1),\n",
       " (1, 0, 2),\n",
       " (1, 0, 3),\n",
       " (1, 0, 4),\n",
       " (1, 1, 0),\n",
       " (1, 1, 1),\n",
       " (1, 1, 2),\n",
       " (1, 1, 3),\n",
       " (1, 1, 4),\n",
       " (1, 2, 0),\n",
       " (1, 2, 1),\n",
       " (1, 2, 2),\n",
       " (1, 2, 3),\n",
       " (1, 2, 4),\n",
       " (1, 3, 0),\n",
       " (1, 3, 1),\n",
       " (1, 3, 2),\n",
       " (1, 3, 3),\n",
       " (1, 3, 4),\n",
       " (1, 4, 0),\n",
       " (1, 4, 1),\n",
       " (1, 4, 2),\n",
       " (1, 4, 3),\n",
       " (1, 4, 4),\n",
       " (2, 0, 0),\n",
       " (2, 0, 1),\n",
       " (2, 0, 2),\n",
       " (2, 0, 3),\n",
       " (2, 0, 4),\n",
       " (2, 1, 0),\n",
       " (2, 1, 1),\n",
       " (2, 1, 2),\n",
       " (2, 1, 3),\n",
       " (2, 1, 4),\n",
       " (2, 2, 0),\n",
       " (2, 2, 1),\n",
       " (2, 2, 2),\n",
       " (2, 2, 3),\n",
       " (2, 2, 4),\n",
       " (2, 3, 0),\n",
       " (2, 3, 1),\n",
       " (2, 3, 2),\n",
       " (2, 3, 3),\n",
       " (2, 3, 4),\n",
       " (2, 4, 0),\n",
       " (2, 4, 1),\n",
       " (2, 4, 2),\n",
       " (2, 4, 3),\n",
       " (2, 4, 4),\n",
       " (3, 0, 0),\n",
       " (3, 0, 1),\n",
       " (3, 0, 2),\n",
       " (3, 0, 3),\n",
       " (3, 0, 4),\n",
       " (3, 1, 0),\n",
       " (3, 1, 1),\n",
       " (3, 1, 2),\n",
       " (3, 1, 3),\n",
       " (3, 1, 4),\n",
       " (3, 2, 0),\n",
       " (3, 2, 1),\n",
       " (3, 2, 2),\n",
       " (3, 2, 3),\n",
       " (3, 2, 4),\n",
       " (3, 3, 0),\n",
       " (3, 3, 1),\n",
       " (3, 3, 2),\n",
       " (3, 3, 3),\n",
       " (3, 3, 4),\n",
       " (3, 4, 0),\n",
       " (3, 4, 1),\n",
       " (3, 4, 2),\n",
       " (3, 4, 3),\n",
       " (3, 4, 4),\n",
       " (4, 0, 0),\n",
       " (4, 0, 1),\n",
       " (4, 0, 2),\n",
       " (4, 0, 3),\n",
       " (4, 0, 4),\n",
       " (4, 1, 0),\n",
       " (4, 1, 1),\n",
       " (4, 1, 2),\n",
       " (4, 1, 3),\n",
       " (4, 1, 4),\n",
       " (4, 2, 0),\n",
       " (4, 2, 1),\n",
       " (4, 2, 2),\n",
       " (4, 2, 3),\n",
       " (4, 2, 4),\n",
       " (4, 3, 0),\n",
       " (4, 3, 1),\n",
       " (4, 3, 2),\n",
       " (4, 3, 3),\n",
       " (4, 3, 4),\n",
       " (4, 4, 0),\n",
       " (4, 4, 1),\n",
       " (4, 4, 2),\n",
       " (4, 4, 3),\n",
       " (4, 4, 4)]"
      ]
     },
     "execution_count": 93,
     "metadata": {},
     "output_type": "execute_result"
    }
   ],
   "source": [
    "import itertools\n",
    "p=d=q=range(0,5)\n",
    "pdq=list(itertools.product(p,d,q))\n",
    "pdq"
   ]
  },
  {
   "cell_type": "code",
   "execution_count": 94,
   "id": "5368c49a",
   "metadata": {},
   "outputs": [
    {
     "name": "stdout",
     "output_type": "stream",
     "text": [
      "(0, 0, 0) 628.2895914633227\n",
      "(0, 0, 1) 610.1091792001937\n",
      "(0, 0, 2) 611.2342769234829\n",
      "(0, 0, 3) 613.15828079911\n",
      "(0, 0, 4) 611.5990598268576\n",
      "(0, 1, 0) 604.5507497369704\n",
      "(0, 1, 1) 602.8758041089616\n",
      "(0, 1, 2) 592.0691400008808\n",
      "(0, 1, 3) nan\n",
      "(0, 1, 4) nan\n",
      "(0, 2, 0) 599.5240373485079\n",
      "(0, 2, 1) 590.9031674598922\n",
      "(0, 2, 2) nan\n",
      "(0, 2, 3) 581.8562297895481\n",
      "(0, 2, 4) 583.7858379075601\n",
      "(1, 0, 0) 619.0367040952231\n",
      "(1, 0, 1) 611.2905850905582\n",
      "(1, 0, 2) 616.8100068597946\n",
      "(1, 0, 3) 616.792830745579\n",
      "(1, 0, 4) 653.2314474013458\n",
      "(1, 1, 0) 605.4992153448823\n",
      "(1, 1, 1) 601.7839596537196\n",
      "(1, 1, 2) 593.7836057718928\n",
      "(1, 1, 3) 595.6854514861295\n",
      "(1, 1, 4) 593.451693241512\n",
      "(1, 2, 0) 601.0550308891819\n",
      "(2, 0, 0) 611.4252489972922\n",
      "(2, 0, 1) 612.5791776102127\n",
      "(2, 0, 2) 614.2142597362147\n",
      "(2, 1, 0) 600.1307656762717\n",
      "(2, 1, 1) 590.9994067980628\n",
      "(2, 1, 2) 588.6119655583747\n",
      "(2, 2, 0) 595.9685302422197\n",
      "(2, 2, 2) 582.0306596008589\n",
      "(3, 0, 0) 613.0266759779857\n",
      "(3, 0, 1) 633.0877440393099\n",
      "(3, 0, 2) 608.1350304374904\n",
      "(3, 1, 0) 601.6086361507273\n",
      "(3, 1, 1) 592.7710731599984\n",
      "(3, 1, 2) 590.6058040575022\n",
      "(3, 1, 3) 590.1607586598998\n",
      "(3, 2, 0) 597.3986359977133\n",
      "(4, 0, 0) 614.5509692869222\n",
      "(4, 0, 1) 615.1737936153933\n",
      "(4, 1, 0) 597.7858207579827\n",
      "(4, 1, 1) 586.932218498828\n",
      "(4, 1, 3) 579.4066299282072\n",
      "(4, 2, 0) 597.8249497001991\n",
      "(4, 2, 2) 576.3226438719508\n"
     ]
    }
   ],
   "source": [
    "import warnings\n",
    "warnings.filterwarnings('ignore')\n",
    "\n",
    "for param in pdq:\n",
    "    try:\n",
    "        model_arima=ARIMA(train.석탄.values, order=param)\n",
    "        model_arima_fit=model_arima.fit()\n",
    "        print(param,model_arima_fit.aic)\n",
    "    except:\n",
    "        continue"
   ]
  },
  {
   "cell_type": "code",
   "execution_count": 102,
   "id": "a2ecfd0f",
   "metadata": {},
   "outputs": [],
   "source": [
    "forecast_data=model_fit.forecast(steps=11) #학습데이터 셋으로 부터 10일 뒤를 예측\n",
    "\n",
    "pred_y=forecast_data[0].tolist()\n",
    "test_y=test.석탄.values #실제 10일의 미세먼지 데이터"
   ]
  },
  {
   "cell_type": "code",
   "execution_count": 103,
   "id": "2c699f63",
   "metadata": {},
   "outputs": [
    {
     "data": {
      "text/plain": [
       "[129696.23717869948,\n",
       " 127784.2463875562,\n",
       " 122137.16590413112,\n",
       " 119348.25235065552,\n",
       " 121016.22978196568,\n",
       " 123340.44056221626,\n",
       " 125164.02019569771,\n",
       " 125424.11931987082,\n",
       " 122778.43694528122,\n",
       " 119216.99339003745,\n",
       " 117417.10955785228]"
      ]
     },
     "execution_count": 103,
     "metadata": {},
     "output_type": "execute_result"
    }
   ],
   "source": [
    "pred_y"
   ]
  },
  {
   "cell_type": "code",
   "execution_count": 104,
   "id": "e68fc765",
   "metadata": {},
   "outputs": [
    {
     "data": {
      "text/plain": [
       "array([128717, 127716, 124408, 122445, 129004, 130098, 131304, 131583,\n",
       "       132284, 127415, 122518], dtype=int64)"
      ]
     },
     "execution_count": 104,
     "metadata": {},
     "output_type": "execute_result"
    }
   ],
   "source": [
    "test_y"
   ]
  },
  {
   "cell_type": "code",
   "execution_count": 105,
   "id": "06775e37",
   "metadata": {},
   "outputs": [
    {
     "name": "stdout",
     "output_type": "stream",
     "text": [
      "5911.410130370109\n"
     ]
    }
   ],
   "source": [
    "from sklearn.metrics import mean_squared_error,r2_score\n",
    "from math import sqrt\n",
    "\n",
    "rmse=sqrt(mean_squared_error(pred_y,test_y))\n",
    "print(rmse)"
   ]
  },
  {
   "cell_type": "code",
   "execution_count": 106,
   "id": "3aa90a62",
   "metadata": {},
   "outputs": [
    {
     "data": {
      "text/plain": [
       "[<matplotlib.lines.Line2D at 0x13a89975700>]"
      ]
     },
     "execution_count": 106,
     "metadata": {},
     "output_type": "execute_result"
    },
    {
     "data": {
      "image/png": "[encoded data removed]",
      "text/plain": [
       "<Figure size 432x288 with 1 Axes>"
      ]
     },
     "metadata": {
      "needs_background": "light"
     },
     "output_type": "display_data"
    }
   ],
   "source": [
    "plt.plot(pred_y,color='red')\n",
    "plt.plot(test_y,color='blue')"
   ]
  },
  {
   "cell_type": "code",
   "execution_count": null,
   "id": "3ad974f0",
   "metadata": {},
   "outputs": [],
   "source": []
  }
 ],
 "metadata": {
  "kernelspec": {
   "display_name": "Python 3",
   "language": "python",
   "name": "python3"
  },
  "language_info": {
   "codemirror_mode": {
    "name": "ipython",
    "version": 3
   },
   "file_extension": ".py",
   "mimetype": "text/x-python",
   "name": "python",
   "nbconvert_exporter": "python",
   "pygments_lexer": "ipython3",
   "version": "3.8.8"
  }
 },
 "nbformat": 4,
 "nbformat_minor": 5
}
