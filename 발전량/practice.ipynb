{
 "cells": [
  {
   "cell_type": "code",
   "execution_count": 1,
   "id": "1ffe72ea",
   "metadata": {},
   "outputs": [],
   "source": [
    "import matplotlib.pyplot as plt      #시각화를 위한 설치\n",
    "import matplotlib.font_manager as fm    # 한글 폰트\n",
    "import matplotlib                   #시각화를 위한 설치\n",
    "import os, warnings  \n",
    "import pandas as pd                #구조 변경 및 결합을 하기 위한 설치\n",
    "import seaborn as sns              #시각화를 위한 설치\n",
    "import plotly.express as px        #시각화를 위한 설치\n",
    "\n",
    "warnings.filterwarnings('ignore')\n",
    "\n",
    "pd.set_option('display.max_rows', None)         #모든 행을 다 보여주라는 명령\n",
    "pd.set_option('display.max_columns', None)      #모든 열을 다 보여주라는 명령"
   ]
  },
  {
   "cell_type": "code",
   "execution_count": 14,
   "id": "1aed7a14",
   "metadata": {},
   "outputs": [],
   "source": [
    "# 그래프에서 마이너스 폰트 깨지는 문제에 대한 대처\n",
    "matplotlib.rcParams['axes.unicode_minus'] = False\n",
    "## 한글 폰트 적용 ( 안하면 한글 깨짐 )\n",
    "f_name = fm.FontProperties(fname=\"C:/Windows/Fonts/malgunbd.ttf\").get_name()\n",
    "plt.rc('font', family=f_name)"
   ]
  },
  {
   "cell_type": "code",
   "execution_count": 76,
   "id": "b9037e55",
   "metadata": {},
   "outputs": [],
   "source": [
    "prac= pd.read_csv('prac.csv',encoding='ANSI')"
   ]
  },
  {
   "cell_type": "code",
   "execution_count": 77,
   "id": "f834dbe6",
   "metadata": {},
   "outputs": [
    {
     "data": {
      "text/html": [
       "<div>\n",
       "<style scoped>\n",
       "    .dataframe tbody tr th:only-of-type {\n",
       "        vertical-align: middle;\n",
       "    }\n",
       "\n",
       "    .dataframe tbody tr th {\n",
       "        vertical-align: top;\n",
       "    }\n",
       "\n",
       "    .dataframe thead th {\n",
       "        text-align: right;\n",
       "    }\n",
       "</style>\n",
       "<table border=\"1\" class=\"dataframe\">\n",
       "  <thead>\n",
       "    <tr style=\"text-align: right;\">\n",
       "      <th></th>\n",
       "      <th>일자</th>\n",
       "      <th>석탄</th>\n",
       "    </tr>\n",
       "  </thead>\n",
       "  <tbody>\n",
       "    <tr>\n",
       "      <th>0</th>\n",
       "      <td>2015-01-01</td>\n",
       "      <td>98525</td>\n",
       "    </tr>\n",
       "    <tr>\n",
       "      <th>1</th>\n",
       "      <td>2015-01-02</td>\n",
       "      <td>115424</td>\n",
       "    </tr>\n",
       "    <tr>\n",
       "      <th>2</th>\n",
       "      <td>2015-01-03</td>\n",
       "      <td>117490</td>\n",
       "    </tr>\n",
       "    <tr>\n",
       "      <th>3</th>\n",
       "      <td>2015-01-04</td>\n",
       "      <td>112604</td>\n",
       "    </tr>\n",
       "    <tr>\n",
       "      <th>4</th>\n",
       "      <td>2015-01-05</td>\n",
       "      <td>117665</td>\n",
       "    </tr>\n",
       "  </tbody>\n",
       "</table>\n",
       "</div>"
      ],
      "text/plain": [
       "           일자      석탄\n",
       "0  2015-01-01   98525\n",
       "1  2015-01-02  115424\n",
       "2  2015-01-03  117490\n",
       "3  2015-01-04  112604\n",
       "4  2015-01-05  117665"
      ]
     },
     "execution_count": 77,
     "metadata": {},
     "output_type": "execute_result"
    }
   ],
   "source": [
    "prac.head(5)"
   ]
  },
  {
   "cell_type": "code",
   "execution_count": 78,
   "id": "23c1bb83",
   "metadata": {},
   "outputs": [],
   "source": [
    "train=prac[(prac['일자']>='2019-07-01')&(prac['일자']<'2019-08-01')]"
   ]
  },
  {
   "cell_type": "code",
   "execution_count": 79,
   "id": "1179ea44",
   "metadata": {},
   "outputs": [],
   "source": [
    "test=prac[(prac['일자']>='2019-08-01')&(prac['일자']<'2019-08-12')]"
   ]
  },
  {
   "cell_type": "code",
   "execution_count": 80,
   "id": "1b2759b4",
   "metadata": {},
   "outputs": [],
   "source": [
    "train['일자']=train['일자'].astype('str')\n",
    "train['일자']=pd.to_datetime(train['일자'])\n",
    "train.index=train['일자']\n",
    "train.set_index('일자',inplace=True)"
   ]
  },
  {
   "cell_type": "code",
   "execution_count": 81,
   "id": "8d9f39eb",
   "metadata": {},
   "outputs": [
    {
     "data": {
      "text/plain": [
       "<AxesSubplot:xlabel='일자'>"
      ]
     },
     "execution_count": 81,
     "metadata": {},
     "output_type": "execute_result"
    },
    {
     "data": {
      "image/png": "[encoded data removed]",
      "text/plain": [
       "<Figure size 432x288 with 1 Axes>"
      ]
     },
     "metadata": {
      "needs_background": "light"
     },
     "output_type": "display_data"
    }
   ],
   "source": [
    "train.plot()"
   ]
  },
  {
   "cell_type": "code",
   "execution_count": 82,
   "id": "ffb6718a",
   "metadata": {},
   "outputs": [
    {
     "data": {
      "text/plain": [
       "석탄    0\n",
       "dtype: int64"
      ]
     },
     "execution_count": 82,
     "metadata": {},
     "output_type": "execute_result"
    }
   ],
   "source": [
    "train.isnull().sum()"
   ]
  },
  {
   "cell_type": "code",
   "execution_count": 100,
   "id": "00173634",
   "metadata": {},
   "outputs": [
    {
     "name": "stdout",
     "output_type": "stream",
     "text": [
      "                             ARIMA Model Results                              \n",
      "==============================================================================\n",
      "Dep. Variable:                  D2.석탄   No. Observations:                   29\n",
      "Model:                 ARIMA(4, 2, 2)   Log Likelihood                -280.162\n",
      "Method:                       css-mle   S.D. of innovations           3149.233\n",
      "Date:                Fri, 15 Oct 2021   AIC                            574.325\n",
      "Time:                        11:52:09   BIC                            583.896\n",
      "Sample:                    07-03-2019   HQIC                           577.323\n",
      "                         - 07-31-2019                                         \n",
      "===============================================================================\n",
      "                  coef    std err          z      P>|z|      [0.025      0.975]\n",
      "-------------------------------------------------------------------------------\n",
      "ar.L1.D2.석탄     0.5828      0.152      3.837      0.000       0.285       0.881\n",
      "ar.L2.D2.석탄    -0.7973      0.178     -4.484      0.000      -1.146      -0.449\n",
      "ar.L3.D2.석탄     0.1949      0.175      1.111      0.267      -0.149       0.539\n",
      "ar.L4.D2.석탄    -0.5658      0.152     -3.724      0.000      -0.864      -0.268\n",
      "ma.L1.D2.석탄    -1.8333      0.156    -11.772      0.000      -2.139      -1.528\n",
      "ma.L2.D2.석탄     0.9995      0.161      6.197      0.000       0.683       1.316\n",
      "                                    Roots                                    \n",
      "=============================================================================\n",
      "                  Real          Imaginary           Modulus         Frequency\n",
      "-----------------------------------------------------------------------------\n",
      "AR.1            0.6615           -0.8180j            1.0520           -0.1418\n",
      "AR.2            0.6615           +0.8180j            1.0520            0.1418\n",
      "AR.3           -0.4893           -1.1652j            1.2638           -0.3133\n",
      "AR.4           -0.4893           +1.1652j            1.2638            0.3133\n",
      "MA.1            0.9171           -0.3993j            1.0002           -0.0654\n",
      "MA.2            0.9171           +0.3993j            1.0002            0.0654\n",
      "-----------------------------------------------------------------------------\n"
     ]
    }
   ],
   "source": [
    "from statsmodels.tsa.arima_model import ARIMA\n",
    "import statsmodels.api as sm\n",
    "\n",
    "#(ar=2,차분=0, ma=2)파라미터로 arima모델을 학습\n",
    "model=ARIMA(train['석탄'], order=(4,2,2))\n",
    "model_fit=model.fit(trend='nc',full_output=True, disp=1)\n",
    "print(model_fit.summary())"
   ]
  },
  {
   "cell_type": "code",
   "execution_count": 101,
   "id": "341abf80",
   "metadata": {},
   "outputs": [
    {
     "data": {
      "text/plain": [
       "<AxesSubplot:xlabel='일자'>"
      ]
     },
     "execution_count": 101,
     "metadata": {},
     "output_type": "execute_result"
    },
    {
     "data": {
      "image/png": "[encoded data removed]",
      "text/plain": [
       "<Figure size 432x288 with 1 Axes>"
      ]
     },
     "metadata": {
      "needs_background": "light"
     },
     "output_type": "display_data"
    },
    {
     "data": {
      "image/png": "[encoded data removed]",
      "text/plain": [
       "<Figure size 432x288 with 1 Axes>"
      ]
     },
     "metadata": {
      "needs_background": "light"
     },
     "output_type": "display_data"
    }
   ],
   "source": [
    "fig=model_fit.plot_predict()\n",
    "residuals=pd.DataFrame(model_fit.resid)\n",
    "residuals.plot()"
   ]
  },
  {
   "cell_type": "code",
   "execution_count": 93,
   "id": "2b29fc92",
   "metadata": {},
   "outputs": [
    {
     "data": {
      "text/plain": [
       "[(0, 0, 0),\n",
       " (0, 0, 1),\n",
       " (0, 0, 2),\n",
       " (0, 0, 3),\n",
       " (0, 0, 4),\n",
       " (0, 1, 0),\n",
       " (0, 1, 1),\n",
       " (0, 1, 2),\n",
       " (0, 1, 3),\n",
       " (0, 1, 4),\n",
       " (0, 2, 0),\n",
       " (0, 2, 1),\n",
       " (0, 2, 2),\n",
       " (0, 2, 3),\n",
       " (0, 2, 4),\n",
       " (0, 3, 0),\n",
       " (0, 3, 1),\n",
       " (0, 3, 2),\n",
       " (0, 3, 3),\n",
       " (0, 3, 4),\n",
       " (0, 4, 0),\n",
       " (0, 4, 1),\n",
       " (0, 4, 2),\n",
       " (0, 4, 3),\n",
       " (0, 4, 4),\n",
       " (1, 0, 0),\n",
       " (1, 0, 1),\n",
       " (1, 0, 2),\n",
       " (1, 0, 3),\n",
       " (1, 0, 4),\n",
       " (1, 1, 0),\n",
       " (1, 1, 1),\n",
       " (1, 1, 2),\n",
       " (1, 1, 3),\n",
       " (1, 1, 4),\n",
       " (1, 2, 0),\n",
       " (1, 2, 1),\n",
       " (1, 2, 2),\n",
       " (1, 2, 3),\n",
       " (1, 2, 4),\n",
       " (1, 3, 0),\n",
       " (1, 3, 1),\n",
       " (1, 3, 2),\n",
       " (1, 3, 3),\n",
       " (1, 3, 4),\n",
       " (1, 4, 0),\n",
       " (1, 4, 1),\n",
       " (1, 4, 2),\n",
       " (1, 4, 3),\n",
       " (1, 4, 4),\n",
       " (2, 0, 0),\n",
       " (2, 0, 1),\n",
       " (2, 0, 2),\n",
       " (2, 0, 3),\n",
       " (2, 0, 4),\n",
       " (2, 1, 0),\n",
       " (2, 1, 1),\n",
       " (2, 1, 2),\n",
       " (2, 1, 3),\n",
       " (2, 1, 4),\n",
       " (2, 2, 0),\n",
       " (2, 2, 1),\n",
       " (2, 2, 2),\n",
       " (2, 2, 3),\n",
       " (2, 2, 4),\n",
       " (2, 3, 0),\n",
       " (2, 3, 1),\n",
       " (2, 3, 2),\n",
       " (2, 3, 3),\n",
       " (2, 3, 4),\n",
       " (2, 4, 0),\n",
       " (2, 4, 1),\n",
       " (2, 4, 2),\n",
       " (2, 4, 3),\n",
       " (2, 4, 4),\n",
       " (3, 0, 0),\n",
       " (3, 0, 1),\n",
       " (3, 0, 2),\n",
       " (3, 0, 3),\n",
       " (3, 0, 4),\n",
       " (3, 1, 0),\n",
       " (3, 1, 1),\n",
       " (3, 1, 2),\n",
       " (3, 1, 3),\n",
       " (3, 1, 4),\n",
       " (3, 2, 0),\n",
       " (3, 2, 1),\n",
       " (3, 2, 2),\n",
       " (3, 2, 3),\n",
       " (3, 2, 4),\n",
       " (3, 3, 0),\n",
       " (3, 3, 1),\n",
       " (3, 3, 2),\n",
       " (3, 3, 3),\n",
       " (3, 3, 4),\n",
       " (3, 4, 0),\n",
       " (3, 4, 1),\n",
       " (3, 4, 2),\n",
       " (3, 4, 3),\n",
       " (3, 4, 4),\n",
       " (4, 0, 0),\n",
       " (4, 0, 1),\n",
       " (4, 0, 2),\n",
       " (4, 0, 3),\n",
       " (4, 0, 4),\n",
       " (4, 1, 0),\n",
       " (4, 1, 1),\n",
       " (4, 1, 2),\n",
       " (4, 1, 3),\n",
       " (4, 1, 4),\n",
       " (4, 2, 0),\n",
       " (4, 2, 1),\n",
       " (4, 2, 2),\n",
       " (4, 2, 3),\n",
       " (4, 2, 4),\n",
       " (4, 3, 0),\n",
       " (4, 3, 1),\n",
       " (4, 3, 2),\n",
       " (4, 3, 3),\n",
       " (4, 3, 4),\n",
       " (4, 4, 0),\n",
       " (4, 4, 1),\n",
       " (4, 4, 2),\n",
       " (4, 4, 3),\n",
       " (4, 4, 4)]"
      ]
     },
     "execution_count": 93,
     "metadata": {},
     "output_type": "execute_result"
    }
   ],
   "source": [
    "import itertools\n",
    "p=d=q=range(0,5)\n",
    "pdq=list(itertools.product(p,d,q))\n",
    "pdq"
   ]
  },
  {
   "cell_type": "code",
   "execution_count": 94,
   "id": "5368c49a",
   "metadata": {},
   "outputs": [
    {
     "name": "stdout",
     "output_type": "stream",
     "text": [
      "(0, 0, 0) 628.2895914633227\n",
      "(0, 0, 1) 610.1091792001937\n",
      "(0, 0, 2) 611.2342769234829\n",
      "(0, 0, 3) 613.15828079911\n",
      "(0, 0, 4) 611.5990598268576\n",
      "(0, 1, 0) 604.5507497369704\n",
      "(0, 1, 1) 602.8758041089616\n",
      "(0, 1, 2) 592.0691400008808\n",
      "(0, 1, 3) nan\n",
      "(0, 1, 4) nan\n",
      "(0, 2, 0) 599.5240373485079\n",
      "(0, 2, 1) 590.9031674598922\n",
      "(0, 2, 2) nan\n",
      "(0, 2, 3) 581.8562297895481\n",
      "(0, 2, 4) 583.7858379075601\n",
      "(1, 0, 0) 619.0367040952231\n",
      "(1, 0, 1) 611.2905850905582\n",
      "(1, 0, 2) 616.8100068597946\n",
      "(1, 0, 3) 616.792830745579\n",
      "(1, 0, 4) 653.2314474013458\n",
      "(1, 1, 0) 605.4992153448823\n",
      "(1, 1, 1) 601.7839596537196\n",
      "(1, 1, 2) 593.7836057718928\n",
      "(1, 1, 3) 595.6854514861295\n",
      "(1, 1, 4) 593.451693241512\n",
      "(1, 2, 0) 601.0550308891819\n",
      "(2, 0, 0) 611.4252489972922\n",
      "(2, 0, 1) 612.5791776102127\n",
      "(2, 0, 2) 614.2142597362147\n",
      "(2, 1, 0) 600.1307656762717\n",
      "(2, 1, 1) 590.9994067980628\n",
      "(2, 1, 2) 588.6119655583747\n",
      "(2, 2, 0) 595.9685302422197\n",
      "(2, 2, 2) 582.0306596008589\n",
      "(3, 0, 0) 613.0266759779857\n",
      "(3, 0, 1) 633.0877440393099\n",
      "(3, 0, 2) 608.1350304374904\n",
      "(3, 1, 0) 601.6086361507273\n",
      "(3, 1, 1) 592.7710731599984\n",
      "(3, 1, 2) 590.6058040575022\n",
      "(3, 1, 3) 590.1607586598998\n",
      "(3, 2, 0) 597.3986359977133\n",
      "(4, 0, 0) 614.5509692869222\n",
      "(4, 0, 1) 615.1737936153933\n",
      "(4, 1, 0) 597.7858207579827\n",
      "(4, 1, 1) 586.932218498828\n",
      "(4, 1, 3) 579.4066299282072\n",
      "(4, 2, 0) 597.8249497001991\n",
      "(4, 2, 2) 576.3226438719508\n"
     ]
    }
   ],
   "source": [
    "import warnings\n",
    "warnings.filterwarnings('ignore')\n",
    "\n",
    "for param in pdq:\n",
    "    try:\n",
    "        model_arima=ARIMA(train.석탄.values, order=param)\n",
    "        model_arima_fit=model_arima.fit()\n",
    "        print(param,model_arima_fit.aic)\n",
    "    except:\n",
    "        continue"
   ]
  },
  {
   "cell_type": "code",
   "execution_count": 102,
   "id": "a2ecfd0f",
   "metadata": {},
   "outputs": [],
   "source": [
    "forecast_data=model_fit.forecast(steps=11) #학습데이터 셋으로 부터 10일 뒤를 예측\n",
    "\n",
    "pred_y=forecast_data[0].tolist()\n",
    "test_y=test.석탄.values #실제 10일의 미세먼지 데이터"
   ]
  },
  {
   "cell_type": "code",
   "execution_count": 103,
   "id": "2c699f63",
   "metadata": {},
   "outputs": [
    {
     "data": {
      "text/plain": [
       "[129696.23717869948,\n",
       " 127784.2463875562,\n",
       " 122137.16590413112,\n",
       " 119348.25235065552,\n",
       " 121016.22978196568,\n",
       " 123340.44056221626,\n",
       " 125164.02019569771,\n",
       " 125424.11931987082,\n",
       " 122778.43694528122,\n",
       " 119216.99339003745,\n",
       " 117417.10955785228]"
      ]
     },
     "execution_count": 103,
     "metadata": {},
     "output_type": "execute_result"
    }
   ],
   "source": [
    "pred_y"
   ]
  },
  {
   "cell_type": "code",
   "execution_count": 104,
   "id": "e68fc765",
   "metadata": {},
   "outputs": [
    {
     "data": {
      "text/plain": [
       "array([128717, 127716, 124408, 122445, 129004, 130098, 131304, 131583,\n",
       "       132284, 127415, 122518], dtype=int64)"
      ]
     },
     "execution_count": 104,
     "metadata": {},
     "output_type": "execute_result"
    }
   ],
   "source": [
    "test_y"
   ]
  },
  {
   "cell_type": "code",
   "execution_count": 105,
   "id": "06775e37",
   "metadata": {},
   "outputs": [
    {
     "name": "stdout",
     "output_type": "stream",
     "text": [
      "5911.410130370109\n"
     ]
    }
   ],
   "source": [
    "from sklearn.metrics import mean_squared_error,r2_score\n",
    "from math import sqrt\n",
    "\n",
    "rmse=sqrt(mean_squared_error(pred_y,test_y))\n",
    "print(rmse)"
   ]
  },
  {
   "cell_type": "code",
   "execution_count": 106,
   "id": "3aa90a62",
   "metadata": {},
   "outputs": [
    {
     "data": {
      "text/plain": [
       "[<matplotlib.lines.Line2D at 0x13a89975700>]"
      ]
     },
     "execution_count": 106,
     "metadata": {},
     "output_type": "execute_result"
    },
    {
     "data": {
      "image/png": "[encoded data removed]",
      "text/plain": [
       "<Figure size 432x288 with 1 Axes>"
      ]
     },
     "metadata": {
      "needs_background": "light"
     },
     "output_type": "display_data"
    }
   ],
   "source": [
    "plt.plot(pred_y,color='red')\n",
    "plt.plot(test_y,color='blue')"
   ]
  },
  {
   "cell_type": "code",
   "execution_count": null,
   "id": "3ad974f0",
   "metadata": {},
   "outputs": [],
   "source": []
  }
 ],
 "metadata": {
  "kernelspec": {
   "display_name": "Python 3",
   "language": "python",
   "name": "python3"
  },
  "language_info": {
   "codemirror_mode": {
    "name": "ipython",
    "version": 3
   },
   "file_extension": ".py",
   "mimetype": "text/x-python",
   "name": "python",
   "nbconvert_exporter": "python",
   "pygments_lexer": "ipython3",
   "version": "3.8.8"
  }
 },
 "nbformat": 4,
 "nbformat_minor": 5
}
