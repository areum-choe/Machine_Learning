{
 "cells": [
  {
   "cell_type": "code",
   "execution_count": 23,
   "metadata": {},
   "outputs": [],
   "source": [
    "import pandas as pd\n",
    "\n",
    "df = pd.read_csv('C:/Users/chlal/Desktop/POC시연자료/상관분석_혈압나이성별온도.csv')"
   ]
  },
  {
   "cell_type": "code",
   "execution_count": 24,
   "metadata": {},
   "outputs": [],
   "source": [
    "df['sex'] = df['sex'].map({'F':0, 'M':1})"
   ]
  },
  {
   "cell_type": "code",
   "execution_count": 25,
   "metadata": {},
   "outputs": [],
   "source": [
    "df=df.dropna(axis=0)"
   ]
  },
  {
   "cell_type": "code",
   "execution_count": 26,
   "metadata": {},
   "outputs": [],
   "source": [
    "df['height']=df['height'].astype(int)\n",
    "df['weight']=df['weight'].astype(int)\n",
    "df['temperature']=df['temperature'].astype(int)\n",
    "df['pulse']=df['pulse'].astype(int)"
   ]
  },
  {
   "cell_type": "code",
   "execution_count": 68,
   "metadata": {},
   "outputs": [
    {
     "data": {
      "text/html": [
       "<div>\n",
       "<style scoped>\n",
       "    .dataframe tbody tr th:only-of-type {\n",
       "        vertical-align: middle;\n",
       "    }\n",
       "\n",
       "    .dataframe tbody tr th {\n",
       "        vertical-align: top;\n",
       "    }\n",
       "\n",
       "    .dataframe thead th {\n",
       "        text-align: right;\n",
       "    }\n",
       "</style>\n",
       "<table border=\"1\" class=\"dataframe\">\n",
       "  <thead>\n",
       "    <tr style=\"text-align: right;\">\n",
       "      <th></th>\n",
       "      <th>height</th>\n",
       "      <th>age</th>\n",
       "      <th>sex</th>\n",
       "      <th>weight</th>\n",
       "      <th>diastolic</th>\n",
       "      <th>systolic</th>\n",
       "      <th>temperature</th>\n",
       "      <th>pulse</th>\n",
       "    </tr>\n",
       "  </thead>\n",
       "  <tbody>\n",
       "    <tr>\n",
       "      <th>0</th>\n",
       "      <td>133</td>\n",
       "      <td>98</td>\n",
       "      <td>0</td>\n",
       "      <td>34</td>\n",
       "      <td>98</td>\n",
       "      <td>175</td>\n",
       "      <td>36</td>\n",
       "      <td>90</td>\n",
       "    </tr>\n",
       "    <tr>\n",
       "      <th>1</th>\n",
       "      <td>136</td>\n",
       "      <td>82</td>\n",
       "      <td>0</td>\n",
       "      <td>43</td>\n",
       "      <td>69</td>\n",
       "      <td>131</td>\n",
       "      <td>36</td>\n",
       "      <td>98</td>\n",
       "    </tr>\n",
       "    <tr>\n",
       "      <th>2</th>\n",
       "      <td>139</td>\n",
       "      <td>67</td>\n",
       "      <td>0</td>\n",
       "      <td>53</td>\n",
       "      <td>61</td>\n",
       "      <td>98</td>\n",
       "      <td>36</td>\n",
       "      <td>99</td>\n",
       "    </tr>\n",
       "    <tr>\n",
       "      <th>3</th>\n",
       "      <td>139</td>\n",
       "      <td>95</td>\n",
       "      <td>0</td>\n",
       "      <td>53</td>\n",
       "      <td>67</td>\n",
       "      <td>118</td>\n",
       "      <td>36</td>\n",
       "      <td>111</td>\n",
       "    </tr>\n",
       "    <tr>\n",
       "      <th>4</th>\n",
       "      <td>140</td>\n",
       "      <td>84</td>\n",
       "      <td>0</td>\n",
       "      <td>40</td>\n",
       "      <td>73</td>\n",
       "      <td>131</td>\n",
       "      <td>36</td>\n",
       "      <td>72</td>\n",
       "    </tr>\n",
       "    <tr>\n",
       "      <th>...</th>\n",
       "      <td>...</td>\n",
       "      <td>...</td>\n",
       "      <td>...</td>\n",
       "      <td>...</td>\n",
       "      <td>...</td>\n",
       "      <td>...</td>\n",
       "      <td>...</td>\n",
       "      <td>...</td>\n",
       "    </tr>\n",
       "    <tr>\n",
       "      <th>1887</th>\n",
       "      <td>174</td>\n",
       "      <td>31</td>\n",
       "      <td>0</td>\n",
       "      <td>69</td>\n",
       "      <td>66</td>\n",
       "      <td>119</td>\n",
       "      <td>36</td>\n",
       "      <td>66</td>\n",
       "    </tr>\n",
       "    <tr>\n",
       "      <th>1919</th>\n",
       "      <td>174</td>\n",
       "      <td>47</td>\n",
       "      <td>0</td>\n",
       "      <td>93</td>\n",
       "      <td>101</td>\n",
       "      <td>152</td>\n",
       "      <td>36</td>\n",
       "      <td>79</td>\n",
       "    </tr>\n",
       "    <tr>\n",
       "      <th>1920</th>\n",
       "      <td>174</td>\n",
       "      <td>36</td>\n",
       "      <td>0</td>\n",
       "      <td>65</td>\n",
       "      <td>87</td>\n",
       "      <td>142</td>\n",
       "      <td>36</td>\n",
       "      <td>84</td>\n",
       "    </tr>\n",
       "    <tr>\n",
       "      <th>2000</th>\n",
       "      <td>176</td>\n",
       "      <td>74</td>\n",
       "      <td>0</td>\n",
       "      <td>75</td>\n",
       "      <td>74</td>\n",
       "      <td>111</td>\n",
       "      <td>36</td>\n",
       "      <td>125</td>\n",
       "    </tr>\n",
       "    <tr>\n",
       "      <th>2050</th>\n",
       "      <td>177</td>\n",
       "      <td>50</td>\n",
       "      <td>0</td>\n",
       "      <td>56</td>\n",
       "      <td>72</td>\n",
       "      <td>111</td>\n",
       "      <td>36</td>\n",
       "      <td>105</td>\n",
       "    </tr>\n",
       "  </tbody>\n",
       "</table>\n",
       "<p>1088 rows × 8 columns</p>\n",
       "</div>"
      ],
      "text/plain": [
       "      height  age  sex  weight  diastolic  systolic  temperature  pulse\n",
       "0        133   98    0      34         98       175           36     90\n",
       "1        136   82    0      43         69       131           36     98\n",
       "2        139   67    0      53         61        98           36     99\n",
       "3        139   95    0      53         67       118           36    111\n",
       "4        140   84    0      40         73       131           36     72\n",
       "...      ...  ...  ...     ...        ...       ...          ...    ...\n",
       "1887     174   31    0      69         66       119           36     66\n",
       "1919     174   47    0      93        101       152           36     79\n",
       "1920     174   36    0      65         87       142           36     84\n",
       "2000     176   74    0      75         74       111           36    125\n",
       "2050     177   50    0      56         72       111           36    105\n",
       "\n",
       "[1088 rows x 8 columns]"
      ]
     },
     "execution_count": 68,
     "metadata": {},
     "output_type": "execute_result"
    }
   ],
   "source": [
    "df[df[\"sex\"]==0]"
   ]
  },
  {
   "cell_type": "code",
   "execution_count": 30,
   "metadata": {},
   "outputs": [],
   "source": [
    "feature_columns =df.columns.difference([\"sex\"])\n",
    "X = df[feature_columns]\n",
    "y = df[\"sex\"]"
   ]
  },
  {
   "cell_type": "code",
   "execution_count": 36,
   "metadata": {},
   "outputs": [
    {
     "name": "stdout",
     "output_type": "stream",
     "text": [
      "(1549, 7) (665, 7) (1549, 1) (665, 1)\n"
     ]
    }
   ],
   "source": [
    "train_x, test_x ,train_y, test_y = train_test_split(X, y, stratify=y,train_size=0.7,test_size=0.3,random_state=1)\n",
    "print(train_x.shape, test_x.shape, train_y.shape, test_y.shape)"
   ]
  },
  {
   "cell_type": "markdown",
   "metadata": {},
   "source": [
    "# sm.Logit"
   ]
  },
  {
   "cell_type": "code",
   "execution_count": 40,
   "metadata": {},
   "outputs": [
    {
     "name": "stdout",
     "output_type": "stream",
     "text": [
      "Optimization terminated successfully.\n",
      "         Current function value: 0.305098\n",
      "         Iterations 8\n"
     ]
    }
   ],
   "source": [
    "model = sm.Logit(train_y, train_x)\n",
    "results = model.fit()  "
   ]
  },
  {
   "cell_type": "code",
   "execution_count": 41,
   "metadata": {},
   "outputs": [
    {
     "data": {
      "text/html": [
       "<table class=\"simpletable\">\n",
       "<caption>Logit Regression Results</caption>\n",
       "<tr>\n",
       "  <th>Dep. Variable:</th>          <td>sex</td>       <th>  No. Observations:  </th>   <td>  1549</td>  \n",
       "</tr>\n",
       "<tr>\n",
       "  <th>Model:</th>                 <td>Logit</td>      <th>  Df Residuals:      </th>   <td>  1542</td>  \n",
       "</tr>\n",
       "<tr>\n",
       "  <th>Method:</th>                 <td>MLE</td>       <th>  Df Model:          </th>   <td>     6</td>  \n",
       "</tr>\n",
       "<tr>\n",
       "  <th>Date:</th>            <td>Mon, 03 Jan 2022</td> <th>  Pseudo R-squ.:     </th>   <td>0.5597</td>  \n",
       "</tr>\n",
       "<tr>\n",
       "  <th>Time:</th>                <td>13:29:15</td>     <th>  Log-Likelihood:    </th>  <td> -472.60</td> \n",
       "</tr>\n",
       "<tr>\n",
       "  <th>converged:</th>             <td>True</td>       <th>  LL-Null:           </th>  <td> -1073.4</td> \n",
       "</tr>\n",
       "<tr>\n",
       "  <th>Covariance Type:</th>     <td>nonrobust</td>    <th>  LLR p-value:       </th> <td>2.045e-256</td>\n",
       "</tr>\n",
       "</table>\n",
       "<table class=\"simpletable\">\n",
       "<tr>\n",
       "       <td></td>          <th>coef</th>     <th>std err</th>      <th>z</th>      <th>P>|z|</th>  <th>[0.025</th>    <th>0.975]</th>  \n",
       "</tr>\n",
       "<tr>\n",
       "  <th>age</th>         <td>    0.0444</td> <td>    0.006</td> <td>    7.239</td> <td> 0.000</td> <td>    0.032</td> <td>    0.056</td>\n",
       "</tr>\n",
       "<tr>\n",
       "  <th>diastolic</th>   <td>   -0.0009</td> <td>    0.006</td> <td>   -0.155</td> <td> 0.877</td> <td>   -0.012</td> <td>    0.010</td>\n",
       "</tr>\n",
       "<tr>\n",
       "  <th>height</th>      <td>    0.3333</td> <td>    0.019</td> <td>   17.795</td> <td> 0.000</td> <td>    0.297</td> <td>    0.370</td>\n",
       "</tr>\n",
       "<tr>\n",
       "  <th>pulse</th>       <td>    0.0073</td> <td>    0.006</td> <td>    1.199</td> <td> 0.231</td> <td>   -0.005</td> <td>    0.019</td>\n",
       "</tr>\n",
       "<tr>\n",
       "  <th>systolic</th>    <td>    0.0153</td> <td>    0.005</td> <td>    2.792</td> <td> 0.005</td> <td>    0.005</td> <td>    0.026</td>\n",
       "</tr>\n",
       "<tr>\n",
       "  <th>temperature</th> <td>   -1.6817</td> <td>    0.090</td> <td>  -18.591</td> <td> 0.000</td> <td>   -1.859</td> <td>   -1.504</td>\n",
       "</tr>\n",
       "<tr>\n",
       "  <th>weight</th>      <td>    0.0246</td> <td>    0.009</td> <td>    2.758</td> <td> 0.006</td> <td>    0.007</td> <td>    0.042</td>\n",
       "</tr>\n",
       "</table>"
      ],
      "text/plain": [
       "<class 'statsmodels.iolib.summary.Summary'>\n",
       "\"\"\"\n",
       "                           Logit Regression Results                           \n",
       "==============================================================================\n",
       "Dep. Variable:                    sex   No. Observations:                 1549\n",
       "Model:                          Logit   Df Residuals:                     1542\n",
       "Method:                           MLE   Df Model:                            6\n",
       "Date:                Mon, 03 Jan 2022   Pseudo R-squ.:                  0.5597\n",
       "Time:                        13:29:15   Log-Likelihood:                -472.60\n",
       "converged:                       True   LL-Null:                       -1073.4\n",
       "Covariance Type:            nonrobust   LLR p-value:                2.045e-256\n",
       "===============================================================================\n",
       "                  coef    std err          z      P>|z|      [0.025      0.975]\n",
       "-------------------------------------------------------------------------------\n",
       "age             0.0444      0.006      7.239      0.000       0.032       0.056\n",
       "diastolic      -0.0009      0.006     -0.155      0.877      -0.012       0.010\n",
       "height          0.3333      0.019     17.795      0.000       0.297       0.370\n",
       "pulse           0.0073      0.006      1.199      0.231      -0.005       0.019\n",
       "systolic        0.0153      0.005      2.792      0.005       0.005       0.026\n",
       "temperature    -1.6817      0.090    -18.591      0.000      -1.859      -1.504\n",
       "weight          0.0246      0.009      2.758      0.006       0.007       0.042\n",
       "===============================================================================\n",
       "\"\"\""
      ]
     },
     "execution_count": 41,
     "metadata": {},
     "output_type": "execute_result"
    }
   ],
   "source": [
    "results.summary()"
   ]
  },
  {
   "cell_type": "code",
   "execution_count": 66,
   "metadata": {},
   "outputs": [
    {
     "data": {
      "text/plain": [
       "age            1.045430\n",
       "diastolic      0.999128\n",
       "height         1.395553\n",
       "pulse          1.007363\n",
       "systolic       1.015448\n",
       "temperature    0.186053\n",
       "weight         1.024935\n",
       "dtype: float64"
      ]
     },
     "execution_count": 66,
     "metadata": {},
     "output_type": "execute_result"
    }
   ],
   "source": [
    "import numpy as np\n",
    "np.exp(results.params)  # 오즈 비(Odds Ratio) 출력"
   ]
  },
  {
   "cell_type": "markdown",
   "metadata": {},
   "source": [
    "Odds Ratio \n",
    "\n",
    "Odds Ratio란 Odds의 비율이다. Odds란 성공/실패와 같이 상호 배타적이며 전체를 이루고 있는 것들의 비율을 의미"
   ]
  },
  {
   "cell_type": "markdown",
   "metadata": {},
   "source": [
    "# LogisticRegression"
   ]
  },
  {
   "cell_type": "code",
   "execution_count": 51,
   "metadata": {},
   "outputs": [
    {
     "name": "stderr",
     "output_type": "stream",
     "text": [
      "C:\\Users\\chlal\\conda\\lib\\site-packages\\sklearn\\utils\\validation.py:72: DataConversionWarning: A column-vector y was passed when a 1d array was expected. Please change the shape of y to (n_samples, ), for example using ravel().\n",
      "  return f(**kwargs)\n"
     ]
    },
    {
     "data": {
      "text/plain": [
       "LogisticRegression()"
      ]
     },
     "execution_count": 51,
     "metadata": {},
     "output_type": "execute_result"
    }
   ],
   "source": [
    "lr = LogisticRegression() # 로지스틱 회귀 모델의 인스턴스를 생성\n",
    "lr.fit(train_x, train_y) # 로지스틱 회귀 모델의 가중치를 학습"
   ]
  },
  {
   "cell_type": "code",
   "execution_count": 60,
   "metadata": {},
   "outputs": [
    {
     "name": "stdout",
     "output_type": "stream",
     "text": [
      "coefficient =  [[ 4.39692528e-02 -8.97882238e-04  3.30521442e-01  7.09696702e-03\n",
      "   1.51696732e-02 -1.66664442e+00  2.48988548e-02]]\n"
     ]
    }
   ],
   "source": [
    "print(\"coefficient = \", lr.coef_)"
   ]
  },
  {
   "cell_type": "code",
   "execution_count": 53,
   "metadata": {
    "scrolled": false
   },
   "outputs": [
    {
     "name": "stdout",
     "output_type": "stream",
     "text": [
      "[0 1 1 0 0 0 0 1 1 1 1 1 0 0 1 1 1 1 0 1 0 1 0 0 0 0 1 1 1 0 0 1 1 1 1 1 0\n",
      " 1 1 0 1 1 0 1 1 1 0 0 0 0 1 0 0 1 0 1 0 1 0 0 1 1 1 0 1 0 0 1 1 0 1 0 1 0\n",
      " 1 1 0 1 0 0 0 1 0 0 0 1 0 0 1 0 0 0 1 0 0 0 0 1 0 1 1 1 1 0 0 0 1 1 0 0 0\n",
      " 1 1 1 1 1 0 0 1 1 1 0 1 1 1 0 0 0 0 0 0 0 1 0 0 0 1 0 1 0 1 1 1 0 0 0 0 1\n",
      " 1 0 1 0 1 0 0 1 1 0 0 1 1 1 1 1 1 1 1 0 1 0 1 1 0 1 0 1 0 0 0 0 1 1 1 0 0\n",
      " 0 0 1 0 0 0 1 1 1 1 0 0 0 1 0 0 1 1 0 0 1 0 0 1 1 1 0 1 0 0 0 1 1 1 1 1 1\n",
      " 0 1 1 0 0 0 1 0 0 0 1 1 1 0 1 1 1 1 0 1 0 1 1 0 1 0 0 1 0 1 0 0 1 1 0 0 1\n",
      " 1 1 1 0 1 0 0 1 1 1 1 1 1 0 1 0 1 1 0 1 1 1 0 1 0 0 1 0 0 1 1 0 0 1 0 1 0\n",
      " 0 0 0 0 0 0 1 0 0 1 1 0 1 0 0 1 0 1 0 1 0 1 0 1 1 0 0 1 1 1 1 0 1 1 0 0 0\n",
      " 0 1 1 1 1 1 1 1 0 1 0 0 0 0 0 1 1 0 0 1 0 1 0 0 0 1 0 0 0 0 1 0 1 1 1 1 1\n",
      " 1 0 1 0 0 1 0 0 0 1 0 0 0 1 1 0 0 0 1 1 1 0 0 0 1 0 1 0 1 1 0 1 1 0 1 0 0\n",
      " 0 1 1 0 1 1 1 1 0 0 0 1 1 0 0 1 1 1 1 0 0 0 0 1 1 1 1 0 1 0 1 0 1 0 0 0 0\n",
      " 1 1 1 1 0 0 0 1 0 0 1 0 0 0 1 1 1 1 1 0 0 0 1 0 1 1 0 0 0 1 0 0 1 1 0 0 0\n",
      " 0 1 0 0 0 0 1 1 0 1 0 1 1 0 0 1 0 0 1 1 1 1 0 1 0 1 0 1 0 1 0 0 0 1 1 0 0\n",
      " 0 0 0 0 1 1 1 0 1 0 0 0 1 0 1 1 0 0 0 1 1 1 1 1 1 1 0 1 0 0 1 1 1 0 0 0 1\n",
      " 1 0 0 1 1 0 0 1 1 0 1 0 1 1 0 1 0 0 1 0 1 0 0 0 1 0 0 0 1 1 1 0 0 1 1 1 0\n",
      " 1 0 1 0 0 0 0 0 0 1 1 0 0 1 1 0 0 0 0 0 0 1 0 0 0 0 1 0 0 0 1 1 0 0 0 0 1\n",
      " 0 1 1 1 0 0 1 0 0 0 0 1 1 1 1 0 0 1 1 1 1 0 1 0 1 0 0 0 0 1 0 0 1 0 1 0]\n"
     ]
    }
   ],
   "source": [
    "Y_pred = lr.predict(test_x)\n",
    "print(Y_pred)"
   ]
  },
  {
   "cell_type": "code",
   "execution_count": 57,
   "metadata": {
    "scrolled": true
   },
   "outputs": [
    {
     "data": {
      "text/html": [
       "<div>\n",
       "<style scoped>\n",
       "    .dataframe tbody tr th:only-of-type {\n",
       "        vertical-align: middle;\n",
       "    }\n",
       "\n",
       "    .dataframe tbody tr th {\n",
       "        vertical-align: top;\n",
       "    }\n",
       "\n",
       "    .dataframe thead th {\n",
       "        text-align: right;\n",
       "    }\n",
       "</style>\n",
       "<table border=\"1\" class=\"dataframe\">\n",
       "  <thead>\n",
       "    <tr style=\"text-align: right;\">\n",
       "      <th></th>\n",
       "      <th>sex</th>\n",
       "    </tr>\n",
       "  </thead>\n",
       "  <tbody>\n",
       "    <tr>\n",
       "      <th>52</th>\n",
       "      <td>0</td>\n",
       "    </tr>\n",
       "    <tr>\n",
       "      <th>1116</th>\n",
       "      <td>1</td>\n",
       "    </tr>\n",
       "    <tr>\n",
       "      <th>2155</th>\n",
       "      <td>1</td>\n",
       "    </tr>\n",
       "    <tr>\n",
       "      <th>598</th>\n",
       "      <td>0</td>\n",
       "    </tr>\n",
       "    <tr>\n",
       "      <th>924</th>\n",
       "      <td>0</td>\n",
       "    </tr>\n",
       "    <tr>\n",
       "      <th>...</th>\n",
       "      <td>...</td>\n",
       "    </tr>\n",
       "    <tr>\n",
       "      <th>282</th>\n",
       "      <td>0</td>\n",
       "    </tr>\n",
       "    <tr>\n",
       "      <th>1658</th>\n",
       "      <td>1</td>\n",
       "    </tr>\n",
       "    <tr>\n",
       "      <th>670</th>\n",
       "      <td>0</td>\n",
       "    </tr>\n",
       "    <tr>\n",
       "      <th>1328</th>\n",
       "      <td>1</td>\n",
       "    </tr>\n",
       "    <tr>\n",
       "      <th>97</th>\n",
       "      <td>1</td>\n",
       "    </tr>\n",
       "  </tbody>\n",
       "</table>\n",
       "<p>665 rows × 1 columns</p>\n",
       "</div>"
      ],
      "text/plain": [
       "      sex\n",
       "52      0\n",
       "1116    1\n",
       "2155    1\n",
       "598     0\n",
       "924     0\n",
       "...   ...\n",
       "282     0\n",
       "1658    1\n",
       "670     0\n",
       "1328    1\n",
       "97      1\n",
       "\n",
       "[665 rows x 1 columns]"
      ]
     },
     "execution_count": 57,
     "metadata": {},
     "output_type": "execute_result"
    }
   ],
   "source": [
    "test_y"
   ]
  },
  {
   "cell_type": "code",
   "execution_count": 59,
   "metadata": {},
   "outputs": [
    {
     "data": {
      "text/plain": [
       "0.8827067669172932"
      ]
     },
     "execution_count": 59,
     "metadata": {},
     "output_type": "execute_result"
    }
   ],
   "source": [
    "metrics.accuracy_score(test_y, Y_pred)"
   ]
  },
  {
   "cell_type": "code",
   "execution_count": null,
   "metadata": {},
   "outputs": [],
   "source": []
  }
 ],
 "metadata": {
  "kernelspec": {
   "display_name": "Python 3",
   "language": "python",
   "name": "python3"
  },
  "language_info": {
   "codemirror_mode": {
    "name": "ipython",
    "version": 3
   },
   "file_extension": ".py",
   "mimetype": "text/x-python",
   "name": "python",
   "nbconvert_exporter": "python",
   "pygments_lexer": "ipython3",
   "version": "3.8.5"
  },
  "toc": {
   "base_numbering": 1,
   "nav_menu": {},
   "number_sections": true,
   "sideBar": true,
   "skip_h1_title": false,
   "title_cell": "Table of Contents",
   "title_sidebar": "Contents",
   "toc_cell": false,
   "toc_position": {},
   "toc_section_display": true,
   "toc_window_display": false
  }
 },
 "nbformat": 4,
 "nbformat_minor": 5
}
