{
 "cells": [
  {
   "cell_type": "code",
   "execution_count": 209,
   "id": "f4b1f813",
   "metadata": {},
   "outputs": [],
   "source": [
    "from sklearn.linear_model import LinearRegression\n",
    "import pandas as pd\n",
    "import numpy as np\n",
    "from sklearn.datasets import make_regression\n",
    "import statsmodels.api as sm\n",
    "import matplotlib.pyplot as plt"
   ]
  },
  {
   "cell_type": "code",
   "execution_count": 210,
   "id": "3f648220",
   "metadata": {},
   "outputs": [],
   "source": [
    "df = pd.read_csv(\"Age_Time.csv\")\n",
    "#df = df.sort_values(by='VITALSBP' ,ascending=False)\n",
    "df=df.head(200)"
   ]
  },
  {
   "cell_type": "code",
   "execution_count": 211,
   "id": "a5d3c2c8",
   "metadata": {},
   "outputs": [],
   "source": [
    "df=df[(df['AGE']>20)]"
   ]
  },
  {
   "cell_type": "code",
   "execution_count": 206,
   "id": "e7a2a953",
   "metadata": {},
   "outputs": [
    {
     "name": "stdout",
     "output_type": "stream",
     "text": [
      "<class 'pandas.core.frame.DataFrame'>\n",
      "Int64Index: 182 entries, 17 to 198\n",
      "Data columns (total 2 columns):\n",
      " #   Column     Non-Null Count  Dtype\n",
      "---  ------     --------------  -----\n",
      " 0   AGE        182 non-null    int64\n",
      " 1   ORDERTIME  182 non-null    int64\n",
      "dtypes: int64(2)\n",
      "memory usage: 4.3 KB\n"
     ]
    }
   ],
   "source": [
    "df.info()"
   ]
  },
  {
   "cell_type": "code",
   "execution_count": 212,
   "id": "e9556cbf",
   "metadata": {
    "scrolled": false
   },
   "outputs": [
    {
     "data": {
      "text/plain": [
       "[<matplotlib.lines.Line2D at 0x23fb46c5610>]"
      ]
     },
     "execution_count": 212,
     "metadata": {},
     "output_type": "execute_result"
    },
    {
     "data": {
      "image/png": "[encoded data removed]",
      "text/plain": [
       "<Figure size 432x288 with 1 Axes>"
      ]
     },
     "metadata": {
      "needs_background": "light"
     },
     "output_type": "display_data"
    }
   ],
   "source": [
    "X = df[\"AGE\"]\n",
    "y = df[\"ORDERTIME\"]\n",
    "plt.plot(X, y, 'o')"
   ]
  },
  {
   "cell_type": "code",
   "execution_count": null,
   "id": "435b9d7b",
   "metadata": {},
   "outputs": [],
   "source": []
  },
  {
   "cell_type": "code",
   "execution_count": 200,
   "id": "0e2533db",
   "metadata": {},
   "outputs": [],
   "source": [
    "model = sm.OLS.from_formula(\"y ~ X\", data=df)\n",
    "result = model.fit()"
   ]
  },
  {
   "cell_type": "code",
   "execution_count": 202,
   "id": "00abadaf",
   "metadata": {
    "scrolled": false
   },
   "outputs": [
    {
     "data": {
      "text/html": [
       "<table class=\"simpletable\">\n",
       "<caption>OLS Regression Results</caption>\n",
       "<tr>\n",
       "  <th>Dep. Variable:</th>            <td>y</td>        <th>  R-squared:         </th> <td>   0.655</td>\n",
       "</tr>\n",
       "<tr>\n",
       "  <th>Model:</th>                   <td>OLS</td>       <th>  Adj. R-squared:    </th> <td>   0.653</td>\n",
       "</tr>\n",
       "<tr>\n",
       "  <th>Method:</th>             <td>Least Squares</td>  <th>  F-statistic:       </th> <td>   373.3</td>\n",
       "</tr>\n",
       "<tr>\n",
       "  <th>Date:</th>             <td>Thu, 11 Nov 2021</td> <th>  Prob (F-statistic):</th> <td>2.35e-47</td>\n",
       "</tr>\n",
       "<tr>\n",
       "  <th>Time:</th>                 <td>16:55:15</td>     <th>  Log-Likelihood:    </th> <td> -729.60</td>\n",
       "</tr>\n",
       "<tr>\n",
       "  <th>No. Observations:</th>      <td>   199</td>      <th>  AIC:               </th> <td>   1463.</td>\n",
       "</tr>\n",
       "<tr>\n",
       "  <th>Df Residuals:</th>          <td>   197</td>      <th>  BIC:               </th> <td>   1470.</td>\n",
       "</tr>\n",
       "<tr>\n",
       "  <th>Df Model:</th>              <td>     1</td>      <th>                     </th>     <td> </td>   \n",
       "</tr>\n",
       "<tr>\n",
       "  <th>Covariance Type:</th>      <td>nonrobust</td>    <th>                     </th>     <td> </td>   \n",
       "</tr>\n",
       "</table>\n",
       "<table class=\"simpletable\">\n",
       "<tr>\n",
       "      <td></td>         <th>coef</th>     <th>std err</th>      <th>t</th>      <th>P>|t|</th>  <th>[0.025</th>    <th>0.975]</th>  \n",
       "</tr>\n",
       "<tr>\n",
       "  <th>Intercept</th> <td>    5.1990</td> <td>    2.011</td> <td>    2.586</td> <td> 0.010</td> <td>    1.234</td> <td>    9.164</td>\n",
       "</tr>\n",
       "<tr>\n",
       "  <th>X</th>         <td>    0.7987</td> <td>    0.041</td> <td>   19.322</td> <td> 0.000</td> <td>    0.717</td> <td>    0.880</td>\n",
       "</tr>\n",
       "</table>\n",
       "<table class=\"simpletable\">\n",
       "<tr>\n",
       "  <th>Omnibus:</th>       <td> 0.992</td> <th>  Durbin-Watson:     </th> <td>   1.537</td>\n",
       "</tr>\n",
       "<tr>\n",
       "  <th>Prob(Omnibus):</th> <td> 0.609</td> <th>  Jarque-Bera (JB):  </th> <td>   0.709</td>\n",
       "</tr>\n",
       "<tr>\n",
       "  <th>Skew:</th>          <td> 0.127</td> <th>  Prob(JB):          </th> <td>   0.702</td>\n",
       "</tr>\n",
       "<tr>\n",
       "  <th>Kurtosis:</th>      <td> 3.146</td> <th>  Cond. No.          </th> <td>    145.</td>\n",
       "</tr>\n",
       "</table><br/><br/>Notes:<br/>[1] Standard Errors assume that the covariance matrix of the errors is correctly specified."
      ],
      "text/plain": [
       "<class 'statsmodels.iolib.summary.Summary'>\n",
       "\"\"\"\n",
       "                            OLS Regression Results                            \n",
       "==============================================================================\n",
       "Dep. Variable:                      y   R-squared:                       0.655\n",
       "Model:                            OLS   Adj. R-squared:                  0.653\n",
       "Method:                 Least Squares   F-statistic:                     373.3\n",
       "Date:                Thu, 11 Nov 2021   Prob (F-statistic):           2.35e-47\n",
       "Time:                        16:55:15   Log-Likelihood:                -729.60\n",
       "No. Observations:                 199   AIC:                             1463.\n",
       "Df Residuals:                     197   BIC:                             1470.\n",
       "Df Model:                           1                                         \n",
       "Covariance Type:            nonrobust                                         \n",
       "==============================================================================\n",
       "                 coef    std err          t      P>|t|      [0.025      0.975]\n",
       "------------------------------------------------------------------------------\n",
       "Intercept      5.1990      2.011      2.586      0.010       1.234       9.164\n",
       "X              0.7987      0.041     19.322      0.000       0.717       0.880\n",
       "==============================================================================\n",
       "Omnibus:                        0.992   Durbin-Watson:                   1.537\n",
       "Prob(Omnibus):                  0.609   Jarque-Bera (JB):                0.709\n",
       "Skew:                           0.127   Prob(JB):                        0.702\n",
       "Kurtosis:                       3.146   Cond. No.                         145.\n",
       "==============================================================================\n",
       "\n",
       "Notes:\n",
       "[1] Standard Errors assume that the covariance matrix of the errors is correctly specified.\n",
       "\"\"\""
      ]
     },
     "execution_count": 202,
     "metadata": {},
     "output_type": "execute_result"
    }
   ],
   "source": [
    "result.summary()"
   ]
  },
  {
   "cell_type": "code",
   "execution_count": 201,
   "id": "768cf46e",
   "metadata": {},
   "outputs": [
    {
     "name": "stdout",
     "output_type": "stream",
     "text": [
      "TSS =  399274.0\n",
      "ESS =  33770.05208304029\n",
      "RSS =  17819.907715954687\n",
      "ESS + RSS =  51589.959798994976\n",
      "R squared =  0.6545857413848608\n"
     ]
    }
   ],
   "source": [
    "print(\"TSS = \", result.uncentered_tss)\n",
    "print(\"ESS = \", result.mse_model)\n",
    "print(\"RSS = \", result.ssr)\n",
    "print(\"ESS + RSS = \", result.mse_model + result.ssr)\n",
    "print(\"R squared = \", result.rsquared)"
   ]
  },
  {
   "cell_type": "code",
   "execution_count": 187,
   "id": "99b61d49",
   "metadata": {},
   "outputs": [],
   "source": [
    "from statsmodels.formula.api import ols"
   ]
  },
  {
   "cell_type": "code",
   "execution_count": 214,
   "id": "6250d6ec",
   "metadata": {},
   "outputs": [],
   "source": [
    "fit=ols('ORDERTIME ~ AGE',data=df).fit()"
   ]
  },
  {
   "cell_type": "code",
   "execution_count": 215,
   "id": "9914a5b7",
   "metadata": {},
   "outputs": [
    {
     "data": {
      "text/plain": [
       "<statsmodels.regression.linear_model.RegressionResultsWrapper at 0x23fb4a8ed90>"
      ]
     },
     "execution_count": 215,
     "metadata": {},
     "output_type": "execute_result"
    }
   ],
   "source": [
    "fit"
   ]
  },
  {
   "cell_type": "code",
   "execution_count": 198,
   "id": "55f37996",
   "metadata": {},
   "outputs": [
    {
     "name": "stdout",
     "output_type": "stream",
     "text": [
      "TSS =  399274.0\n",
      "ESS =  33770.05208304029\n"
     ]
    }
   ],
   "source": [
    "print(\"TSS = \", fit.uncentered_tss)\n",
    "print(\"ESS = \", fit.mse_model)"
   ]
  },
  {
   "cell_type": "code",
   "execution_count": 199,
   "id": "987e0cea",
   "metadata": {},
   "outputs": [
    {
     "name": "stdout",
     "output_type": "stream",
     "text": [
      "TSS =  14375386.0\n",
      "ESS =  7755.431576746079\n",
      "RSS =  223211.46454340412\n",
      "ESS + RSS =  230966.8961201502\n",
      "R squared =  0.033578108841674226\n"
     ]
    }
   ],
   "source": [
    "print(\"TSS = \", result.uncentered_tss)\n",
    "print(\"ESS = \", result.mse_model)\n",
    "print(\"RSS = \", result.ssr)\n",
    "print(\"ESS + RSS = \", result.mse_model + result.ssr)\n",
    "print(\"R squared = \", result.rsquared)"
   ]
  },
  {
   "cell_type": "code",
   "execution_count": 161,
   "id": "e39f53a6",
   "metadata": {},
   "outputs": [
    {
     "data": {
      "text/plain": [
       "array([0.76723124])"
      ]
     },
     "execution_count": 161,
     "metadata": {},
     "output_type": "execute_result"
    }
   ],
   "source": [
    "line_fitter.coef_"
   ]
  },
  {
   "cell_type": "code",
   "execution_count": 169,
   "id": "5078558d",
   "metadata": {},
   "outputs": [
    {
     "data": {
      "text/plain": [
       "17     23.060531\n",
       "18     23.827763\n",
       "19     23.827763\n",
       "20     24.594994\n",
       "21     25.362225\n",
       "         ...    \n",
       "194    65.258250\n",
       "195    65.258250\n",
       "196    74.465024\n",
       "197    74.465024\n",
       "198    74.465024\n",
       "Length: 182, dtype: float64"
      ]
     },
     "execution_count": 169,
     "metadata": {},
     "output_type": "execute_result"
    }
   ],
   "source": [
    "fit.fittedvalues"
   ]
  },
  {
   "cell_type": "code",
   "execution_count": 170,
   "id": "7b9e1bbb",
   "metadata": {},
   "outputs": [
    {
     "data": {
      "text/plain": [
       "17     21\n",
       "18     22\n",
       "19     22\n",
       "20     23\n",
       "21     24\n",
       "       ..\n",
       "194    76\n",
       "195    76\n",
       "196    88\n",
       "197    88\n",
       "198    88\n",
       "Name: AGE, Length: 182, dtype: int64"
      ]
     },
     "execution_count": 170,
     "metadata": {},
     "output_type": "execute_result"
    }
   ],
   "source": [
    "df['AGE']"
   ]
  },
  {
   "cell_type": "code",
   "execution_count": 216,
   "id": "24dafba1",
   "metadata": {},
   "outputs": [
    {
     "data": {
      "text/plain": [
       "[<matplotlib.lines.Line2D at 0x23fb5b55970>]"
      ]
     },
     "execution_count": 216,
     "metadata": {},
     "output_type": "execute_result"
    },
    {
     "data": {
      "image/png": "[encoded data removed]",
      "text/plain": [
       "<Figure size 576x576 with 1 Axes>"
      ]
     },
     "metadata": {},
     "output_type": "display_data"
    }
   ],
   "source": [
    "font_size = 15\n",
    "fig = plt.figure(figsize=(8, 8))\n",
    "fig.set_facecolor('white')\n",
    "plt.plot(X, y, 'o')\n",
    "plt.plot(df['AGE'], fit.fittedvalues, color='red')"
   ]
  },
  {
   "cell_type": "code",
   "execution_count": 143,
   "id": "c51adf0f",
   "metadata": {},
   "outputs": [
    {
     "data": {
      "text/plain": [
       "LinearRegression()"
      ]
     },
     "execution_count": 143,
     "metadata": {},
     "output_type": "execute_result"
    }
   ],
   "source": [
    "line_fitter = LinearRegression()\n",
    "line_fitter.fit(X.values.reshape(-1,1), y)"
   ]
  },
  {
   "cell_type": "code",
   "execution_count": 146,
   "id": "d3b811da",
   "metadata": {},
   "outputs": [
    {
     "data": {
      "image/png": "[encoded data removed]",
      "text/plain": [
       "<Figure size 432x288 with 1 Axes>"
      ]
     },
     "metadata": {
      "needs_background": "light"
     },
     "output_type": "display_data"
    },
    {
     "name": "stdout",
     "output_type": "stream",
     "text": [
      "[10.78483141]\n"
     ]
    }
   ],
   "source": [
    "plt.plot(X, y, 'o')\n",
    "plt.plot(X,line_fitter.predict(X.values.reshape(-1,1)))\n",
    "plt.show()\n",
    "print(line_fitter.predict([[5]]))"
   ]
  },
  {
   "cell_type": "code",
   "execution_count": 147,
   "id": "c77b0ea1",
   "metadata": {},
   "outputs": [
    {
     "data": {
      "text/plain": [
       "array([23.06053127, 23.82776251, 23.82776251, 24.59499376, 25.362225  ,\n",
       "       26.12945624, 26.12945624, 26.89668748, 27.66391872, 27.66391872,\n",
       "       28.43114997, 29.96561245, 29.96561245, 29.96561245, 29.96561245,\n",
       "       29.96561245, 30.73284369, 30.73284369, 31.50007493, 31.50007493,\n",
       "       31.50007493, 31.50007493, 32.26730617, 32.26730617, 32.26730617,\n",
       "       32.26730617, 32.26730617, 33.03453742, 33.03453742, 33.03453742,\n",
       "       33.80176866, 33.80176866, 33.80176866, 33.80176866, 33.80176866,\n",
       "       33.80176866, 33.80176866, 34.5689999 , 34.5689999 , 34.5689999 ,\n",
       "       34.5689999 , 34.5689999 , 35.33623114, 35.33623114, 35.33623114,\n",
       "       36.10346238, 36.10346238, 36.87069362, 36.87069362, 37.63792487,\n",
       "       37.63792487, 37.63792487, 38.40515611, 38.40515611, 38.40515611,\n",
       "       38.40515611, 39.17238735, 39.17238735, 39.17238735, 39.93961859,\n",
       "       39.93961859, 39.93961859, 39.93961859, 39.93961859, 40.70684983,\n",
       "       40.70684983, 40.70684983, 40.70684983, 40.70684983, 40.70684983,\n",
       "       40.70684983, 40.70684983, 40.70684983, 40.70684983, 40.70684983,\n",
       "       40.70684983, 41.47408107, 41.47408107, 41.47408107, 41.47408107,\n",
       "       41.47408107, 42.24131232, 42.24131232, 42.24131232, 43.00854356,\n",
       "       43.00854356, 43.00854356, 43.7757748 , 43.7757748 , 43.7757748 ,\n",
       "       44.54300604, 44.54300604, 44.54300604, 44.54300604, 44.54300604,\n",
       "       44.54300604, 44.54300604, 45.31023728, 45.31023728, 45.31023728,\n",
       "       45.31023728, 45.31023728, 46.07746853, 46.07746853, 46.07746853,\n",
       "       46.07746853, 46.07746853, 46.84469977, 46.84469977, 46.84469977,\n",
       "       46.84469977, 47.61193101, 47.61193101, 47.61193101, 48.37916225,\n",
       "       48.37916225, 48.37916225, 49.14639349, 49.14639349, 49.14639349,\n",
       "       49.14639349, 49.14639349, 49.14639349, 49.14639349, 49.14639349,\n",
       "       49.14639349, 49.91362473, 49.91362473, 49.91362473, 50.68085598,\n",
       "       50.68085598, 50.68085598, 51.44808722, 51.44808722, 51.44808722,\n",
       "       51.44808722, 51.44808722, 52.21531846, 52.21531846, 52.21531846,\n",
       "       52.21531846, 52.9825497 , 52.9825497 , 52.9825497 , 52.9825497 ,\n",
       "       52.9825497 , 52.9825497 , 52.9825497 , 53.74978094, 53.74978094,\n",
       "       54.51701218, 54.51701218, 54.51701218, 55.28424343, 55.28424343,\n",
       "       55.28424343, 55.28424343, 55.28424343, 56.05147467, 56.05147467,\n",
       "       56.81870591, 56.81870591, 56.81870591, 57.58593715, 57.58593715,\n",
       "       57.58593715, 59.12039963, 59.88763088, 59.88763088, 59.88763088,\n",
       "       60.65486212, 62.1893246 , 62.95655584, 62.95655584, 62.95655584,\n",
       "       63.72378709, 64.49101833, 65.25824957, 65.25824957, 74.46502447,\n",
       "       74.46502447, 74.46502447])"
      ]
     },
     "execution_count": 147,
     "metadata": {},
     "output_type": "execute_result"
    }
   ],
   "source": [
    "line_fitter.predict(X.values.reshape(-1,1))"
   ]
  },
  {
   "cell_type": "code",
   "execution_count": null,
   "id": "6fefd339",
   "metadata": {},
   "outputs": [],
   "source": []
  }
 ],
 "metadata": {
  "kernelspec": {
   "display_name": "Python 3",
   "language": "python",
   "name": "python3"
  },
  "language_info": {
   "codemirror_mode": {
    "name": "ipython",
    "version": 3
   },
   "file_extension": ".py",
   "mimetype": "text/x-python",
   "name": "python",
   "nbconvert_exporter": "python",
   "pygments_lexer": "ipython3",
   "version": "3.8.8"
  }
 },
 "nbformat": 4,
 "nbformat_minor": 5
}
