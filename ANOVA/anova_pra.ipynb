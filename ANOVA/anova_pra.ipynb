{
 "cells": [
  {
   "cell_type": "code",
   "execution_count": 239,
   "id": "08f90573",
   "metadata": {},
   "outputs": [],
   "source": [
    "import scipy.stats as stats\n",
    "import pandas as pd\n",
    "import urllib\n",
    "from statsmodels.formula.api import ols\n",
    "from statsmodels.stats.anova import anova_lm\n",
    "import matplotlib.pyplot as plt\n",
    "import numpy as np\n",
    "import seaborn as sns\n",
    "%matplotlib inline"
   ]
  },
  {
   "cell_type": "code",
   "execution_count": 240,
   "id": "bb507096",
   "metadata": {},
   "outputs": [],
   "source": [
    "df=pd.read_csv('C:/Users/areum/Desktop/POC시연자료/이원분산분석.csv')"
   ]
  },
  {
   "cell_type": "code",
   "execution_count": 241,
   "id": "1b0fe848",
   "metadata": {},
   "outputs": [],
   "source": [
    "df = df.dropna(axis=0)"
   ]
  },
  {
   "cell_type": "code",
   "execution_count": 242,
   "id": "603a4bd1",
   "metadata": {},
   "outputs": [],
   "source": [
    "df['sex'] = df['sex'].map({'여자':0, '남자':1})"
   ]
  },
  {
   "cell_type": "code",
   "execution_count": 243,
   "id": "7d376d11",
   "metadata": {},
   "outputs": [],
   "source": [
    "df=df.dropna()"
   ]
  },
  {
   "cell_type": "code",
   "execution_count": 244,
   "id": "2828974d",
   "metadata": {},
   "outputs": [],
   "source": [
    "pd.set_option('display.max_columns', None)\n",
    "pd.set_option('display.max_rows', None)"
   ]
  },
  {
   "cell_type": "code",
   "execution_count": 245,
   "id": "829799a9",
   "metadata": {},
   "outputs": [],
   "source": [
    "df['sex'] = df['sex'].astype('int')"
   ]
  },
  {
   "cell_type": "code",
   "execution_count": 246,
   "id": "9886b657",
   "metadata": {},
   "outputs": [],
   "source": [
    "df=df[df.age != '#VALUE!']"
   ]
  },
  {
   "cell_type": "code",
   "execution_count": 247,
   "id": "82bc842d",
   "metadata": {},
   "outputs": [],
   "source": [
    "df['age']=df['age'].astype('int')"
   ]
  },
  {
   "cell_type": "code",
   "execution_count": 248,
   "id": "0232e819",
   "metadata": {},
   "outputs": [],
   "source": [
    "df.to_csv(\"C:/Users/areum/Desktop/POC시연자료/anova.csv\", index=False)"
   ]
  },
  {
   "cell_type": "code",
   "execution_count": 249,
   "id": "abc3d317",
   "metadata": {},
   "outputs": [
    {
     "name": "stdout",
     "output_type": "stream",
     "text": [
      "<class 'pandas.core.frame.DataFrame'>\n",
      "Int64Index: 7979 entries, 1 to 8910\n",
      "Data columns (total 3 columns):\n",
      " #   Column  Non-Null Count  Dtype\n",
      "---  ------  --------------  -----\n",
      " 0   sex     7979 non-null   int32\n",
      " 1   age     7979 non-null   int32\n",
      " 2   total   7979 non-null   int64\n",
      "dtypes: int32(2), int64(1)\n",
      "memory usage: 187.0 KB\n"
     ]
    }
   ],
   "source": [
    "df.info()"
   ]
  },
  {
   "cell_type": "code",
   "execution_count": 250,
   "id": "0c3c4556",
   "metadata": {},
   "outputs": [
    {
     "data": {
      "text/plain": [
       "<AxesSubplot:title={'center':'total'}, xlabel='sex'>"
      ]
     },
     "execution_count": 250,
     "metadata": {},
     "output_type": "execute_result"
    },
    {
     "data": {
      "image/png": "[encoded data removed]",
      "text/plain": [
       "<Figure size 432x288 with 1 Axes>"
      ]
     },
     "metadata": {
      "needs_background": "light"
     },
     "output_type": "display_data"
    }
   ],
   "source": [
    "df.boxplot(column = 'total', by='sex' , grid = False)"
   ]
  },
  {
   "cell_type": "code",
   "execution_count": 219,
   "id": "c93eee46",
   "metadata": {},
   "outputs": [
    {
     "data": {
      "text/plain": [
       "<AxesSubplot:title={'center':'total'}, xlabel='age'>"
      ]
     },
     "execution_count": 219,
     "metadata": {},
     "output_type": "execute_result"
    },
    {
     "data": {
      "image/png": "[encoded data removed]",
      "text/plain": [
       "<Figure size 432x288 with 1 Axes>"
      ]
     },
     "metadata": {
      "needs_background": "light"
     },
     "output_type": "display_data"
    }
   ],
   "source": [
    "import warnings\n",
    "plt.rcParams['font.family'] = 'NanumGothic'\n",
    "warnings.filterwarnings(action='ignore')\n",
    "df.boxplot(column = 'total', by='age' , grid = False)"
   ]
  },
  {
   "cell_type": "code",
   "execution_count": 220,
   "id": "36ed3ee2",
   "metadata": {},
   "outputs": [
    {
     "data": {
      "text/html": [
       "<div>\n",
       "<style scoped>\n",
       "    .dataframe tbody tr th:only-of-type {\n",
       "        vertical-align: middle;\n",
       "    }\n",
       "\n",
       "    .dataframe tbody tr th {\n",
       "        vertical-align: top;\n",
       "    }\n",
       "\n",
       "    .dataframe thead th {\n",
       "        text-align: right;\n",
       "    }\n",
       "</style>\n",
       "<table border=\"1\" class=\"dataframe\">\n",
       "  <thead>\n",
       "    <tr style=\"text-align: right;\">\n",
       "      <th></th>\n",
       "      <th>df</th>\n",
       "      <th>sum_sq</th>\n",
       "      <th>mean_sq</th>\n",
       "      <th>F</th>\n",
       "      <th>PR(&gt;F)</th>\n",
       "    </tr>\n",
       "  </thead>\n",
       "  <tbody>\n",
       "    <tr>\n",
       "      <th>C(age)</th>\n",
       "      <td>8.0</td>\n",
       "      <td>6.519220e+11</td>\n",
       "      <td>8.149024e+10</td>\n",
       "      <td>0.779867</td>\n",
       "      <td>0.620497</td>\n",
       "    </tr>\n",
       "    <tr>\n",
       "      <th>C(sex)</th>\n",
       "      <td>1.0</td>\n",
       "      <td>3.959721e+10</td>\n",
       "      <td>3.959721e+10</td>\n",
       "      <td>0.378948</td>\n",
       "      <td>0.538184</td>\n",
       "    </tr>\n",
       "    <tr>\n",
       "      <th>C(age):C(sex)</th>\n",
       "      <td>8.0</td>\n",
       "      <td>1.510634e+12</td>\n",
       "      <td>1.888292e+11</td>\n",
       "      <td>1.807108</td>\n",
       "      <td>0.070783</td>\n",
       "    </tr>\n",
       "    <tr>\n",
       "      <th>Residual</th>\n",
       "      <td>7965.0</td>\n",
       "      <td>8.322827e+14</td>\n",
       "      <td>1.044925e+11</td>\n",
       "      <td>NaN</td>\n",
       "      <td>NaN</td>\n",
       "    </tr>\n",
       "  </tbody>\n",
       "</table>\n",
       "</div>"
      ],
      "text/plain": [
       "                   df        sum_sq       mean_sq         F    PR(>F)\n",
       "C(age)            8.0  6.519220e+11  8.149024e+10  0.779867  0.620497\n",
       "C(sex)            1.0  3.959721e+10  3.959721e+10  0.378948  0.538184\n",
       "C(age):C(sex)     8.0  1.510634e+12  1.888292e+11  1.807108  0.070783\n",
       "Residual       7965.0  8.322827e+14  1.044925e+11       NaN       NaN"
      ]
     },
     "execution_count": 220,
     "metadata": {},
     "output_type": "execute_result"
    }
   ],
   "source": [
    "model = ols('total~ C(age) * C(sex)',df).fit()\n",
    "anova_lm(model)"
   ]
  },
  {
   "cell_type": "code",
   "execution_count": 223,
   "id": "182ec737",
   "metadata": {},
   "outputs": [],
   "source": [
    "df.columns = ['independ1','independ2','depend']"
   ]
  },
  {
   "cell_type": "code",
   "execution_count": 224,
   "id": "7df61d97",
   "metadata": {},
   "outputs": [
    {
     "data": {
      "text/plain": [
       "array([0, 1])"
      ]
     },
     "execution_count": 224,
     "metadata": {},
     "output_type": "execute_result"
    }
   ],
   "source": [
    "df['independ1'].unique()"
   ]
  },
  {
   "cell_type": "code",
   "execution_count": 225,
   "id": "05beabee",
   "metadata": {},
   "outputs": [],
   "source": [
    "colour = ['red', 'green', 'blue', 'yellow', 'pink', 'purple', 'gray', 'navy', 'brown']\n",
    "\n",
    "df_new = df.drop_duplicates(subset = \"independ1\")\n",
    "df_new= sorted(df_new['independ1'])"
   ]
  },
  {
   "cell_type": "code",
   "execution_count": 226,
   "id": "1e796ef1",
   "metadata": {},
   "outputs": [],
   "source": [
    "group=[]\n",
    "match={}\n",
    "for i in range(len(df_new)):\n",
    "    group.append(str(df_new[i]))\n",
    "    match[group[i]]=colour[i]"
   ]
  },
  {
   "cell_type": "code",
   "execution_count": 228,
   "id": "03aa6132",
   "metadata": {},
   "outputs": [],
   "source": [
    "df['independ1']=df['independ1'].astype(str)"
   ]
  },
  {
   "cell_type": "code",
   "execution_count": 229,
   "id": "b1e6d477",
   "metadata": {},
   "outputs": [
    {
     "data": {
      "image/png": "[encoded data removed]",
      "text/plain": [
       "<Figure size 432x288 with 1 Axes>"
      ]
     },
     "metadata": {
      "needs_background": "light"
     },
     "output_type": "display_data"
    }
   ],
   "source": [
    "for group in match:\n",
    "    subset = df[df['independ1'] == group]\n",
    "    sns.distplot(subset['depend'],\n",
    "                 hist = True,\n",
    "                 kde = True,\n",
    "                 kde_kws = {'linewidth': 2},\n",
    "                 color = match[group],\n",
    "                 label = group)"
   ]
  },
  {
   "cell_type": "code",
   "execution_count": 233,
   "id": "992ad9e2",
   "metadata": {},
   "outputs": [],
   "source": [
    "def histogram(df, independ):\n",
    "    colour = ['red', 'green', 'blue', 'yellow', 'pink', 'purple', 'gray', 'navy', 'brown']\n",
    "    df_new = df.drop_duplicates(subset=independ)\n",
    "    df_new = sorted(df_new[independ])\n",
    "    df[independ] = df[independ].astype(str)\n",
    "\n",
    "    group = []\n",
    "    match = {}\n",
    "    for i in range(len(df_new)):\n",
    "        group.append(str(df_new[i]))\n",
    "        match[group[i]] = colour[i]\n",
    "\n",
    "    for group in match:\n",
    "        subset = df[df[independ] == group]\n",
    "        sns.distplot(subset['depend'], hist=True, kde=True, kde_kws={'linewidth': 2}, color=match[group],label=group)\n",
    "    plt.xlim(df['depend'].min(), df['depend'].max())\n",
    "    plt.title(independ+\"분류에 의한 종속변수 분포\")\n",
    "    plt.legend(prop={'size': 12}, title='group')\n",
    "    plt.show()"
   ]
  },
  {
   "cell_type": "code",
   "execution_count": 234,
   "id": "53b6b96c",
   "metadata": {},
   "outputs": [
    {
     "data": {
      "image/png": "[encoded data removed]",
      "text/plain": [
       "<Figure size 432x288 with 1 Axes>"
      ]
     },
     "metadata": {
      "needs_background": "light"
     },
     "output_type": "display_data"
    }
   ],
   "source": [
    "histogram(df, 'independ1')"
   ]
  },
  {
   "cell_type": "code",
   "execution_count": null,
   "id": "09882245",
   "metadata": {},
   "outputs": [],
   "source": []
  }
 ],
 "metadata": {
  "kernelspec": {
   "display_name": "Python 3",
   "language": "python",
   "name": "python3"
  },
  "language_info": {
   "codemirror_mode": {
    "name": "ipython",
    "version": 3
   },
   "file_extension": ".py",
   "mimetype": "text/x-python",
   "name": "python",
   "nbconvert_exporter": "python",
   "pygments_lexer": "ipython3",
   "version": "3.8.8"
  }
 },
 "nbformat": 4,
 "nbformat_minor": 5
}
