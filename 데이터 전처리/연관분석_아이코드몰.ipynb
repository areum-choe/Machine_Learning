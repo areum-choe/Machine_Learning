{
 "cells": [
  {
   "cell_type": "markdown",
   "id": "af07ccee",
   "metadata": {},
   "source": [
    "### 1. 아이코드몰에 있는 고객 id별 상품코드 나열(가로)\n",
    "#### 고객 id가 중복되어 있음. (중복된 아이디별 상품코드가 각각 다름)"
   ]
  },
  {
   "cell_type": "code",
   "execution_count": 1,
   "id": "81c8712d",
   "metadata": {},
   "outputs": [],
   "source": [
    "import pandas as pd"
   ]
  },
  {
   "cell_type": "code",
   "execution_count": 2,
   "id": "7911ff2f",
   "metadata": {},
   "outputs": [],
   "source": [
    "df=pd.read_csv('C:/Users/areum/Desktop/POC시연자료/가공전.csv')"
   ]
  },
  {
   "cell_type": "code",
   "execution_count": null,
   "id": "a774ec41",
   "metadata": {},
   "outputs": [],
   "source": []
  }
 ],
 "metadata": {
  "kernelspec": {
   "display_name": "Python 3",
   "language": "python",
   "name": "python3"
  },
  "language_info": {
   "codemirror_mode": {
    "name": "ipython",
    "version": 3
   },
   "file_extension": ".py",
   "mimetype": "text/x-python",
   "name": "python",
   "nbconvert_exporter": "python",
   "pygments_lexer": "ipython3",
   "version": "3.8.8"
  }
 },
 "nbformat": 4,
 "nbformat_minor": 5
}
