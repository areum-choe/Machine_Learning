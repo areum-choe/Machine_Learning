{
 "cells": [
  {
   "cell_type": "markdown",
   "id": "50145a1a",
   "metadata": {},
   "source": [
    "### (1) pd.DataFrame.iterrows() : 행에 대해 순환 반복\n",
    "    - (Iterate over DataFrame rows as (index, Series) pairs.)\n",
    "\n",
    "### (2) pd.DataFrame.iteritems() : 열에 대해 순환 반복\n",
    "    - (Iterate over DataFrame (column name, Series) pairs.)\n",
    "\n",
    "### (3) pd.DataFrame.itertuples() : 이름이 있는 튜플 (인덱스, 행, 열) 에 대해 순환 반복\n",
    "    - (Iterate over DataFrame rows as namedtuples)\n"
   ]
  },
  {
   "cell_type": "code",
   "execution_count": 2,
   "id": "cda847e4",
   "metadata": {},
   "outputs": [
    {
     "data": {
      "text/html": [
       "<div>\n",
       "<style scoped>\n",
       "    .dataframe tbody tr th:only-of-type {\n",
       "        vertical-align: middle;\n",
       "    }\n",
       "\n",
       "    .dataframe tbody tr th {\n",
       "        vertical-align: top;\n",
       "    }\n",
       "\n",
       "    .dataframe thead th {\n",
       "        text-align: right;\n",
       "    }\n",
       "</style>\n",
       "<table border=\"1\" class=\"dataframe\">\n",
       "  <thead>\n",
       "    <tr style=\"text-align: right;\">\n",
       "      <th></th>\n",
       "      <th>price</th>\n",
       "      <th>weight</th>\n",
       "    </tr>\n",
       "  </thead>\n",
       "  <tbody>\n",
       "    <tr>\n",
       "      <th>idx_a</th>\n",
       "      <td>100</td>\n",
       "      <td>20.3</td>\n",
       "    </tr>\n",
       "    <tr>\n",
       "      <th>idx_b</th>\n",
       "      <td>200</td>\n",
       "      <td>15.1</td>\n",
       "    </tr>\n",
       "    <tr>\n",
       "      <th>idx_c</th>\n",
       "      <td>300</td>\n",
       "      <td>25.9</td>\n",
       "    </tr>\n",
       "  </tbody>\n",
       "</table>\n",
       "</div>"
      ],
      "text/plain": [
       "       price  weight\n",
       "idx_a    100    20.3\n",
       "idx_b    200    15.1\n",
       "idx_c    300    25.9"
      ]
     },
     "execution_count": 2,
     "metadata": {},
     "output_type": "execute_result"
    }
   ],
   "source": [
    "import pandas as pd\n",
    "\n",
    "df = pd.DataFrame(\n",
    "    {'price': [100, 200, 300],\n",
    "     'weight': [20.3, 15.1, 25.9]},\n",
    "    index=['idx_a', 'idx_b', 'idx_c'])\n",
    "\n",
    "df"
   ]
  },
  {
   "cell_type": "markdown",
   "id": "4ee0ec75",
   "metadata": {},
   "source": [
    "#### (1) DataFrame.iterrows() : 행에 대해 순환 반복"
   ]
  },
  {
   "cell_type": "code",
   "execution_count": 9,
   "id": "84c86a67",
   "metadata": {},
   "outputs": [
    {
     "name": "stdout",
     "output_type": "stream",
     "text": [
      "** index name: idx_a\n",
      "price     100.0\n",
      "weight     20.3\n",
      "Name: idx_a, dtype: float64\n",
      "------------------------------\n",
      "100.0\n",
      "** index name: idx_b\n",
      "price     200.0\n",
      "weight     15.1\n",
      "Name: idx_b, dtype: float64\n",
      "------------------------------\n",
      "200.0\n",
      "** index name: idx_c\n",
      "price     300.0\n",
      "weight     25.9\n",
      "Name: idx_c, dtype: float64\n",
      "------------------------------\n",
      "300.0\n"
     ]
    }
   ],
   "source": [
    "## DataFrame.iterrows()\n",
    "for idx, row in df.iterrows():\n",
    "    print(\"** index name:\", idx)\n",
    "    print(row)\n",
    "    print(\"------\"*5)\n",
    "    print(str(row[0]).strip()) # or row('price')"
   ]
  },
  {
   "cell_type": "markdown",
   "id": "32ab9101",
   "metadata": {},
   "source": [
    "####   (2) DataFrame.iteritems() : 열에 대해 순환 반복"
   ]
  },
  {
   "cell_type": "code",
   "execution_count": 12,
   "id": "49119e06",
   "metadata": {},
   "outputs": [
    {
     "name": "stdout",
     "output_type": "stream",
     "text": [
      "** column name: price\n",
      "idx_a    100\n",
      "idx_b    200\n",
      "idx_c    300\n",
      "Name: price, dtype: int64\n",
      "-------------------------\n",
      "100\n",
      "** column name: weight\n",
      "idx_a    20.3\n",
      "idx_b    15.1\n",
      "idx_c    25.9\n",
      "Name: weight, dtype: float64\n",
      "-------------------------\n",
      "20.3\n"
     ]
    }
   ],
   "source": [
    "for col, item in df.iteritems():\n",
    "    print(\"** column name:\", col)\n",
    "    print(item) # = print(item, sep='\\n')\n",
    "    print(\"-----\"*5)\n",
    "    print(item[0]) # = print(item['idx_a'])"
   ]
  },
  {
   "cell_type": "markdown",
   "id": "d8f019b1",
   "metadata": {},
   "source": [
    "#### (3) DataFrame.itertuples() : 이름이 있는 튜플 (인덱스, 행, 열) 에 대해 순환 반복"
   ]
  },
  {
   "cell_type": "code",
   "execution_count": 13,
   "id": "7d85358e",
   "metadata": {},
   "outputs": [
    {
     "name": "stdout",
     "output_type": "stream",
     "text": [
      "Pandas(Index='idx_a', price=100, weight=20.3)\n",
      "Pandas(Index='idx_b', price=200, weight=15.1)\n",
      "Pandas(Index='idx_c', price=300, weight=25.9)\n"
     ]
    }
   ],
   "source": [
    "for row in df.itertuples():\n",
    "    print(row)"
   ]
  },
  {
   "cell_type": "code",
   "execution_count": 14,
   "id": "778ea4e1",
   "metadata": {},
   "outputs": [
    {
     "name": "stdout",
     "output_type": "stream",
     "text": [
      "Pandas(price=100, weight=20.3)\n",
      "Pandas(price=200, weight=15.1)\n",
      "Pandas(price=300, weight=25.9)\n"
     ]
    }
   ],
   "source": [
    "for row in df.itertuples(index=False):\n",
    "    print(row)"
   ]
  },
  {
   "cell_type": "code",
   "execution_count": 15,
   "id": "0f7c1379",
   "metadata": {},
   "outputs": [
    {
     "name": "stdout",
     "output_type": "stream",
     "text": [
      "Product(Index='idx_a', price=100, weight=20.3)\n",
      "Product(Index='idx_b', price=200, weight=15.1)\n",
      "Product(Index='idx_c', price=300, weight=25.9)\n"
     ]
    }
   ],
   "source": [
    "for row in df.itertuples(name='Product'):\n",
    "    print(row)"
   ]
  },
  {
   "cell_type": "code",
   "execution_count": null,
   "id": "7351417b",
   "metadata": {},
   "outputs": [],
   "source": []
  }
 ],
 "metadata": {
  "kernelspec": {
   "display_name": "Python 3",
   "language": "python",
   "name": "python3"
  },
  "language_info": {
   "codemirror_mode": {
    "name": "ipython",
    "version": 3
   },
   "file_extension": ".py",
   "mimetype": "text/x-python",
   "name": "python",
   "nbconvert_exporter": "python",
   "pygments_lexer": "ipython3",
   "version": "3.8.8"
  }
 },
 "nbformat": 4,
 "nbformat_minor": 5
}
