{
 "cells": [
  {
   "cell_type": "code",
   "execution_count": 7,
   "id": "20248c9e",
   "metadata": {},
   "outputs": [],
   "source": [
    "import pandas as pd"
   ]
  },
  {
   "cell_type": "code",
   "execution_count": 8,
   "id": "b87e9b70",
   "metadata": {},
   "outputs": [],
   "source": [
    "df1=pd.read_csv('C:/Users/areum/Desktop/POC시연자료/연관분석결과.csv')\n",
    "df2=pd.read_csv('C:/Users/areum/Desktop/POC시연자료/연과분석_상픔코드.csv')"
   ]
  },
  {
   "cell_type": "code",
   "execution_count": 10,
   "id": "09318f1f",
   "metadata": {},
   "outputs": [],
   "source": [
    "df1['code1']=df1.Item.str.split('=>').str[0]\n",
    "df1['code1']=df1['code1'].astype('int')"
   ]
  },
  {
   "cell_type": "code",
   "execution_count": 12,
   "id": "63fca509",
   "metadata": {},
   "outputs": [],
   "source": [
    "df1=pd.merge(df1, df2, left_on = 'code1', right_on = '상품코드', how = 'inner')"
   ]
  },
  {
   "cell_type": "code",
   "execution_count": 76,
   "id": "d7c5a9d5",
   "metadata": {},
   "outputs": [],
   "source": [
    "df1['code2']=df1.Item.str.split('=>').str[1]\n",
    "df1['code2']=df1['code2'].astype('int')"
   ]
  },
  {
   "cell_type": "code",
   "execution_count": 78,
   "id": "9b6c36b3",
   "metadata": {},
   "outputs": [],
   "source": [
    "df1=pd.merge(df1, df2, left_on = 'code2', right_on = '상품코드', how = 'inner')"
   ]
  },
  {
   "cell_type": "code",
   "execution_count": 80,
   "id": "a8cb5625",
   "metadata": {},
   "outputs": [],
   "source": [
    "df1=df1[['Item','상품명(기본)_x','상품명(기본)_y']]"
   ]
  },
  {
   "cell_type": "code",
   "execution_count": 81,
   "id": "49cb895a",
   "metadata": {
    "scrolled": true
   },
   "outputs": [
    {
     "data": {
      "text/html": [
       "<div>\n",
       "<style scoped>\n",
       "    .dataframe tbody tr th:only-of-type {\n",
       "        vertical-align: middle;\n",
       "    }\n",
       "\n",
       "    .dataframe tbody tr th {\n",
       "        vertical-align: top;\n",
       "    }\n",
       "\n",
       "    .dataframe thead th {\n",
       "        text-align: right;\n",
       "    }\n",
       "</style>\n",
       "<table border=\"1\" class=\"dataframe\">\n",
       "  <thead>\n",
       "    <tr style=\"text-align: right;\">\n",
       "      <th></th>\n",
       "      <th>Item</th>\n",
       "      <th>상품명(기본)_x</th>\n",
       "      <th>상품명(기본)_y</th>\n",
       "    </tr>\n",
       "  </thead>\n",
       "  <tbody>\n",
       "    <tr>\n",
       "      <th>0</th>\n",
       "      <td>1000000313 =&gt; 1000000310</td>\n",
       "      <td>[링셀]크림X1ea</td>\n",
       "      <td>링셀 수분 단백질 퍼스트 앰플</td>\n",
       "    </tr>\n",
       "    <tr>\n",
       "      <th>1</th>\n",
       "      <td>1000000309 =&gt; 1000000310</td>\n",
       "      <td>링셀 수분 단백질 인텐시브 큐브</td>\n",
       "      <td>링셀 수분 단백질 퍼스트 앰플</td>\n",
       "    </tr>\n",
       "    <tr>\n",
       "      <th>2</th>\n",
       "      <td>1000000313 =&gt; 1000000309</td>\n",
       "      <td>[링셀]크림X1ea</td>\n",
       "      <td>링셀 수분 단백질 인텐시브 큐브</td>\n",
       "    </tr>\n",
       "    <tr>\n",
       "      <th>3</th>\n",
       "      <td>1000000310 =&gt; 1000000309</td>\n",
       "      <td>링셀 수분 단백질 퍼스트 앰플</td>\n",
       "      <td>링셀 수분 단백질 인텐시브 큐브</td>\n",
       "    </tr>\n",
       "    <tr>\n",
       "      <th>4</th>\n",
       "      <td>1000000310 =&gt; 1000000313</td>\n",
       "      <td>링셀 수분 단백질 퍼스트 앰플</td>\n",
       "      <td>[링셀]크림X1ea</td>\n",
       "    </tr>\n",
       "    <tr>\n",
       "      <th>5</th>\n",
       "      <td>1000000309 =&gt; 1000000313</td>\n",
       "      <td>링셀 수분 단백질 인텐시브 큐브</td>\n",
       "      <td>[링셀]크림X1ea</td>\n",
       "    </tr>\n",
       "    <tr>\n",
       "      <th>6</th>\n",
       "      <td>1000000139 =&gt; 1000000140</td>\n",
       "      <td>마이코드 멀티비타민 미네랄 포 우먼 1박스 (2개월분)</td>\n",
       "      <td>[마]비타민 포맨x1ea</td>\n",
       "    </tr>\n",
       "    <tr>\n",
       "      <th>7</th>\n",
       "      <td>1000000140 =&gt; 1000000139</td>\n",
       "      <td>[마]비타민 포맨x1ea</td>\n",
       "      <td>마이코드 멀티비타민 미네랄 포 우먼 1박스 (2개월분)</td>\n",
       "    </tr>\n",
       "    <tr>\n",
       "      <th>8</th>\n",
       "      <td>1000000254 =&gt; 1000000169</td>\n",
       "      <td>데일리오메가3 공용품목(기획세트)</td>\n",
       "      <td>루테인 베타카로틴 공용품목(기획세트)</td>\n",
       "    </tr>\n",
       "    <tr>\n",
       "      <th>9</th>\n",
       "      <td>1000000254 =&gt; 1000000251</td>\n",
       "      <td>데일리오메가3 공용품목(기획세트)</td>\n",
       "      <td>프로폴리스 공용품목(기획세트)</td>\n",
       "    </tr>\n",
       "    <tr>\n",
       "      <th>10</th>\n",
       "      <td>1000000254 =&gt; 1000000286</td>\n",
       "      <td>데일리오메가3 공용품목(기획세트)</td>\n",
       "      <td>칼슘마그네슘망간 플러스 비타민 D.K (3개월분)</td>\n",
       "    </tr>\n",
       "    <tr>\n",
       "      <th>11</th>\n",
       "      <td>1000000254 =&gt; 1000000285</td>\n",
       "      <td>데일리오메가3 공용품목(기획세트)</td>\n",
       "      <td>포스트 액티브 공용품목(기획세트)</td>\n",
       "    </tr>\n",
       "    <tr>\n",
       "      <th>12</th>\n",
       "      <td>1000000169 =&gt; 1000000254</td>\n",
       "      <td>루테인 베타카로틴 공용품목(기획세트)</td>\n",
       "      <td>데일리오메가3 공용품목(기획세트)</td>\n",
       "    </tr>\n",
       "    <tr>\n",
       "      <th>13</th>\n",
       "      <td>1000000251 =&gt; 1000000254</td>\n",
       "      <td>프로폴리스 공용품목(기획세트)</td>\n",
       "      <td>데일리오메가3 공용품목(기획세트)</td>\n",
       "    </tr>\n",
       "    <tr>\n",
       "      <th>14</th>\n",
       "      <td>1000000286 =&gt; 1000000254</td>\n",
       "      <td>칼슘마그네슘망간 플러스 비타민 D.K (3개월분)</td>\n",
       "      <td>데일리오메가3 공용품목(기획세트)</td>\n",
       "    </tr>\n",
       "    <tr>\n",
       "      <th>15</th>\n",
       "      <td>1000000285 =&gt; 1000000254</td>\n",
       "      <td>포스트 액티브 공용품목(기획세트)</td>\n",
       "      <td>데일리오메가3 공용품목(기획세트)</td>\n",
       "    </tr>\n",
       "    <tr>\n",
       "      <th>16</th>\n",
       "      <td>1000000347 =&gt; 1000000348</td>\n",
       "      <td>라보펫 강아지 고양이 관절 연골 영양제 MSM 30일분</td>\n",
       "      <td>라보펫 강아지 고양이유산균 포스트바이오틱스 30일분</td>\n",
       "    </tr>\n",
       "    <tr>\n",
       "      <th>17</th>\n",
       "      <td>1000000348 =&gt; 1000000347</td>\n",
       "      <td>라보펫 강아지 고양이유산균 포스트바이오틱스 30일분</td>\n",
       "      <td>라보펫 강아지 고양이 관절 연골 영양제 MSM 30일분</td>\n",
       "    </tr>\n",
       "    <tr>\n",
       "      <th>18</th>\n",
       "      <td>1000000145 =&gt; 1000000146</td>\n",
       "      <td>[여름] 마이코드 멀티비타민 미네랄 포 우먼 2박스 (4개월분)</td>\n",
       "      <td>[여름] 마이코드 멀티비타민 미네랄 포 맨 2박스 (4개월분)</td>\n",
       "    </tr>\n",
       "    <tr>\n",
       "      <th>19</th>\n",
       "      <td>1000000146 =&gt; 1000000145</td>\n",
       "      <td>[여름] 마이코드 멀티비타민 미네랄 포 맨 2박스 (4개월분)</td>\n",
       "      <td>[여름] 마이코드 멀티비타민 미네랄 포 우먼 2박스 (4개월분)</td>\n",
       "    </tr>\n",
       "  </tbody>\n",
       "</table>\n",
       "</div>"
      ],
      "text/plain": [
       "                        Item                            상품명(기본)_x  \\\n",
       "0   1000000313 => 1000000310                           [링셀]크림X1ea   \n",
       "1   1000000309 => 1000000310                    링셀 수분 단백질 인텐시브 큐브   \n",
       "2   1000000313 => 1000000309                           [링셀]크림X1ea   \n",
       "3   1000000310 => 1000000309                     링셀 수분 단백질 퍼스트 앰플   \n",
       "4   1000000310 => 1000000313                     링셀 수분 단백질 퍼스트 앰플   \n",
       "5   1000000309 => 1000000313                    링셀 수분 단백질 인텐시브 큐브   \n",
       "6   1000000139 => 1000000140       마이코드 멀티비타민 미네랄 포 우먼 1박스 (2개월분)   \n",
       "7   1000000140 => 1000000139                        [마]비타민 포맨x1ea   \n",
       "8   1000000254 => 1000000169                   데일리오메가3 공용품목(기획세트)   \n",
       "9   1000000254 => 1000000251                   데일리오메가3 공용품목(기획세트)   \n",
       "10  1000000254 => 1000000286                   데일리오메가3 공용품목(기획세트)   \n",
       "11  1000000254 => 1000000285                   데일리오메가3 공용품목(기획세트)   \n",
       "12  1000000169 => 1000000254                 루테인 베타카로틴 공용품목(기획세트)   \n",
       "13  1000000251 => 1000000254                     프로폴리스 공용품목(기획세트)   \n",
       "14  1000000286 => 1000000254          칼슘마그네슘망간 플러스 비타민 D.K (3개월분)   \n",
       "15  1000000285 => 1000000254                   포스트 액티브 공용품목(기획세트)   \n",
       "16  1000000347 => 1000000348       라보펫 강아지 고양이 관절 연골 영양제 MSM 30일분   \n",
       "17  1000000348 => 1000000347         라보펫 강아지 고양이유산균 포스트바이오틱스 30일분   \n",
       "18  1000000145 => 1000000146  [여름] 마이코드 멀티비타민 미네랄 포 우먼 2박스 (4개월분)   \n",
       "19  1000000146 => 1000000145   [여름] 마이코드 멀티비타민 미네랄 포 맨 2박스 (4개월분)   \n",
       "\n",
       "                              상품명(기본)_y  \n",
       "0                      링셀 수분 단백질 퍼스트 앰플  \n",
       "1                      링셀 수분 단백질 퍼스트 앰플  \n",
       "2                     링셀 수분 단백질 인텐시브 큐브  \n",
       "3                     링셀 수분 단백질 인텐시브 큐브  \n",
       "4                            [링셀]크림X1ea  \n",
       "5                            [링셀]크림X1ea  \n",
       "6                         [마]비타민 포맨x1ea  \n",
       "7        마이코드 멀티비타민 미네랄 포 우먼 1박스 (2개월분)  \n",
       "8                  루테인 베타카로틴 공용품목(기획세트)  \n",
       "9                      프로폴리스 공용품목(기획세트)  \n",
       "10          칼슘마그네슘망간 플러스 비타민 D.K (3개월분)  \n",
       "11                   포스트 액티브 공용품목(기획세트)  \n",
       "12                   데일리오메가3 공용품목(기획세트)  \n",
       "13                   데일리오메가3 공용품목(기획세트)  \n",
       "14                   데일리오메가3 공용품목(기획세트)  \n",
       "15                   데일리오메가3 공용품목(기획세트)  \n",
       "16         라보펫 강아지 고양이유산균 포스트바이오틱스 30일분  \n",
       "17       라보펫 강아지 고양이 관절 연골 영양제 MSM 30일분  \n",
       "18   [여름] 마이코드 멀티비타민 미네랄 포 맨 2박스 (4개월분)  \n",
       "19  [여름] 마이코드 멀티비타민 미네랄 포 우먼 2박스 (4개월분)  "
      ]
     },
     "execution_count": 81,
     "metadata": {},
     "output_type": "execute_result"
    }
   ],
   "source": [
    "df1"
   ]
  },
  {
   "cell_type": "code",
   "execution_count": 14,
   "id": "a4034050",
   "metadata": {},
   "outputs": [],
   "source": [
    "df = pd.read_excel(\"C:/Users/areum/Desktop/POC시연자료/결과코드매칭.xlsx\")\n",
    "df_item = pd.read_excel(\"C:/Users/areum/Desktop/POC시연자료/결과코드매칭.xlsx\", sheet_name=\"ItemMaster\")\n",
    "#sheet_name 같은 엑셀파일 안에 다른 시트에 존재하면 그 시트 이름을 작성해서 불러올 수 있다."
   ]
  },
  {
   "cell_type": "code",
   "execution_count": 18,
   "id": "fb27ee72",
   "metadata": {},
   "outputs": [
    {
     "data": {
      "text/html": [
       "<div>\n",
       "<style scoped>\n",
       "    .dataframe tbody tr th:only-of-type {\n",
       "        vertical-align: middle;\n",
       "    }\n",
       "\n",
       "    .dataframe tbody tr th {\n",
       "        vertical-align: top;\n",
       "    }\n",
       "\n",
       "    .dataframe thead th {\n",
       "        text-align: right;\n",
       "    }\n",
       "</style>\n",
       "<table border=\"1\" class=\"dataframe\">\n",
       "  <thead>\n",
       "    <tr style=\"text-align: right;\">\n",
       "      <th></th>\n",
       "      <th>Result</th>\n",
       "    </tr>\n",
       "  </thead>\n",
       "  <tbody>\n",
       "    <tr>\n",
       "      <th>0</th>\n",
       "      <td>1000000310 =&gt; 1000000313</td>\n",
       "    </tr>\n",
       "  </tbody>\n",
       "</table>\n",
       "</div>"
      ],
      "text/plain": [
       "                     Result\n",
       "0  1000000310 => 1000000313"
      ]
     },
     "execution_count": 18,
     "metadata": {},
     "output_type": "execute_result"
    }
   ],
   "source": [
    "ㅇㄹ.ㅗ"
   ]
  },
  {
   "cell_type": "code",
   "execution_count": 17,
   "id": "5a83097c",
   "metadata": {},
   "outputs": [
    {
     "data": {
      "text/plain": [
       "<generator object DataFrame.iterrows at 0x0000027F993E2510>"
      ]
     },
     "execution_count": 17,
     "metadata": {},
     "output_type": "execute_result"
    }
   ],
   "source": [
    "df.iterrows()"
   ]
  },
  {
   "cell_type": "code",
   "execution_count": 26,
   "id": "3a805283",
   "metadata": {},
   "outputs": [
    {
     "name": "stdout",
     "output_type": "stream",
     "text": [
      "1000000310 => 1000000313\n",
      "1000000313 => 1000000310\n",
      "1000000139 => 1000000140\n",
      "1000000140 => 1000000139\n",
      "1000000254 => 1000000169\n",
      "1000000169 => 1000000254\n",
      "1000000310 => 1000000309\n",
      "1000000309 => 1000000310\n",
      "1000000348 => 1000000347\n",
      "1000000347 => 1000000348\n",
      "1000000146 => 1000000145\n",
      "1000000145 => 1000000146\n",
      "1000000254 => 1000000251\n",
      "1000000251 => 1000000254\n",
      "1000000254 => 1000000286\n",
      "1000000286 => 1000000254\n",
      "1000000313 => 1000000309\n",
      "1000000309 => 1000000313\n",
      "1000000254 => 1000000285\n",
      "1000000285 => 1000000254\n",
      "[['1000000310', '1000000313'], ['1000000313', '1000000310'], ['1000000139', '1000000140'], ['1000000140', '1000000139'], ['1000000254', '1000000169'], ['1000000169', '1000000254'], ['1000000310', '1000000309'], ['1000000309', '1000000310'], ['1000000348', '1000000347'], ['1000000347', '1000000348'], ['1000000146', '1000000145'], ['1000000145', '1000000146'], ['1000000254', '1000000251'], ['1000000251', '1000000254'], ['1000000254', '1000000286'], ['1000000286', '1000000254'], ['1000000313', '1000000309'], ['1000000309', '1000000313'], ['1000000254', '1000000285'], ['1000000285', '1000000254']]\n"
     ]
    }
   ],
   "source": [
    "tempItem = []\n",
    "itemResultArr = []\n",
    "for idx, rowItem in df.iterrows():\n",
    "    tempItem.append(rowItem[0].split(' => '))\n",
    "    print(rowItem[0])\n",
    "print(tempItem)"
   ]
  },
  {
   "cell_type": "code",
   "execution_count": 41,
   "id": "5ea60d45",
   "metadata": {},
   "outputs": [
    {
     "data": {
      "text/html": [
       "<div>\n",
       "<style scoped>\n",
       "    .dataframe tbody tr th:only-of-type {\n",
       "        vertical-align: middle;\n",
       "    }\n",
       "\n",
       "    .dataframe tbody tr th {\n",
       "        vertical-align: top;\n",
       "    }\n",
       "\n",
       "    .dataframe thead th {\n",
       "        text-align: right;\n",
       "    }\n",
       "</style>\n",
       "<table border=\"1\" class=\"dataframe\">\n",
       "  <thead>\n",
       "    <tr style=\"text-align: right;\">\n",
       "      <th></th>\n",
       "      <th>price</th>\n",
       "      <th>weight</th>\n",
       "    </tr>\n",
       "  </thead>\n",
       "  <tbody>\n",
       "    <tr>\n",
       "      <th>idx_a</th>\n",
       "      <td>100</td>\n",
       "      <td>20.3</td>\n",
       "    </tr>\n",
       "    <tr>\n",
       "      <th>idx_b</th>\n",
       "      <td>200</td>\n",
       "      <td>15.1</td>\n",
       "    </tr>\n",
       "    <tr>\n",
       "      <th>idx_c</th>\n",
       "      <td>300</td>\n",
       "      <td>25.9</td>\n",
       "    </tr>\n",
       "  </tbody>\n",
       "</table>\n",
       "</div>"
      ],
      "text/plain": [
       "       price  weight\n",
       "idx_a    100    20.3\n",
       "idx_b    200    15.1\n",
       "idx_c    300    25.9"
      ]
     },
     "execution_count": 41,
     "metadata": {},
     "output_type": "execute_result"
    }
   ],
   "source": [
    "df = pd.DataFrame(\n",
    "    {'price': [100, 200, 300],\n",
    "     'weight': [20.3, 15.1, 25.9]},\n",
    "    index=['idx_a', 'idx_b', 'idx_c'])\n",
    "\n",
    "df"
   ]
  },
  {
   "cell_type": "code",
   "execution_count": 46,
   "id": "3b09e84c",
   "metadata": {},
   "outputs": [
    {
     "name": "stdout",
     "output_type": "stream",
     "text": [
      "** index name: idx_a\n",
      "price     100.0\n",
      "weight     20.3\n",
      "Name: idx_a, dtype: float64\n",
      "------------------------------\n",
      "20.3\n",
      "** index name: idx_b\n",
      "price     200.0\n",
      "weight     15.1\n",
      "Name: idx_b, dtype: float64\n",
      "------------------------------\n",
      "15.1\n",
      "** index name: idx_c\n",
      "price     300.0\n",
      "weight     25.9\n",
      "Name: idx_c, dtype: float64\n",
      "------------------------------\n",
      "25.9\n"
     ]
    }
   ],
   "source": [
    "## DataFrame.iterrows()\n",
    "for idx, row in df.iterrows():\n",
    "    print(\"** index name:\", idx)\n",
    "    print(row)\n",
    "    print(\"------\"*5)\n",
    "    print(str(row[1]).strip())"
   ]
  },
  {
   "cell_type": "code",
   "execution_count": null,
   "id": "d0bd3cec",
   "metadata": {},
   "outputs": [],
   "source": []
  },
  {
   "cell_type": "code",
   "execution_count": null,
   "id": "3f50236b",
   "metadata": {},
   "outputs": [],
   "source": []
  }
 ],
 "metadata": {
  "kernelspec": {
   "display_name": "Python 3",
   "language": "python",
   "name": "python3"
  },
  "language_info": {
   "codemirror_mode": {
    "name": "ipython",
    "version": 3
   },
   "file_extension": ".py",
   "mimetype": "text/x-python",
   "name": "python",
   "nbconvert_exporter": "python",
   "pygments_lexer": "ipython3",
   "version": "3.8.8"
  }
 },
 "nbformat": 4,
 "nbformat_minor": 5
}
