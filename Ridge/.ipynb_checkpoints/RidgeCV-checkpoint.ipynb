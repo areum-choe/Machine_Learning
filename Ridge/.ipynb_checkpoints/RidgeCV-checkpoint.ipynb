{
 "cells": [
  {
   "cell_type": "code",
   "execution_count": 1,
   "id": "c58e1566",
   "metadata": {},
   "outputs": [],
   "source": [
    "import numpy as np\n",
    "import pandas as pd\n",
    "from sklearn.linear_model import Ridge, Lasso, ElasticNet\n",
    "from sklearn.metrics import mean_squared_error,r2_score\n",
    "from sklearn.model_selection import train_test_split, cross_val_score\n",
    "from sklearn import model_selection\n",
    "import matplotlib.pyplot as plt\n",
    "from sklearn.linear_model import RidgeCV, LassoCV,ElasticNetCV\n",
    "from sklearn.metrics import mean_absolute_error"
   ]
  },
  {
   "cell_type": "code",
   "execution_count": 2,
   "id": "2a4b7f07",
   "metadata": {},
   "outputs": [],
   "source": [
    "df = pd.read_csv('C:/Users/areum/Desktop/POC시연자료/상관분석_혈압나이성별온도.csv')\n",
    "df['sex'] = df['sex'].map({'F':0, 'M':1})\n",
    "df = df.dropna(axis=0)\n",
    "df = df.astype('float')\n",
    "x = df.iloc[:, 1:]\n",
    "y = df.iloc[:, [0]]\n",
    "x_train, x_test,y_train, y_test =train_test_split(x,y,train_size = 0.8,\n",
    "                                                  test_size = 0.2,random_state=42)"
   ]
  },
  {
   "cell_type": "markdown",
   "id": "2c68d9b2",
   "metadata": {},
   "source": [
    "- RidgeCV는 최적의 알파값을 찾고, CV라는 파라미터를 통해 cross validation을 자체적으로 진행해 성능에 대한 검토를 한다.\n",
    "\n",
    "- cv(cross validation)는 여기서 K-fold 교차 검증을 뜻하는 것인데, 이 원리는 간단히 말해 데이터를 train set과 test set으로 나누듯 지정된 k개로 나눈뒤 k번씩 자체적인 검증을 해 정확도를 올리기 위한 파라미터이다. 데이터가 부족해 교차검증이 힘든경우에도 이를 통해 자체적인 교차검증을 할 수 있다."
   ]
  },
  {
   "cell_type": "code",
   "execution_count": 3,
   "id": "f0bd3ec4",
   "metadata": {},
   "outputs": [],
   "source": [
    "from sklearn.linear_model import RidgeCV\n",
    "\n",
    "alphas = [1e-3, 1e-2, 1e-1, 1, 10, 100, 1000]\n",
    "\n",
    "# RidgeCV모델 작성 람다는 1부터 50까지로 설정\n",
    "model1 = RidgeCV(alphas = alphas, cv = 2) \n",
    "model1.fit(x_train, y_train)\n",
    "y_pred = model1.predict(x_test)"
   ]
  },
  {
   "cell_type": "code",
   "execution_count": 4,
   "id": "32875920",
   "metadata": {
    "scrolled": true
   },
   "outputs": [
    {
     "data": {
      "text/plain": [
       "0.001"
      ]
     },
     "execution_count": 4,
     "metadata": {},
     "output_type": "execute_result"
    }
   ],
   "source": [
    "model1.alpha_"
   ]
  },
  {
   "cell_type": "code",
   "execution_count": 5,
   "id": "72a58e66",
   "metadata": {},
   "outputs": [],
   "source": [
    "mae = mean_absolute_error(y_test, y_pred)\n",
    "r2 = r2_score(y_test, y_pred)"
   ]
  },
  {
   "cell_type": "code",
   "execution_count": 6,
   "id": "37a68bb1",
   "metadata": {},
   "outputs": [
    {
     "data": {
      "text/plain": [
       "0.6562480756953908"
      ]
     },
     "execution_count": 6,
     "metadata": {},
     "output_type": "execute_result"
    }
   ],
   "source": [
    "r2"
   ]
  },
  {
   "cell_type": "code",
   "execution_count": 33,
   "id": "2ddbee95",
   "metadata": {},
   "outputs": [
    {
     "data": {
      "text/plain": [
       "0.001"
      ]
     },
     "execution_count": 33,
     "metadata": {},
     "output_type": "execute_result"
    }
   ],
   "source": [
    "1e-3"
   ]
  },
  {
   "cell_type": "code",
   "execution_count": 38,
   "id": "d0e629f1",
   "metadata": {},
   "outputs": [],
   "source": [
    "mae = mean_absolute_error(y_test, y_pred)\n",
    "r2 = r2_score(y_test, y_pred)"
   ]
  },
  {
   "cell_type": "code",
   "execution_count": 39,
   "id": "4a79cd9b",
   "metadata": {},
   "outputs": [
    {
     "data": {
      "text/plain": [
       "0.6562480756953908"
      ]
     },
     "execution_count": 39,
     "metadata": {},
     "output_type": "execute_result"
    }
   ],
   "source": [
    "r2"
   ]
  },
  {
   "cell_type": "code",
   "execution_count": 58,
   "id": "5b880b47",
   "metadata": {},
   "outputs": [],
   "source": [
    "rst_radj = (round(r2_score(y_test, y_pred),3)) * 100"
   ]
  },
  {
   "cell_type": "code",
   "execution_count": 57,
   "id": "45e97545",
   "metadata": {},
   "outputs": [
    {
     "data": {
      "text/plain": [
       "65.60000000000001"
      ]
     },
     "execution_count": 57,
     "metadata": {},
     "output_type": "execute_result"
    }
   ],
   "source": [
    "rst_radj"
   ]
  },
  {
   "cell_type": "code",
   "execution_count": 8,
   "id": "8cf15d8c",
   "metadata": {},
   "outputs": [],
   "source": [
    "alpha=0.01\n",
    "ratios = [0.2, 0.5, 0.8]\n",
    "elasticnet = ElasticNet(alpha=1.0, l1_ratio=0.5)\n",
    "elasticnet.fit(x_train, y_train)\n",
    "y_pred = elasticnet.predict(x_test)"
   ]
  },
  {
   "cell_type": "code",
   "execution_count": null,
   "id": "54d7cbf2",
   "metadata": {},
   "outputs": [],
   "source": [
    "y_pre"
   ]
  }
 ],
 "metadata": {
  "kernelspec": {
   "display_name": "Python 3",
   "language": "python",
   "name": "python3"
  },
  "language_info": {
   "codemirror_mode": {
    "name": "ipython",
    "version": 3
   },
   "file_extension": ".py",
   "mimetype": "text/x-python",
   "name": "python",
   "nbconvert_exporter": "python",
   "pygments_lexer": "ipython3",
   "version": "3.8.8"
  }
 },
 "nbformat": 4,
 "nbformat_minor": 5
}
