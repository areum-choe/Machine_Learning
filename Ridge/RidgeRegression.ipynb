{
 "cells": [
  {
   "cell_type": "code",
   "execution_count": 35,
   "metadata": {},
   "outputs": [],
   "source": [
    "import pandas as pd\n",
    "from sklearn.model_selection import train_test_split\n",
    "from sklearn.linear_model import LinearRegression\n",
    "from sklearn.linear_model import Ridge\n",
    "\n",
    "df = pd.read_csv('C:/Users/areum/Desktop/POC시연자료/상관분석_혈압나이성별온도.csv')"
   ]
  },
  {
   "cell_type": "code",
   "execution_count": 36,
   "metadata": {},
   "outputs": [],
   "source": [
    "df['sex'] = df['sex'].map({'F':0, 'M':1})"
   ]
  },
  {
   "cell_type": "code",
   "execution_count": 37,
   "metadata": {},
   "outputs": [],
   "source": [
    "df = df.dropna(axis=0)\n",
    "df = df.astype('float')"
   ]
  },
  {
   "cell_type": "code",
   "execution_count": 38,
   "metadata": {},
   "outputs": [],
   "source": [
    "x = df.iloc[:, 1:]\n",
    "y = df.iloc[:, [0]]"
   ]
  },
  {
   "cell_type": "code",
   "execution_count": 39,
   "metadata": {},
   "outputs": [],
   "source": [
    "x_train, x_test,y_train, y_test =train_test_split(x,y,train_size = 0.8,\n",
    "                                                  test_size = 0.2,random_state=42)"
   ]
  },
  {
   "cell_type": "code",
   "execution_count": 40,
   "metadata": {},
   "outputs": [
    {
     "data": {
      "text/plain": [
       "((1771, 7), (443, 7))"
      ]
     },
     "execution_count": 40,
     "metadata": {},
     "output_type": "execute_result"
    }
   ],
   "source": [
    "x_train.shape, x_test.shape"
   ]
  },
  {
   "cell_type": "code",
   "execution_count": 41,
   "metadata": {},
   "outputs": [
    {
     "name": "stdout",
     "output_type": "stream",
     "text": [
      "0.651257932734155\n",
      "0.6563987131830106\n"
     ]
    }
   ],
   "source": [
    "# 모델 적용\n",
    "ridge = Ridge()\n",
    "ridge.fit(x_train, y_train)\n",
    "print(ridge.score(x_train,y_train))\n",
    "print(ridge.score(x_test, y_test))"
   ]
  },
  {
   "cell_type": "code",
   "execution_count": 42,
   "metadata": {
    "scrolled": false
   },
   "outputs": [],
   "source": [
    "# 모델을 사용해서 만든 예측값\n",
    "y_predict = ridge.predict(x_test)"
   ]
  },
  {
   "cell_type": "code",
   "execution_count": 43,
   "metadata": {},
   "outputs": [],
   "source": [
    "# 실제 키 값\n",
    "y_test=y_test.reset_index(drop=True)\n",
    "y_test.columns = ['실제값']"
   ]
  },
  {
   "cell_type": "code",
   "execution_count": 44,
   "metadata": {},
   "outputs": [
    {
     "data": {
      "text/html": [
       "<div>\n",
       "<style scoped>\n",
       "    .dataframe tbody tr th:only-of-type {\n",
       "        vertical-align: middle;\n",
       "    }\n",
       "\n",
       "    .dataframe tbody tr th {\n",
       "        vertical-align: top;\n",
       "    }\n",
       "\n",
       "    .dataframe thead th {\n",
       "        text-align: right;\n",
       "    }\n",
       "</style>\n",
       "<table border=\"1\" class=\"dataframe\">\n",
       "  <thead>\n",
       "    <tr style=\"text-align: right;\">\n",
       "      <th></th>\n",
       "      <th>실제값</th>\n",
       "      <th>예측값</th>\n",
       "    </tr>\n",
       "  </thead>\n",
       "  <tbody>\n",
       "    <tr>\n",
       "      <th>0</th>\n",
       "      <td>168.4</td>\n",
       "      <td>170.488008</td>\n",
       "    </tr>\n",
       "    <tr>\n",
       "      <th>1</th>\n",
       "      <td>168.0</td>\n",
       "      <td>165.316359</td>\n",
       "    </tr>\n",
       "    <tr>\n",
       "      <th>2</th>\n",
       "      <td>158.0</td>\n",
       "      <td>161.534781</td>\n",
       "    </tr>\n",
       "    <tr>\n",
       "      <th>3</th>\n",
       "      <td>169.0</td>\n",
       "      <td>170.445533</td>\n",
       "    </tr>\n",
       "    <tr>\n",
       "      <th>4</th>\n",
       "      <td>165.0</td>\n",
       "      <td>168.316135</td>\n",
       "    </tr>\n",
       "    <tr>\n",
       "      <th>...</th>\n",
       "      <td>...</td>\n",
       "      <td>...</td>\n",
       "    </tr>\n",
       "    <tr>\n",
       "      <th>438</th>\n",
       "      <td>175.2</td>\n",
       "      <td>172.142337</td>\n",
       "    </tr>\n",
       "    <tr>\n",
       "      <th>439</th>\n",
       "      <td>163.2</td>\n",
       "      <td>160.149289</td>\n",
       "    </tr>\n",
       "    <tr>\n",
       "      <th>440</th>\n",
       "      <td>154.0</td>\n",
       "      <td>160.306124</td>\n",
       "    </tr>\n",
       "    <tr>\n",
       "      <th>441</th>\n",
       "      <td>167.0</td>\n",
       "      <td>172.772881</td>\n",
       "    </tr>\n",
       "    <tr>\n",
       "      <th>442</th>\n",
       "      <td>158.0</td>\n",
       "      <td>160.174270</td>\n",
       "    </tr>\n",
       "  </tbody>\n",
       "</table>\n",
       "<p>443 rows × 2 columns</p>\n",
       "</div>"
      ],
      "text/plain": [
       "       실제값         예측값\n",
       "0    168.4  170.488008\n",
       "1    168.0  165.316359\n",
       "2    158.0  161.534781\n",
       "3    169.0  170.445533\n",
       "4    165.0  168.316135\n",
       "..     ...         ...\n",
       "438  175.2  172.142337\n",
       "439  163.2  160.149289\n",
       "440  154.0  160.306124\n",
       "441  167.0  172.772881\n",
       "442  158.0  160.174270\n",
       "\n",
       "[443 rows x 2 columns]"
      ]
     },
     "execution_count": 44,
     "metadata": {},
     "output_type": "execute_result"
    }
   ],
   "source": [
    "result_all=pd.concat([y_test,pd.DataFrame(y_predict, columns=['예측값'])], axis=1)\n",
    "result_all"
   ]
  },
  {
   "cell_type": "code",
   "execution_count": 45,
   "metadata": {},
   "outputs": [],
   "source": [
    "오차값=result_all.실제값-result_all.예측값"
   ]
  },
  {
   "cell_type": "code",
   "execution_count": 46,
   "metadata": {},
   "outputs": [],
   "source": [
    "result_all=pd.concat([result_all, pd.DataFrame(result_all.실제값-result_all.예측값,columns=['오차값'])],axis=1)"
   ]
  },
  {
   "cell_type": "code",
   "execution_count": 93,
   "metadata": {
    "scrolled": true
   },
   "outputs": [
    {
     "data": {
      "image/png": "[encoded data removed]",
      "text/plain": [
       "<Figure size 432x288 with 1 Axes>"
      ]
     },
     "metadata": {
      "needs_background": "light"
     },
     "output_type": "display_data"
    }
   ],
   "source": [
    "# 위 예측값과 실제 키 값을 시각화\n",
    "import matplotlib.pyplot as plt\n",
    "plt.scatter(result_all.실제값, result_all.예측값, alpha=0.4)\n",
    "plt.xlabel(\"Actual Height\")\n",
    "plt.ylabel(\"Predicted Height\")\n",
    "plt.title(\"RIDGE REGRESSION\")\n",
    "plt.show()"
   ]
  },
  {
   "cell_type": "code",
   "execution_count": 88,
   "metadata": {},
   "outputs": [],
   "source": [
    "import matplotlib.pyplot as plt\n",
    "train_score=[]\n",
    "test_score=[]\n",
    "Ridge_alpha=[]"
   ]
  },
  {
   "cell_type": "code",
   "execution_count": 89,
   "metadata": {},
   "outputs": [],
   "source": [
    "alpha_list=[0.001,0.01,0.1,10,100]\n",
    "for alpha in alpha_list:\n",
    "    ridge=Ridge(alpha=alpha)\n",
    "    ridge.fit(x_train,y_train)\n",
    "    Ridge_alpha.append(alpha)\n",
    "    train_score.append(ridge.score(x_train, y_train))\n",
    "    test_score.append(ridge.score(x_test, y_test))"
   ]
  },
  {
   "cell_type": "code",
   "execution_count": 76,
   "metadata": {},
   "outputs": [
    {
     "data": {
      "image/png": "[encoded data removed]",
      "text/plain": [
       "<Figure size 1800x576 with 5 Axes>"
      ]
     },
     "metadata": {
      "needs_background": "light"
     },
     "output_type": "display_data"
    }
   ],
   "source": [
    "import matplotlib.pyplot as plt\n",
    "import seaborn as sns\n",
    "%matplotlib inline\n",
    "alphas = [0.01, 0.1, 1, 10, 100]\n",
    "fig, axs = plt.subplots(figsize  = (25,8), nrows = 1, ncols = 5)\n",
    "\n",
    "coeff_df = pd.DataFrame()\n",
    "\n",
    "for pos, alpha in enumerate(alphas):\n",
    "    ridge = Ridge(alpha = alpha)\n",
    "    ridge.fit(x_train, y_train)\n",
    "    \n",
    "    coeff = pd.Series(data = np.array(ridge.coef_).reshape(7), index = x_train.columns)\n",
    "    colnames = 'alhpa : ' + str(alpha)\n",
    "    coeff_df[colnames] = coeff\n",
    "    \n",
    "    coeff = coeff.sort_values(ascending=False)\n",
    "    axs[pos].set_title(colnames)\n",
    "    axs[pos].set_xlim(-3,6)\n",
    "    sns.barplot(x=coeff.values, y=coeff.index, ax=axs[pos])\n",
    "    plt.savefig('image.png')"
   ]
  },
  {
   "cell_type": "code",
   "execution_count": 77,
   "metadata": {},
   "outputs": [
    {
     "data": {
      "text/plain": [
       "sex            8.806365\n",
       "weight         0.126488\n",
       "systolic      -0.000832\n",
       "diastolic     -0.002286\n",
       "pulse         -0.010956\n",
       "temperature   -0.155366\n",
       "age           -0.178631\n",
       "dtype: float64"
      ]
     },
     "execution_count": 77,
     "metadata": {},
     "output_type": "execute_result"
    }
   ],
   "source": [
    "coeff"
   ]
  },
  {
   "cell_type": "code",
   "execution_count": 71,
   "metadata": {},
   "outputs": [
    {
     "data": {
      "text/plain": [
       "array([-1.78630728e-01,  8.80636523e+00,  1.26488130e-01, -2.28555243e-03,\n",
       "       -8.31951325e-04, -1.55366161e-01, -1.09560483e-02])"
      ]
     },
     "execution_count": 71,
     "metadata": {},
     "output_type": "execute_result"
    }
   ],
   "source": [
    "np.array(ridge.coef_).reshape(7)"
   ]
  },
  {
   "cell_type": "code",
   "execution_count": 72,
   "metadata": {},
   "outputs": [
    {
     "data": {
      "text/plain": [
       "Index(['age', 'sex', 'weight', 'diastolic', 'systolic', 'temperature',\n",
       "       'pulse'],\n",
       "      dtype='object')"
      ]
     },
     "execution_count": 72,
     "metadata": {},
     "output_type": "execute_result"
    }
   ],
   "source": [
    "x_train.columns"
   ]
  },
  {
   "cell_type": "code",
   "execution_count": 82,
   "metadata": {},
   "outputs": [
    {
     "data": {
      "image/png": "[encoded data removed]",
      "text/plain": [
       "<Figure size 432x288 with 1 Axes>"
      ]
     },
     "metadata": {
      "needs_background": "light"
     },
     "output_type": "display_data"
    }
   ],
   "source": [
    "import numpy as np\n",
    "plt.plot(np.log10(alpha_list), train_score)\n",
    "plt.plot(np.log10(alpha_list), test_score)\n",
    "plt.xlabel('alpha')\n",
    "plt.ylabel('R^2')\n",
    "plt.show()"
   ]
  },
  {
   "cell_type": "code",
   "execution_count": 19,
   "metadata": {},
   "outputs": [],
   "source": [
    "col_name1=['train_score_alpha']\n",
    "train_score_alpha=pd.DataFrame(train_score, columns=col_name1)\n",
    "\n",
    "col_name2=['test_score_alpha']\n",
    "test_score_alpha=pd.DataFrame(test_score, columns=col_name2)"
   ]
  },
  {
   "cell_type": "code",
   "execution_count": 90,
   "metadata": {},
   "outputs": [
    {
     "name": "stdout",
     "output_type": "stream",
     "text": [
      "0.6512602911903115\n",
      "0.6562494569898103\n"
     ]
    }
   ],
   "source": [
    "ridge=Ridge(alpha=0.01)\n",
    "ridge.fit(x_train,y_train)\n",
    "print(ridge.score(x_train,y_train))\n",
    "print(ridge.score(x_test, y_test))"
   ]
  },
  {
   "cell_type": "code",
   "execution_count": 21,
   "metadata": {},
   "outputs": [],
   "source": [
    "from sklearn.metrics import r2_score,mean_absolute_error, mean_squared_error"
   ]
  },
  {
   "cell_type": "code",
   "execution_count": 22,
   "metadata": {},
   "outputs": [],
   "source": [
    "ridge_r2=r2_score(y_test,y_predict)\n",
    "ridge_mse=mean_squared_error(y_test,y_predict)\n",
    "ridge_mae=mean_absolute_error(y_test,y_predict)"
   ]
  },
  {
   "cell_type": "code",
   "execution_count": 23,
   "metadata": {},
   "outputs": [],
   "source": [
    "Ridge_r2 = [str(ridge_r2)]\n",
    "Ridge_r2 = pd.DataFrame(Ridge_r2)\n",
    "Ridge_r2.rename(columns={Ridge_r2.columns[0]: \"R2_score\"}, inplace=True)\n",
    "\n",
    "Ridge_mse = [str(ridge_mse)]\n",
    "Ridge_mse = pd.DataFrame(Ridge_mse)\n",
    "Ridge_mse.rename(columns={Ridge_mse.columns[0]: \"MSE\"}, inplace=True)\n",
    "\n",
    "Ridge_mae = [str(ridge_mae)]\n",
    "Ridge_mae= pd.DataFrame(Ridge_mae)\n",
    "Ridge_mae.rename(columns={Ridge_mae.columns[0]: \"MAE\"}, inplace=True)"
   ]
  },
  {
   "cell_type": "code",
   "execution_count": 24,
   "metadata": {},
   "outputs": [],
   "source": [
    "corr_df = df.corr()\n",
    "corr_df = corr_df.apply(lambda x: round(x, 2))\n",
    "corr_df_unstack = corr_df.unstack()"
   ]
  },
  {
   "cell_type": "code",
   "execution_count": 25,
   "metadata": {},
   "outputs": [],
   "source": [
    "corr_df2=corr_df.reset_index()"
   ]
  },
  {
   "cell_type": "code",
   "execution_count": 26,
   "metadata": {},
   "outputs": [
    {
     "data": {
      "text/html": [
       "<div>\n",
       "<style scoped>\n",
       "    .dataframe tbody tr th:only-of-type {\n",
       "        vertical-align: middle;\n",
       "    }\n",
       "\n",
       "    .dataframe tbody tr th {\n",
       "        vertical-align: top;\n",
       "    }\n",
       "\n",
       "    .dataframe thead th {\n",
       "        text-align: right;\n",
       "    }\n",
       "</style>\n",
       "<table border=\"1\" class=\"dataframe\">\n",
       "  <thead>\n",
       "    <tr style=\"text-align: right;\">\n",
       "      <th></th>\n",
       "      <th>index</th>\n",
       "      <th>height</th>\n",
       "      <th>age</th>\n",
       "      <th>sex</th>\n",
       "      <th>weight</th>\n",
       "      <th>diastolic</th>\n",
       "      <th>systolic</th>\n",
       "      <th>temperature</th>\n",
       "      <th>pulse</th>\n",
       "    </tr>\n",
       "  </thead>\n",
       "  <tbody>\n",
       "    <tr>\n",
       "      <th>0</th>\n",
       "      <td>height</td>\n",
       "      <td>1.00</td>\n",
       "      <td>-0.39</td>\n",
       "      <td>0.71</td>\n",
       "      <td>0.51</td>\n",
       "      <td>0.05</td>\n",
       "      <td>0.14</td>\n",
       "      <td>-0.04</td>\n",
       "      <td>0.01</td>\n",
       "    </tr>\n",
       "    <tr>\n",
       "      <th>1</th>\n",
       "      <td>age</td>\n",
       "      <td>-0.39</td>\n",
       "      <td>1.00</td>\n",
       "      <td>-0.08</td>\n",
       "      <td>-0.16</td>\n",
       "      <td>-0.02</td>\n",
       "      <td>0.10</td>\n",
       "      <td>-0.04</td>\n",
       "      <td>-0.15</td>\n",
       "    </tr>\n",
       "    <tr>\n",
       "      <th>2</th>\n",
       "      <td>sex</td>\n",
       "      <td>0.71</td>\n",
       "      <td>-0.08</td>\n",
       "      <td>1.00</td>\n",
       "      <td>0.42</td>\n",
       "      <td>0.07</td>\n",
       "      <td>0.22</td>\n",
       "      <td>-0.07</td>\n",
       "      <td>-0.02</td>\n",
       "    </tr>\n",
       "    <tr>\n",
       "      <th>3</th>\n",
       "      <td>weight</td>\n",
       "      <td>0.51</td>\n",
       "      <td>-0.16</td>\n",
       "      <td>0.42</td>\n",
       "      <td>1.00</td>\n",
       "      <td>0.12</td>\n",
       "      <td>0.29</td>\n",
       "      <td>-0.02</td>\n",
       "      <td>0.01</td>\n",
       "    </tr>\n",
       "    <tr>\n",
       "      <th>4</th>\n",
       "      <td>diastolic</td>\n",
       "      <td>0.05</td>\n",
       "      <td>-0.02</td>\n",
       "      <td>0.07</td>\n",
       "      <td>0.12</td>\n",
       "      <td>1.00</td>\n",
       "      <td>0.39</td>\n",
       "      <td>-0.00</td>\n",
       "      <td>0.07</td>\n",
       "    </tr>\n",
       "    <tr>\n",
       "      <th>5</th>\n",
       "      <td>systolic</td>\n",
       "      <td>0.14</td>\n",
       "      <td>0.10</td>\n",
       "      <td>0.22</td>\n",
       "      <td>0.29</td>\n",
       "      <td>0.39</td>\n",
       "      <td>1.00</td>\n",
       "      <td>0.01</td>\n",
       "      <td>0.11</td>\n",
       "    </tr>\n",
       "    <tr>\n",
       "      <th>6</th>\n",
       "      <td>temperature</td>\n",
       "      <td>-0.04</td>\n",
       "      <td>-0.04</td>\n",
       "      <td>-0.07</td>\n",
       "      <td>-0.02</td>\n",
       "      <td>-0.00</td>\n",
       "      <td>0.01</td>\n",
       "      <td>1.00</td>\n",
       "      <td>0.07</td>\n",
       "    </tr>\n",
       "    <tr>\n",
       "      <th>7</th>\n",
       "      <td>pulse</td>\n",
       "      <td>0.01</td>\n",
       "      <td>-0.15</td>\n",
       "      <td>-0.02</td>\n",
       "      <td>0.01</td>\n",
       "      <td>0.07</td>\n",
       "      <td>0.11</td>\n",
       "      <td>0.07</td>\n",
       "      <td>1.00</td>\n",
       "    </tr>\n",
       "  </tbody>\n",
       "</table>\n",
       "</div>"
      ],
      "text/plain": [
       "         index  height   age   sex  weight  diastolic  systolic  temperature  \\\n",
       "0       height    1.00 -0.39  0.71    0.51       0.05      0.14        -0.04   \n",
       "1          age   -0.39  1.00 -0.08   -0.16      -0.02      0.10        -0.04   \n",
       "2          sex    0.71 -0.08  1.00    0.42       0.07      0.22        -0.07   \n",
       "3       weight    0.51 -0.16  0.42    1.00       0.12      0.29        -0.02   \n",
       "4    diastolic    0.05 -0.02  0.07    0.12       1.00      0.39        -0.00   \n",
       "5     systolic    0.14  0.10  0.22    0.29       0.39      1.00         0.01   \n",
       "6  temperature   -0.04 -0.04 -0.07   -0.02      -0.00      0.01         1.00   \n",
       "7        pulse    0.01 -0.15 -0.02    0.01       0.07      0.11         0.07   \n",
       "\n",
       "   pulse  \n",
       "0   0.01  \n",
       "1  -0.15  \n",
       "2  -0.02  \n",
       "3   0.01  \n",
       "4   0.07  \n",
       "5   0.11  \n",
       "6   0.07  \n",
       "7   1.00  "
      ]
     },
     "execution_count": 26,
     "metadata": {},
     "output_type": "execute_result"
    }
   ],
   "source": [
    "corr_df2"
   ]
  },
  {
   "cell_type": "code",
   "execution_count": 27,
   "metadata": {},
   "outputs": [],
   "source": [
    "result_all = pd.concat([result_all,corr_df2 ], axis=1)\n",
    "\n",
    "result_all = pd.concat([result_all,train_score_alpha ], axis=1)\n",
    "result_all = pd.concat([result_all,test_score_alpha ], axis=1)\n",
    "\n",
    "result_all = pd.concat([result_all,Ridge_r2 ], axis=1)\n",
    "result_all = pd.concat([result_all,Ridge_mse ], axis=1)\n",
    "result_all = pd.concat([result_all,Ridge_mae ], axis=1)"
   ]
  },
  {
   "cell_type": "code",
   "execution_count": 28,
   "metadata": {},
   "outputs": [
    {
     "data": {
      "text/html": [
       "<div>\n",
       "<style scoped>\n",
       "    .dataframe tbody tr th:only-of-type {\n",
       "        vertical-align: middle;\n",
       "    }\n",
       "\n",
       "    .dataframe tbody tr th {\n",
       "        vertical-align: top;\n",
       "    }\n",
       "\n",
       "    .dataframe thead th {\n",
       "        text-align: right;\n",
       "    }\n",
       "</style>\n",
       "<table border=\"1\" class=\"dataframe\">\n",
       "  <thead>\n",
       "    <tr style=\"text-align: right;\">\n",
       "      <th></th>\n",
       "      <th>x</th>\n",
       "      <th>y</th>\n",
       "      <th>index</th>\n",
       "      <th>height</th>\n",
       "      <th>age</th>\n",
       "      <th>sex</th>\n",
       "      <th>weight</th>\n",
       "      <th>diastolic</th>\n",
       "      <th>systolic</th>\n",
       "      <th>temperature</th>\n",
       "      <th>pulse</th>\n",
       "      <th>train_score_alpha</th>\n",
       "      <th>test_score_alpha</th>\n",
       "      <th>R2_score</th>\n",
       "      <th>MSE</th>\n",
       "      <th>MAE</th>\n",
       "    </tr>\n",
       "  </thead>\n",
       "  <tbody>\n",
       "    <tr>\n",
       "      <th>0</th>\n",
       "      <td>168</td>\n",
       "      <td>170.393542</td>\n",
       "      <td>height</td>\n",
       "      <td>1.00</td>\n",
       "      <td>-0.39</td>\n",
       "      <td>0.71</td>\n",
       "      <td>0.51</td>\n",
       "      <td>0.05</td>\n",
       "      <td>0.14</td>\n",
       "      <td>-0.04</td>\n",
       "      <td>0.01</td>\n",
       "      <td>0.650488</td>\n",
       "      <td>0.653100</td>\n",
       "      <td>0.653257838258368</td>\n",
       "      <td>28.781537656859477</td>\n",
       "      <td>4.196340792367492</td>\n",
       "    </tr>\n",
       "    <tr>\n",
       "      <th>1</th>\n",
       "      <td>168</td>\n",
       "      <td>165.262647</td>\n",
       "      <td>age</td>\n",
       "      <td>-0.39</td>\n",
       "      <td>1.00</td>\n",
       "      <td>-0.08</td>\n",
       "      <td>-0.16</td>\n",
       "      <td>-0.02</td>\n",
       "      <td>0.10</td>\n",
       "      <td>-0.04</td>\n",
       "      <td>-0.15</td>\n",
       "      <td>0.650488</td>\n",
       "      <td>0.653101</td>\n",
       "      <td>NaN</td>\n",
       "      <td>NaN</td>\n",
       "      <td>NaN</td>\n",
       "    </tr>\n",
       "    <tr>\n",
       "      <th>2</th>\n",
       "      <td>158</td>\n",
       "      <td>161.473601</td>\n",
       "      <td>sex</td>\n",
       "      <td>0.71</td>\n",
       "      <td>-0.08</td>\n",
       "      <td>1.00</td>\n",
       "      <td>0.42</td>\n",
       "      <td>0.07</td>\n",
       "      <td>0.22</td>\n",
       "      <td>-0.07</td>\n",
       "      <td>-0.02</td>\n",
       "      <td>0.650488</td>\n",
       "      <td>0.653116</td>\n",
       "      <td>NaN</td>\n",
       "      <td>NaN</td>\n",
       "      <td>NaN</td>\n",
       "    </tr>\n",
       "    <tr>\n",
       "      <th>3</th>\n",
       "      <td>169</td>\n",
       "      <td>170.388350</td>\n",
       "      <td>weight</td>\n",
       "      <td>0.51</td>\n",
       "      <td>-0.16</td>\n",
       "      <td>0.42</td>\n",
       "      <td>1.00</td>\n",
       "      <td>0.12</td>\n",
       "      <td>0.29</td>\n",
       "      <td>-0.02</td>\n",
       "      <td>0.01</td>\n",
       "      <td>0.650264</td>\n",
       "      <td>0.654447</td>\n",
       "      <td>NaN</td>\n",
       "      <td>NaN</td>\n",
       "      <td>NaN</td>\n",
       "    </tr>\n",
       "    <tr>\n",
       "      <th>4</th>\n",
       "      <td>165</td>\n",
       "      <td>168.246794</td>\n",
       "      <td>diastolic</td>\n",
       "      <td>0.05</td>\n",
       "      <td>-0.02</td>\n",
       "      <td>0.07</td>\n",
       "      <td>0.12</td>\n",
       "      <td>1.00</td>\n",
       "      <td>0.39</td>\n",
       "      <td>-0.00</td>\n",
       "      <td>0.07</td>\n",
       "      <td>0.636004</td>\n",
       "      <td>0.651627</td>\n",
       "      <td>NaN</td>\n",
       "      <td>NaN</td>\n",
       "      <td>NaN</td>\n",
       "    </tr>\n",
       "    <tr>\n",
       "      <th>...</th>\n",
       "      <td>...</td>\n",
       "      <td>...</td>\n",
       "      <td>...</td>\n",
       "      <td>...</td>\n",
       "      <td>...</td>\n",
       "      <td>...</td>\n",
       "      <td>...</td>\n",
       "      <td>...</td>\n",
       "      <td>...</td>\n",
       "      <td>...</td>\n",
       "      <td>...</td>\n",
       "      <td>...</td>\n",
       "      <td>...</td>\n",
       "      <td>...</td>\n",
       "      <td>...</td>\n",
       "      <td>...</td>\n",
       "    </tr>\n",
       "    <tr>\n",
       "      <th>438</th>\n",
       "      <td>175</td>\n",
       "      <td>172.039251</td>\n",
       "      <td>NaN</td>\n",
       "      <td>NaN</td>\n",
       "      <td>NaN</td>\n",
       "      <td>NaN</td>\n",
       "      <td>NaN</td>\n",
       "      <td>NaN</td>\n",
       "      <td>NaN</td>\n",
       "      <td>NaN</td>\n",
       "      <td>NaN</td>\n",
       "      <td>NaN</td>\n",
       "      <td>NaN</td>\n",
       "      <td>NaN</td>\n",
       "      <td>NaN</td>\n",
       "      <td>NaN</td>\n",
       "    </tr>\n",
       "    <tr>\n",
       "      <th>439</th>\n",
       "      <td>163</td>\n",
       "      <td>159.992088</td>\n",
       "      <td>NaN</td>\n",
       "      <td>NaN</td>\n",
       "      <td>NaN</td>\n",
       "      <td>NaN</td>\n",
       "      <td>NaN</td>\n",
       "      <td>NaN</td>\n",
       "      <td>NaN</td>\n",
       "      <td>NaN</td>\n",
       "      <td>NaN</td>\n",
       "      <td>NaN</td>\n",
       "      <td>NaN</td>\n",
       "      <td>NaN</td>\n",
       "      <td>NaN</td>\n",
       "      <td>NaN</td>\n",
       "    </tr>\n",
       "    <tr>\n",
       "      <th>440</th>\n",
       "      <td>154</td>\n",
       "      <td>160.266414</td>\n",
       "      <td>NaN</td>\n",
       "      <td>NaN</td>\n",
       "      <td>NaN</td>\n",
       "      <td>NaN</td>\n",
       "      <td>NaN</td>\n",
       "      <td>NaN</td>\n",
       "      <td>NaN</td>\n",
       "      <td>NaN</td>\n",
       "      <td>NaN</td>\n",
       "      <td>NaN</td>\n",
       "      <td>NaN</td>\n",
       "      <td>NaN</td>\n",
       "      <td>NaN</td>\n",
       "      <td>NaN</td>\n",
       "    </tr>\n",
       "    <tr>\n",
       "      <th>441</th>\n",
       "      <td>167</td>\n",
       "      <td>172.746787</td>\n",
       "      <td>NaN</td>\n",
       "      <td>NaN</td>\n",
       "      <td>NaN</td>\n",
       "      <td>NaN</td>\n",
       "      <td>NaN</td>\n",
       "      <td>NaN</td>\n",
       "      <td>NaN</td>\n",
       "      <td>NaN</td>\n",
       "      <td>NaN</td>\n",
       "      <td>NaN</td>\n",
       "      <td>NaN</td>\n",
       "      <td>NaN</td>\n",
       "      <td>NaN</td>\n",
       "      <td>NaN</td>\n",
       "    </tr>\n",
       "    <tr>\n",
       "      <th>442</th>\n",
       "      <td>158</td>\n",
       "      <td>160.063328</td>\n",
       "      <td>NaN</td>\n",
       "      <td>NaN</td>\n",
       "      <td>NaN</td>\n",
       "      <td>NaN</td>\n",
       "      <td>NaN</td>\n",
       "      <td>NaN</td>\n",
       "      <td>NaN</td>\n",
       "      <td>NaN</td>\n",
       "      <td>NaN</td>\n",
       "      <td>NaN</td>\n",
       "      <td>NaN</td>\n",
       "      <td>NaN</td>\n",
       "      <td>NaN</td>\n",
       "      <td>NaN</td>\n",
       "    </tr>\n",
       "  </tbody>\n",
       "</table>\n",
       "<p>443 rows × 16 columns</p>\n",
       "</div>"
      ],
      "text/plain": [
       "       x           y      index  height   age   sex  weight  diastolic  \\\n",
       "0    168  170.393542     height    1.00 -0.39  0.71    0.51       0.05   \n",
       "1    168  165.262647        age   -0.39  1.00 -0.08   -0.16      -0.02   \n",
       "2    158  161.473601        sex    0.71 -0.08  1.00    0.42       0.07   \n",
       "3    169  170.388350     weight    0.51 -0.16  0.42    1.00       0.12   \n",
       "4    165  168.246794  diastolic    0.05 -0.02  0.07    0.12       1.00   \n",
       "..   ...         ...        ...     ...   ...   ...     ...        ...   \n",
       "438  175  172.039251        NaN     NaN   NaN   NaN     NaN        NaN   \n",
       "439  163  159.992088        NaN     NaN   NaN   NaN     NaN        NaN   \n",
       "440  154  160.266414        NaN     NaN   NaN   NaN     NaN        NaN   \n",
       "441  167  172.746787        NaN     NaN   NaN   NaN     NaN        NaN   \n",
       "442  158  160.063328        NaN     NaN   NaN   NaN     NaN        NaN   \n",
       "\n",
       "     systolic  temperature  pulse  train_score_alpha  test_score_alpha  \\\n",
       "0        0.14        -0.04   0.01           0.650488          0.653100   \n",
       "1        0.10        -0.04  -0.15           0.650488          0.653101   \n",
       "2        0.22        -0.07  -0.02           0.650488          0.653116   \n",
       "3        0.29        -0.02   0.01           0.650264          0.654447   \n",
       "4        0.39        -0.00   0.07           0.636004          0.651627   \n",
       "..        ...          ...    ...                ...               ...   \n",
       "438       NaN          NaN    NaN                NaN               NaN   \n",
       "439       NaN          NaN    NaN                NaN               NaN   \n",
       "440       NaN          NaN    NaN                NaN               NaN   \n",
       "441       NaN          NaN    NaN                NaN               NaN   \n",
       "442       NaN          NaN    NaN                NaN               NaN   \n",
       "\n",
       "              R2_score                 MSE                MAE  \n",
       "0    0.653257838258368  28.781537656859477  4.196340792367492  \n",
       "1                  NaN                 NaN                NaN  \n",
       "2                  NaN                 NaN                NaN  \n",
       "3                  NaN                 NaN                NaN  \n",
       "4                  NaN                 NaN                NaN  \n",
       "..                 ...                 ...                ...  \n",
       "438                NaN                 NaN                NaN  \n",
       "439                NaN                 NaN                NaN  \n",
       "440                NaN                 NaN                NaN  \n",
       "441                NaN                 NaN                NaN  \n",
       "442                NaN                 NaN                NaN  \n",
       "\n",
       "[443 rows x 16 columns]"
      ]
     },
     "execution_count": 28,
     "metadata": {},
     "output_type": "execute_result"
    }
   ],
   "source": [
    "result_all"
   ]
  },
  {
   "cell_type": "code",
   "execution_count": 67,
   "metadata": {},
   "outputs": [],
   "source": [
    " a = pd.DataFrame(list(zip(x_train.columns, np.array(ridge.coef_).reshape(7))),columns=['features', 'importances']).sort_values('importances')"
   ]
  },
  {
   "cell_type": "code",
   "execution_count": 69,
   "metadata": {},
   "outputs": [
    {
     "data": {
      "text/plain": [
       "array([-1.76036410e-01,  1.12626197e+01,  1.01052438e-01, -8.61552151e-04,\n",
       "       -1.03696704e-02, -9.67547610e-02, -8.95264734e-03])"
      ]
     },
     "execution_count": 69,
     "metadata": {},
     "output_type": "execute_result"
    }
   ],
   "source": [
    "np.array(ridge.coef_).reshape(7)"
   ]
  },
  {
   "cell_type": "code",
   "execution_count": 88,
   "metadata": {},
   "outputs": [],
   "source": [
    "ridge01 = Ridge(alpha=0.1).fit(x_train, y_train)"
   ]
  },
  {
   "cell_type": "code",
   "execution_count": 101,
   "metadata": {},
   "outputs": [
    {
     "data": {
      "text/plain": [
       "Text(0.5, 1.0, 'Ridge alpha=0.01')"
      ]
     },
     "execution_count": 101,
     "metadata": {},
     "output_type": "execute_result"
    },
    {
     "data": {
      "image/png": "[encoded data removed]",
      "text/plain": [
       "<Figure size 432x288 with 1 Axes>"
      ]
     },
     "metadata": {
      "needs_background": "light"
     },
     "output_type": "display_data"
    }
   ],
   "source": [
    "plt.subplot(2, 2, 4)\n",
    "plt.hlines(0,0, len(np.array(ridge01.coef_).reshape(7)))\n",
    "plt.plot(np.array(ridge01.coef_).reshape(7), 's', label=\"Ridge alpha=0.01\")\n",
    "plt.title('Ridge alpha=0.01')"
   ]
  },
  {
   "cell_type": "code",
   "execution_count": 102,
   "metadata": {},
   "outputs": [
    {
     "data": {
      "text/plain": [
       "array([[-1.76037095e-01,  1.12632784e+01,  1.01293899e-01,\n",
       "        -8.12976037e-04, -1.09618979e-02, -6.37070257e-02,\n",
       "        -9.12025565e-03]])"
      ]
     },
     "execution_count": 102,
     "metadata": {},
     "output_type": "execute_result"
    }
   ],
   "source": [
    "ridge01.coef_"
   ]
  },
  {
   "cell_type": "code",
   "execution_count": 92,
   "metadata": {},
   "outputs": [
    {
     "data": {
      "text/plain": [
       "7"
      ]
     },
     "execution_count": 92,
     "metadata": {},
     "output_type": "execute_result"
    }
   ],
   "source": [
    "len(np.array(ridge.coef_).reshape(7))"
   ]
  },
  {
   "cell_type": "code",
   "execution_count": 92,
   "metadata": {},
   "outputs": [
    {
     "name": "stdout",
     "output_type": "stream",
     "text": [
      "Test MAE: $4\n",
      "R2 Score: 0.6569\n",
      "\n",
      "alpha: 0.1\n",
      "cv best score: 0.5812090692205603\n"
     ]
    }
   ],
   "source": [
    "from sklearn.linear_model import RidgeCV\n",
    "from sklearn.metrics import mean_absolute_error, r2_score\n",
    "\n",
    "alphas = [0, 0.001, 0.01, 0.1, 1]\n",
    "\n",
    "# RidgeCV는 alpha로 넣고자 하는 값들을 리스트로 전달하면 내부적으로 최적의 alpha값을 찾아냄\n",
    "ridgecv = RidgeCV(alphas=alphas, normalize=True, cv=5)\n",
    "# cv : cross-validation -> 데이터를 k등분한 후 각각에 대하여 검증 진행\n",
    "# 검증 결과 가장 점수가 높은 모델을 채택\n",
    "ridgecv.fit(x_train, y_train)\n",
    "y_pred = ridgecv.predict(x_test)\n",
    "\n",
    "mae = mean_absolute_error(y_test, y_pred)\n",
    "r2 = r2_score(y_test, y_pred)\n",
    "print(f'Test MAE: ${mae:,.0f}')\n",
    "print(f'R2 Score: {r2:,.4f}\\n')\n",
    "\n",
    "print(f'alpha: {ridgecv.alpha_}') # 최종 결정된 alpha값\n",
    "print(f'cv best score: {ridgecv.best_score_}') "
   ]
  },
  {
   "cell_type": "code",
   "execution_count": null,
   "metadata": {},
   "outputs": [],
   "source": []
  }
 ],
 "metadata": {
  "kernelspec": {
   "display_name": "Python 3",
   "language": "python",
   "name": "python3"
  },
  "language_info": {
   "codemirror_mode": {
    "name": "ipython",
    "version": 3
   },
   "file_extension": ".py",
   "mimetype": "text/x-python",
   "name": "python",
   "nbconvert_exporter": "python",
   "pygments_lexer": "ipython3",
   "version": "3.8.8"
  },
  "toc": {
   "base_numbering": 1,
   "nav_menu": {},
   "number_sections": true,
   "sideBar": true,
   "skip_h1_title": false,
   "title_cell": "Table of Contents",
   "title_sidebar": "Contents",
   "toc_cell": false,
   "toc_position": {},
   "toc_section_display": true,
   "toc_window_display": false
  }
 },
 "nbformat": 4,
 "nbformat_minor": 4
}
