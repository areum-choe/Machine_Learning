{
 "cells": [
  {
   "cell_type": "code",
   "execution_count": 14,
   "id": "2fe3affb",
   "metadata": {},
   "outputs": [],
   "source": [
    "import pandas as pd\n",
    "from sklearn.ensemble import RandomForestClassifier\n",
    "from sklearn.model_selection import train_test_split, GridSearchCV\n",
    "from sklearn.metrics import accuracy_score # 정확도 함수"
   ]
  },
  {
   "cell_type": "code",
   "execution_count": 15,
   "id": "12825f66",
   "metadata": {},
   "outputs": [],
   "source": [
    "df = pd.read_csv('C:/Users/areum/Desktop/POC시연자료/상관분석_혈압나이성별온도.csv')"
   ]
  },
  {
   "cell_type": "code",
   "execution_count": 16,
   "id": "fc14d498",
   "metadata": {},
   "outputs": [],
   "source": [
    "df['sex'] = df['sex'].map({'F':0, 'M':1})\n",
    "df = df.dropna(axis=0)\n",
    "df = df.astype('float')\n",
    "x = df.iloc[:, 1:]\n",
    "y = df.iloc[:, [0]]\n",
    "y = y.astype('int')"
   ]
  },
  {
   "cell_type": "code",
   "execution_count": 17,
   "id": "46f7008e",
   "metadata": {},
   "outputs": [],
   "source": [
    "train_x, test_x, train_y, test_y = train_test_split(x, y, test_size = 0.2, random_state=42)"
   ]
  },
  {
   "cell_type": "code",
   "execution_count": 5,
   "id": "0158d0d0",
   "metadata": {},
   "outputs": [],
   "source": [
    "rf= RandomForestClassifier(random_state=1)"
   ]
  },
  {
   "cell_type": "code",
   "execution_count": 33,
   "id": "f2ab67ef",
   "metadata": {},
   "outputs": [],
   "source": [
    "param_grid = [{'max_features':range(1,4), 'max_depth':range(3,5)}]"
   ]
  },
  {
   "cell_type": "code",
   "execution_count": 34,
   "id": "b5ee6567",
   "metadata": {},
   "outputs": [],
   "source": [
    "gs = GridSearchCV(rf, param_grid=param_grid, scoring='accuracy', cv=5, n_jobs=-1)"
   ]
  },
  {
   "cell_type": "code",
   "execution_count": 35,
   "id": "0fec410e",
   "metadata": {},
   "outputs": [
    {
     "name": "stderr",
     "output_type": "stream",
     "text": [
      "C:\\Users\\areum\\conda\\lib\\site-packages\\sklearn\\model_selection\\_split.py:666: UserWarning: The least populated class in y has only 1 members, which is less than n_splits=5.\n",
      "  warnings.warn((\"The least populated class in y has only %d\"\n",
      "C:\\Users\\areum\\conda\\lib\\site-packages\\sklearn\\model_selection\\_search.py:880: DataConversionWarning: A column-vector y was passed when a 1d array was expected. Please change the shape of y to (n_samples,), for example using ravel().\n",
      "  self.best_estimator_.fit(X, y, **fit_params)\n"
     ]
    },
    {
     "data": {
      "text/plain": [
       "GridSearchCV(cv=5, estimator=RandomForestClassifier(random_state=1), n_jobs=-1,\n",
       "             param_grid=[{'max_depth': range(3, 5),\n",
       "                          'max_features': range(1, 4)}],\n",
       "             scoring='accuracy')"
      ]
     },
     "execution_count": 35,
     "metadata": {},
     "output_type": "execute_result"
    }
   ],
   "source": [
    "gs.fit(train_x, train_y)"
   ]
  },
  {
   "cell_type": "code",
   "execution_count": 40,
   "id": "4b626543",
   "metadata": {},
   "outputs": [
    {
     "data": {
      "text/plain": [
       "{'max_depth': 4, 'max_features': 2}"
      ]
     },
     "execution_count": 40,
     "metadata": {},
     "output_type": "execute_result"
    }
   ],
   "source": [
    "gs.best_params_"
   ]
  },
  {
   "cell_type": "code",
   "execution_count": 18,
   "id": "af140ff4",
   "metadata": {},
   "outputs": [
    {
     "name": "stderr",
     "output_type": "stream",
     "text": [
      "C:\\Users\\areum\\conda\\lib\\site-packages\\sklearn\\model_selection\\_split.py:666: UserWarning: The least populated class in y has only 1 members, which is less than n_splits=3.\n",
      "  warnings.warn((\"The least populated class in y has only %d\"\n",
      "C:\\Users\\areum\\conda\\lib\\site-packages\\sklearn\\model_selection\\_search.py:880: DataConversionWarning: A column-vector y was passed when a 1d array was expected. Please change the shape of y to (n_samples,), for example using ravel().\n",
      "  self.best_estimator_.fit(X, y, **fit_params)\n"
     ]
    },
    {
     "name": "stdout",
     "output_type": "stream",
     "text": [
      "최적 하이퍼 파라미터:  {'max_depth': 4, 'min_samples_leaf': 4, 'min_samples_split': 16, 'n_estimators': 100}\n",
      "최고 예측 정확도: 0.1050\n"
     ]
    }
   ],
   "source": [
    "params = {'n_estimators':[100],\n",
    "    'max_depth':[2 ,4 ,6, 8, 10, 12],\n",
    "    'min_samples_leaf':[2 ,4, 6, 8, 12, 18],\n",
    "    'min_samples_split':[2 ,4, 6, 8, 16, 20]}\n",
    "\n",
    "# RandomForestClassifier 객체 생성 후 GridSearchCV 수행\n",
    "rf_clf = RandomForestClassifier(random_state = 0, n_jobs = -1)\n",
    "grid_cv = GridSearchCV(rf_clf, param_grid = params, cv = 3, n_jobs = -1)\n",
    "grid_cv.fit(train_x, train_y)\n",
    "\n",
    "print('최적 하이퍼 파라미터: ', grid_cv.best_params_)\n",
    "print('최고 예측 정확도: {:.4f}'.format(grid_cv.best_score_))"
   ]
  },
  {
   "cell_type": "code",
   "execution_count": 8,
   "id": "12b2aed9",
   "metadata": {},
   "outputs": [
    {
     "data": {
      "text/plain": [
       "0.09993881862590459"
      ]
     },
     "execution_count": 8,
     "metadata": {},
     "output_type": "execute_result"
    }
   ],
   "source": [
    "grid_cv.best_score_"
   ]
  },
  {
   "cell_type": "code",
   "execution_count": 12,
   "id": "df121655",
   "metadata": {},
   "outputs": [
    {
     "name": "stderr",
     "output_type": "stream",
     "text": [
      "<ipython-input-12-c38a74cac35e>:5: DataConversionWarning: A column-vector y was passed when a 1d array was expected. Please change the shape of y to (n_samples,), for example using ravel().\n",
      "  rf_clf1.fit(train_x,train_y)\n"
     ]
    },
    {
     "name": "stdout",
     "output_type": "stream",
     "text": [
      "예측 정확도: 0.1061\n"
     ]
    }
   ],
   "source": [
    "rf_clf1 = RandomForestClassifier(n_estimators = 100, \n",
    "                                max_depth = 6,\n",
    "                                min_samples_leaf = 8,\n",
    "                                min_samples_split =8)\n",
    "rf_clf1.fit(train_x,train_y)\n",
    "pred = rf_clf1.predict(test_x)\n",
    "print('예측 정확도: {:.4f}'.format(accuracy_score(test_y,preed))"
   ]
  },
  {
   "cell_type": "code",
   "execution_count": null,
   "id": "4a434ea2",
   "metadata": {},
   "outputs": [],
   "source": []
  }
 ],
 "metadata": {
  "kernelspec": {
   "display_name": "Python 3",
   "language": "python",
   "name": "python3"
  },
  "language_info": {
   "codemirror_mode": {
    "name": "ipython",
    "version": 3
   },
   "file_extension": ".py",
   "mimetype": "text/x-python",
   "name": "python",
   "nbconvert_exporter": "python",
   "pygments_lexer": "ipython3",
   "version": "3.8.8"
  }
 },
 "nbformat": 4,
 "nbformat_minor": 5
}
